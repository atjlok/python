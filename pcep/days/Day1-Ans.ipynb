{
 "cells": [
  {
   "cell_type": "markdown",
   "id": "a01699b9",
   "metadata": {},
   "source": [
    "Task 1: Display Specific Output with Comments"
   ]
  },
  {
   "cell_type": "code",
   "execution_count": null,
   "id": "d85aac05",
   "metadata": {},
   "outputs": [],
   "source": [
    "# This script displays two lines of text using the print() function.\n",
    "# The first line is a greeting message.\n",
    "# The second line is an introductory statement.\n",
    "\n",
    "# Display the greeting message\n",
    "\n",
    "print(\"Hello, Python!\")\n",
    "\n",
    "# Display the introductory statement\n",
    "\n",
    "print(\"Welcome to programming.\")"
   ]
  },
  {
   "cell_type": "markdown",
   "id": "f38813d1",
   "metadata": {},
   "source": [
    "Task 2: Display Words Separated by Hyphens"
   ]
  },
  {
   "cell_type": "code",
   "execution_count": null,
   "id": "44db9841",
   "metadata": {},
   "outputs": [],
   "source": [
    "# This script uses the print() function to display a sentence with words separated by hyphens (-).\n",
    "\n",
    "# Display the sentence with words separated by hyphens\n",
    "\n",
    "print(\"Python-is-fun-to-learn\")"
   ]
  }
 ],
 "metadata": {
  "kernelspec": {
   "display_name": "Python 3 (ipykernel)",
   "language": "python",
   "name": "python3"
  },
  "language_info": {
   "codemirror_mode": {
    "name": "ipython",
    "version": 3
   },
   "file_extension": ".py",
   "mimetype": "text/x-python",
   "name": "python",
   "nbconvert_exporter": "python",
   "pygments_lexer": "ipython3",
   "version": "3.11.5"
  }
 },
 "nbformat": 4,
 "nbformat_minor": 5
}
