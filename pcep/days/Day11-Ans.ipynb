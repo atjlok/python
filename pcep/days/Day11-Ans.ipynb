{
 "cells": [
  {
   "cell_type": "markdown",
   "id": "c046b154",
   "metadata": {},
   "source": [
    "Task 1: Function to Return the Reciprocal of a Number"
   ]
  },
  {
   "cell_type": "code",
   "execution_count": null,
   "id": "c6ae4cce",
   "metadata": {},
   "outputs": [],
   "source": [
    "# Write a function that takes a number and returns the reciprocal.\n",
    "# If the number is zero, handle the exception and print a message indicating that division by zero is not allowed.\n",
    "\n",
    "def reciprocal(number):\n",
    "    try:\n",
    "        return 1 / number\n",
    "    except ZeroDivisionError:\n",
    "        return \"Division by zero is not allowed!\"\n",
    "\n",
    "# Example usage\n",
    "\n",
    "print(reciprocal(5))  # Output: 0.2\n",
    "print(reciprocal(0))  # Output: Division by zero is not allowed!"
   ]
  },
  {
   "cell_type": "markdown",
   "id": "89544082",
   "metadata": {},
   "source": [
    "Task 2: Script to Prompt User for Input and Handle Invalid Conversion"
   ]
  },
  {
   "cell_type": "code",
   "execution_count": null,
   "id": "264beded",
   "metadata": {},
   "outputs": [],
   "source": [
    "# Create a script that prompts the user for input and attempts to convert it into an integer.\n",
    "# If the user inputs an invalid number, catch the exception and display an error message.\n",
    "\n",
    "user_input = input(\"Enter a number: \")\n",
    "try:\n",
    "    number = int(user_input)\n",
    "    print(f\"You entered: {number}\")\n",
    "except ValueError:\n",
    "    print(\"Invalid input! Please enter a valid number.\")"
   ]
  },
  {
   "cell_type": "markdown",
   "id": "34553f02",
   "metadata": {},
   "source": [
    "Task 3: Program Using try, except, and else to Open a File"
   ]
  },
  {
   "cell_type": "code",
   "execution_count": null,
   "id": "69937082",
   "metadata": {},
   "outputs": [],
   "source": [
    "# Write a program using try, except, and else:\n",
    "# Try to open a file that doesn’t exist. If the file doesn’t exist, catch the exception and print an error message.\n",
    "# If the file exists, print the contents of the file.\n",
    "\n",
    "try:\n",
    "    with open('non_existent_file.txt', 'r') as file:\n",
    "        content = file.read()\n",
    "        print(content)\n",
    "except FileNotFoundError:\n",
    "    print(\"Error: The file does not exist!\")\n",
    "else:\n",
    "    print(\"File opened successfully!\") "
   ]
  },
  {
   "cell_type": "markdown",
   "id": "f6106df0",
   "metadata": {},
   "source": [
    "Task 4: Function to Convert String to Number and Raise Exception if Invalid    "
   ]
  },
  {
   "cell_type": "code",
   "execution_count": null,
   "id": "6116e818",
   "metadata": {},
   "outputs": [],
   "source": [
    "# Write a function that takes a string as input, tries to convert it to a number,\n",
    "# and raises an exception if the input is not a valid number.\n",
    "\n",
    "def convert_to_number(string):\n",
    "    try:\n",
    "        number = float(string)\n",
    "        return number\n",
    "    except ValueError:\n",
    "        raise ValueError(\"Input is not a valid number!\")\n",
    "\n",
    "# Example usage\n",
    "\n",
    "print(convert_to_number(\"12.5\"))  # Output: 12.5\n",
    "# print(convert_to_number(\"abc\"))  # This would raise a ValueError"
   ]
  },
  {
   "cell_type": "markdown",
   "id": "8e120599",
   "metadata": {},
   "source": [
    "Task 5: Script to Prompt User for Positive Number and Raise Exception for Negative"
   ]
  },
  {
   "cell_type": "code",
   "execution_count": null,
   "id": "cbb297c1",
   "metadata": {},
   "outputs": [],
   "source": [
    "# Create a script that prompts the user for a number and checks if the number is positive.\n",
    "# If it's negative, raise an exception with a custom message.\n",
    "\n",
    "user_input = input(\"Enter a positive number: \")\n",
    "try:\n",
    "    number = float(user_input)\n",
    "    if number < 0:\n",
    "        raise ValueError(\"The number cannot be negative!\")\n",
    "    print(f\"You entered a positive number: {number}\")\n",
    "except ValueError as e:\n",
    "    print(f\"Error: {e}\")"
   ]
  }
 ],
 "metadata": {
  "kernelspec": {
   "display_name": "Python 3 (ipykernel)",
   "language": "python",
   "name": "python3"
  },
  "language_info": {
   "codemirror_mode": {
    "name": "ipython",
    "version": 3
   },
   "file_extension": ".py",
   "mimetype": "text/x-python",
   "name": "python",
   "nbconvert_exporter": "python",
   "pygments_lexer": "ipython3",
   "version": "3.11.5"
  }
 },
 "nbformat": 4,
 "nbformat_minor": 5
}
