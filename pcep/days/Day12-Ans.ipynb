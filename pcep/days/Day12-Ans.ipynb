{
 "cells": [
  {
   "cell_type": "markdown",
   "id": "2c86d3cc",
   "metadata": {},
   "source": [
    "Task 1: Utility Functions in a Python File"
   ]
  },
  {
   "cell_type": "markdown",
   "id": "3b6b1b48",
   "metadata": {},
   "source": [
    "```    \n",
    "# utility_functions.py\n",
    "\n",
    "# Function to add two numbers\n",
    "\n",
    "def add(a, b):\n",
    "    return a + b\n",
    "\n",
    "# Function to subtract two numbers\n",
    "\n",
    "def subtract(a, b):\n",
    "    return a - b\n",
    "\n",
    "# Function to multiply two numbers\n",
    "\n",
    "def multiply(a, b):\n",
    "    return a * b\n",
    "\n",
    "\n",
    "\n",
    "# main_script.py\n",
    "\n",
    "# Importing the utility functions from the file 'utility_functions.py'\n",
    "\n",
    "from utility_functions import add, subtract, multiply\n",
    "\n",
    "# Using the imported functions\n",
    "\n",
    "print(f\"Addition of 5 and 3: {add(5, 3)}\")\n",
    "print(f\"Subtraction of 5 and 3: {subtract(5, 3)}\")\n",
    "print(f\"Multiplication of 5 and 3: {multiply(5, 3)}\")\n",
    "```"
   ]
  },
  {
   "cell_type": "markdown",
   "id": "43f1b08d",
   "metadata": {},
   "source": [
    "Task 2: Function to Calculate Area of a Circle"
   ]
  },
  {
   "cell_type": "markdown",
   "id": "bef90188",
   "metadata": {},
   "source": [
    "```\n",
    "# circle_area.py\n",
    "\n",
    "import math\n",
    "\n",
    "# Function to calculate the area of a circle\n",
    "\n",
    "def area_of_circle(radius):\n",
    "    return math.pi * radius ** 2\n",
    "main_script.py\n",
    "\n",
    "\n",
    "# main_script.py\n",
    "\n",
    "# Importing the function from 'circle_area.py'\n",
    "\n",
    "from circle_area import area_of_circle\n",
    "\n",
    "# Using the function to calculate the area of a circle with radius 5\n",
    "\n",
    "radius = 5\n",
    "area = area_of_circle(radius)\n",
    "print(f\"The area of a circle with radius {radius} is: {area}\")\n",
    "```"
   ]
  },
  {
   "cell_type": "markdown",
   "id": "0da38ee7",
   "metadata": {},
   "source": [
    "Task 3: Use the Math Module to Perform Calculations"
   ]
  },
  {
   "cell_type": "markdown",
   "id": "8de7a411",
   "metadata": {},
   "source": [
    "```\n",
    "# script.py\n",
    "\n",
    "import math\n",
    "\n",
    "# Compute the square root of 25\n",
    "\n",
    "sqrt_25 = math.sqrt(25)\n",
    "\n",
    "# Compute 2 raised to the power of 5\n",
    "\n",
    "power = math.pow(2, 5)\n",
    "\n",
    "# Compute the cosine of an angle (let's assume the angle is 0 degrees)\n",
    "\n",
    "cosine = math.cos(0)\n",
    "\n",
    "# Printing the results\n",
    "\n",
    "print(f\"Square root of 25: {sqrt_25}\")\n",
    "print(f\"2 raised to the power of 5: {power}\")\n",
    "print(f\"Cosine of 0 degrees: {cosine}\")\n",
    "```"
   ]
  },
  {
   "cell_type": "markdown",
   "id": "c213c84e",
   "metadata": {},
   "source": [
    "Task 4: Create a Package with Two Modules"
   ]
  },
  {
   "cell_type": "markdown",
   "id": "1c6785f4",
   "metadata": {},
   "source": [
    "```\n",
    "# module1.py\n",
    "\n",
    "# Function to calculate the square of a number\n",
    "\n",
    "def square(number):\n",
    "    return number ** 2\n",
    "module2.py\n",
    "\n",
    "# module2.py\n",
    "\n",
    "# Function to calculate the cube of a number\n",
    "\n",
    "def cube(number):\n",
    "    return number ** 3\n",
    "\n",
    "# __init__.py\n",
    "\n",
    "# Importing both the functions from module1 and module2\n",
    "\n",
    "from .module1 import square\n",
    "from .module2 import cube\n",
    "\n",
    "\n",
    "# main_script.py\n",
    "\n",
    "# Importing the functions from the package\n",
    "\n",
    "from package_name import square, cube\n",
    "\n",
    "# Using the functions\n",
    "\n",
    "number = 3\n",
    "print(f\"The square of {number} is: {square(number)}\")\n",
    "print(f\"The cube of {number} is: {cube(number)}\")\n",
    "\n",
    "# Note: Replace package_name with the actual name of the directory where the modules and __init__.py file are stored.\n",
    "```"
   ]
  },
  {
   "cell_type": "markdown",
   "id": "da454a44",
   "metadata": {},
   "source": [
    "Task 5: Use an Alias for the datetime Module"
   ]
  },
  {
   "cell_type": "markdown",
   "id": "4e442b5e",
   "metadata": {},
   "source": [
    "```\n",
    "# script.py\n",
    "\n",
    "# Importing datetime module using an alias\n",
    "\n",
    "import datetime as dt\n",
    "\n",
    "# Get the current date and time\n",
    "\n",
    "current_datetime = dt.datetime.now()\n",
    "\n",
    "# Print the current date and time in a formatted string\n",
    "\n",
    "formatted_datetime = current_datetime.strftime(\"%Y-%m-%d %H:%M:%S\")\n",
    "print(f\"Current date and time: {formatted_datetime}\")\n",
    "```"
   ]
  }
 ],
 "metadata": {
  "kernelspec": {
   "display_name": "Python 3 (ipykernel)",
   "language": "python",
   "name": "python3"
  },
  "language_info": {
   "codemirror_mode": {
    "name": "ipython",
    "version": 3
   },
   "file_extension": ".py",
   "mimetype": "text/x-python",
   "name": "python",
   "nbconvert_exporter": "python",
   "pygments_lexer": "ipython3",
   "version": "3.11.5"
  }
 },
 "nbformat": 4,
 "nbformat_minor": 5
}
