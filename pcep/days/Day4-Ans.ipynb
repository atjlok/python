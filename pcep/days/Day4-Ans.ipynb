{
 "cells": [
  {
   "cell_type": "markdown",
   "id": "35f6a447",
   "metadata": {},
   "source": [
    "Task 1: Check if a Number is Positive, Negative, or Zero    "
   ]
  },
  {
   "cell_type": "code",
   "execution_count": null,
   "id": "b717112b",
   "metadata": {},
   "outputs": [],
   "source": [
    "# This script checks if a given number is positive, negative, or zero.\n",
    "\n",
    "# Input: Number to check\n",
    "\n",
    "number = float(input(\"Enter a number: \"))\n",
    "\n",
    "# Check the conditions\n",
    "\n",
    "if number > 0:\n",
    "    print(\"The number is positive.\")\n",
    "elif number < 0:\n",
    "    print(\"The number is negative.\")\n",
    "else:\n",
    "    print(\"The number is zero.\")\n",
    "    "
   ]
  },
  {
   "cell_type": "markdown",
   "id": "57150c12",
   "metadata": {},
   "source": [
    "Task 2: Create a Grading System    "
   ]
  },
  {
   "cell_type": "code",
   "execution_count": null,
   "id": "11456c11",
   "metadata": {},
   "outputs": [],
   "source": [
    "# This script assigns a grade based on the score.\n",
    "\n",
    "# Input: Score to grade\n",
    "\n",
    "score = int(input(\"Enter the score (0-100): \"))\n",
    "\n",
    "# Assign the grade\n",
    "\n",
    "if score > 90:\n",
    "    print(\"Grade: Excellent\")\n",
    "elif 70 <= score <= 90:\n",
    "    print(\"Grade: Good\")\n",
    "else:\n",
    "    print(\"Grade: Needs Improvement\")    "
   ]
  },
  {
   "cell_type": "markdown",
   "id": "6879639e",
   "metadata": {},
   "source": [
    "Task 3: Check Divisibility and Print Appropriate Message"
   ]
  },
  {
   "cell_type": "code",
   "execution_count": null,
   "id": "661fc5e7",
   "metadata": {},
   "outputs": [],
   "source": [
    "# This script checks if a number is divisible by 3, 5, or both.\n",
    "\n",
    "# Input: Number to check\n",
    "\n",
    "number = int(input(\"Enter a number: \"))\n",
    "\n",
    "# Check divisibility conditions\n",
    "\n",
    "if number % 3 == 0 and number % 5 == 0:\n",
    "    print(\"Divisible by both 3 and 5\")\n",
    "elif number % 3 == 0:\n",
    "    print(\"Divisible by 3\")\n",
    "elif number % 5 == 0:\n",
    "    print(\"Divisible by 5\")\n",
    "else:\n",
    "    print(\"Not divisible by 3 or 5\")"
   ]
  }
 ],
 "metadata": {
  "kernelspec": {
   "display_name": "Python 3 (ipykernel)",
   "language": "python",
   "name": "python3"
  },
  "language_info": {
   "codemirror_mode": {
    "name": "ipython",
    "version": 3
   },
   "file_extension": ".py",
   "mimetype": "text/x-python",
   "name": "python",
   "nbconvert_exporter": "python",
   "pygments_lexer": "ipython3",
   "version": "3.11.5"
  }
 },
 "nbformat": 4,
 "nbformat_minor": 5
}
