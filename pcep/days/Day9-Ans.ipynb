{
 "cells": [
  {
   "cell_type": "markdown",
   "id": "69e11c30",
   "metadata": {},
   "source": [
    "Task 1: Print the First 10 Numbers of the Fibonacci Sequence Using a for loop"
   ]
  },
  {
   "cell_type": "code",
   "execution_count": null,
   "id": "bd895132",
   "metadata": {},
   "outputs": [],
   "source": [
    "# Write a program using a for loop to print the first 10 numbers of the Fibonacci sequence\n",
    "\n",
    "a, b = 0, 1\n",
    "for i in range(10):\n",
    "    print(a, end=\" \")\n",
    "    a, b = b, a + b  # Update values for the next Fibonacci number"
   ]
  },
  {
   "cell_type": "markdown",
   "id": "20280b18",
   "metadata": {},
   "source": [
    "Task 2: Print the Multiplication Table of 7 Using a while loop"
   ]
  },
  {
   "cell_type": "code",
   "execution_count": null,
   "id": "a3fc7290",
   "metadata": {},
   "outputs": [],
   "source": [
    "# Write a while loop to print the multiplication table of 7 (from 7 * 1 to 7 * 10)\n",
    "\n",
    "i = 1\n",
    "while i <= 10:\n",
    "    print(f\"7 * {i} = {7 * i}\")\n",
    "    i += 1"
   ]
  },
  {
   "cell_type": "markdown",
   "id": "0c0a2309",
   "metadata": {},
   "source": [
    "Task 3: Iterate Over a List of Names and Print Names Starting with \"A\" Using a for loop"
   ]
  },
  {
   "cell_type": "code",
   "execution_count": null,
   "id": "7a6f0263",
   "metadata": {},
   "outputs": [],
   "source": [
    "# Create a script with a for loop to iterate over a list of names and print names that start with \"A\"\n",
    "\n",
    "names = [\"Alice\", \"Bob\", \"Anna\", \"Charlie\", \"Alex\"]\n",
    "for name in names:\n",
    "    if name[0] == \"A\":\n",
    "        print(name)\n",
    "    else:\n",
    "        continue  # Skip names that don't start with \"A\""
   ]
  },
  {
   "cell_type": "markdown",
   "id": "d35edf79",
   "metadata": {},
   "source": [
    "Task 4: Print the Square of Each Number from 1 to 10 Using a while loop"
   ]
  },
  {
   "cell_type": "code",
   "execution_count": null,
   "id": "0ad37f07",
   "metadata": {},
   "outputs": [],
   "source": [
    "# Write a while loop that prints the square of each number from 1 to 10 and stops if the square exceeds 50\n",
    "\n",
    "i = 1\n",
    "while i <= 10:\n",
    "    square = i ** 2\n",
    "    print(square)\n",
    "    if square > 50:\n",
    "        break  # Stop the loop if square exceeds 50\n",
    "    i += 1"
   ]
  },
  {
   "cell_type": "markdown",
   "id": "291d964f",
   "metadata": {},
   "source": [
    "Task 5: Use a break Statement to Stop the Loop When a Certain Condition is Met"
   ]
  },
  {
   "cell_type": "code",
   "execution_count": null,
   "id": "f312f646",
   "metadata": {},
   "outputs": [],
   "source": [
    "\n",
    "# Use a break statement to stop the loop when a certain condition is met \n",
    "# (e.g., when the number 6 is encountered in a range from 1 to 10)\n",
    "\n",
    "for i in range(1, 11):\n",
    "    if i == 6:\n",
    "        print(f\"Number {i} encountered, stopping the loop.\")\n",
    "        break  # Stop the loop when the number 6 is encountered\n",
    "    print(i)"
   ]
  }
 ],
 "metadata": {
  "kernelspec": {
   "display_name": "Python 3 (ipykernel)",
   "language": "python",
   "name": "python3"
  },
  "language_info": {
   "codemirror_mode": {
    "name": "ipython",
    "version": 3
   },
   "file_extension": ".py",
   "mimetype": "text/x-python",
   "name": "python",
   "nbconvert_exporter": "python",
   "pygments_lexer": "ipython3",
   "version": "3.11.5"
  }
 },
 "nbformat": 4,
 "nbformat_minor": 5
}
