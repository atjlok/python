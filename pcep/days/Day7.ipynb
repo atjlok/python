{
 "cells": [
  {
   "cell_type": "markdown",
   "id": "e4e4335f",
   "metadata": {},
   "source": [
    "**Day 7: Lists and Tuples in Python**\n",
    "\n",
    "- Understanding Lists and Tuples\n",
    "- In Python, lists and tuples are two important data structures that allow you to store multiple values.\n",
    "\n",
    "**Lists:**\n",
    "\n",
    "- Lists are mutable, meaning their elements can be changed after creation.\n",
    "\n",
    "Syntax:\n",
    "```\n",
    "my_list = [1, 2, 3, 4, 5]\n",
    "\n",
    "You can add, remove, and modify elements.\n",
    "```\n",
    "\n",
    "**Tuples:**\n",
    "\n",
    "- Tuples are immutable, meaning their elements cannot be changed after creation.\n",
    "\n",
    "Syntax:\n",
    "```\n",
    "my_tuple = (1, 2, 3, 4, 5)\n",
    "```\n",
    "**List Operations:**\n",
    "\n",
    "- You can perform several operations like appending, removing, and slicing on lists.\n",
    "\n",
    "-- Examples: append(), remove(), extend(), sort(), etc.\n",
    "\n",
    "**Tuple Operations:**\n",
    "\n",
    "- Tuples support operations like indexing, slicing, and iteration, but you cannot modify the elements.\n",
    "\n",
    "-- Example: Indexing a tuple returns an element at that index.\n"
   ]
  },
  {
   "cell_type": "code",
   "execution_count": null,
   "id": "34a05b08",
   "metadata": {},
   "outputs": [],
   "source": [
    "# List example\n",
    "\n",
    "my_list = [1, 2, 3, 4, 5]\n",
    "print(\"Original List:\", my_list)\n",
    "\n",
    "my_list.append(6)  # Add element to the list\n",
    "print(\"List after append:\", my_list)\n",
    "\n",
    "my_list.remove(3)  # Remove element from the list\n",
    "print(\"List after remove:\", my_list)\n",
    "\n",
    "# List slicing\n",
    "print(\"Sliced List:\", my_list[1:4])"
   ]
  },
  {
   "cell_type": "code",
   "execution_count": null,
   "id": "b014e868",
   "metadata": {},
   "outputs": [],
   "source": [
    "# Tuple example\n",
    "\n",
    "my_tuple = (1, 2, 3, 4, 5)\n",
    "print(\"Original Tuple:\", my_tuple)\n",
    "\n",
    "# Accessing elements\n",
    "print(\"Element at index 2:\", my_tuple[2])\n",
    "\n",
    "# Tuple slicing\n",
    "print(\"Sliced Tuple:\", my_tuple[1:4])"
   ]
  },
  {
   "cell_type": "code",
   "execution_count": null,
   "id": "6226c644",
   "metadata": {},
   "outputs": [],
   "source": [
    "# Modifying List example\n",
    "\n",
    "my_list = [\"apple\", \"banana\", \"cherry\"]\n",
    "my_list[1] = \"blueberry\"  # Changing value of an element\n",
    "print(\"Modified List:\", my_list)\n"
   ]
  },
  {
   "cell_type": "code",
   "execution_count": null,
   "id": "ee0edac4",
   "metadata": {},
   "outputs": [],
   "source": [
    "# Tuple does not support item assignment\n",
    "\n",
    "try:\n",
    "    my_tuple[1] = 10  # This will throw an error\n",
    "except TypeError as e:\n",
    "    print(\"Error:\", e)  # Output: Error: 'tuple' object does not support item assignment"
   ]
  },
  {
   "cell_type": "markdown",
   "id": "8968210e",
   "metadata": {},
   "source": [
    "**Practice Tasks:**"
   ]
  },
  {
   "cell_type": "code",
   "execution_count": null,
   "id": "231f8c71",
   "metadata": {},
   "outputs": [],
   "source": [
    "# Create a list of your favorite fruits. Perform the following:\n",
    "\n",
    "# Add a new fruit to the list.\n",
    "# Remove one fruit from the list.\n",
    "# Slice the list to display the first 3 fruits.\n",
    "\n",
    "\n",
    "\n",
    "\n",
    "\n",
    "\n",
    "\n",
    "\n",
    "\n",
    "\n",
    "\n"
   ]
  },
  {
   "cell_type": "code",
   "execution_count": null,
   "id": "0591aa08",
   "metadata": {},
   "outputs": [],
   "source": [
    "# Define a tuple of five numbers. Perform the following:\n",
    "\n",
    "# Access and display the third element.\n",
    "# Slice the tuple to display elements from index 2 to 4.\n",
    "\n",
    "\n",
    "\n",
    "\n",
    "\n",
    "\n",
    "\n",
    "\n",
    "\n",
    "\n",
    "\n",
    "\n"
   ]
  },
  {
   "cell_type": "code",
   "execution_count": null,
   "id": "0a08f47e",
   "metadata": {},
   "outputs": [],
   "source": [
    "# Write a script to: Create a list with mixed data types (e.g., integers, strings).\n",
    "# Modify the list by replacing the first element with a new value.\n",
    "# Print the modified list.\n",
    "\n",
    "\n",
    "\n",
    "\n",
    "\n",
    "\n",
    "\n",
    "\n",
    "\n",
    "\n",
    "\n",
    "\n",
    "\n"
   ]
  },
  {
   "cell_type": "code",
   "execution_count": null,
   "id": "a8a91c5f",
   "metadata": {},
   "outputs": [],
   "source": [
    "# Try to modify a tuple and capture the error:\n",
    "\n",
    "# Create a tuple of numbers.\n",
    "# Attempt to change one of its elements and handle the error gracefully.\n",
    "\n",
    "\n",
    "\n",
    "\n",
    "\n",
    "\n",
    "\n",
    "\n",
    "\n",
    "\n",
    "\n",
    "\n",
    "\n",
    "\n"
   ]
  }
 ],
 "metadata": {
  "kernelspec": {
   "display_name": "Python 3 (ipykernel)",
   "language": "python",
   "name": "python3"
  },
  "language_info": {
   "codemirror_mode": {
    "name": "ipython",
    "version": 3
   },
   "file_extension": ".py",
   "mimetype": "text/x-python",
   "name": "python",
   "nbconvert_exporter": "python",
   "pygments_lexer": "ipython3",
   "version": "3.11.5"
  }
 },
 "nbformat": 4,
 "nbformat_minor": 5
}
