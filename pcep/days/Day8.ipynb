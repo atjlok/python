{
 "cells": [
  {
   "cell_type": "markdown",
   "id": "dd805359",
   "metadata": {},
   "source": [
    "### Day 8: Dictionaries in Python\n",
    "\n",
    "- Target - Understanding Dictionaries\n",
    "- A dictionary is a collection of key-value pairs. In Python, dictionaries are unordered, changeable, and indexed. \n",
    "- They are useful when you need to store data in a key-value format.\n",
    "\n",
    "### Creating a Dictionary:\n",
    "```\n",
    "Syntax:\n",
    "my_dict = {\"key1\": \"value1\", \"key2\": \"value2\"}\n",
    "```\n",
    "- Keys must be unique and immutable (e.g., strings, numbers, or tuples).\n",
    "- Values can be of any data type.\n",
    "\n",
    "### Accessing Values:\n",
    "\n",
    "- Values are accessed using their corresponding keys.\n",
    "```\n",
    "Syntax: \n",
    "my_dict[\"key1\"]\n",
    "```\n",
    "### Adding and Modifying Elements:\n",
    "\n",
    "- You can add new key-value pairs or modify existing ones.\n",
    "```\n",
    "Syntax: \n",
    "my_dict[\"new_key\"] = \"new_value\"\n",
    "```\n",
    "\n",
    "### Removing Items:\n",
    "\n",
    "- pop() removes an item by key.\n",
    "- del removes an item by key.\n",
    "- clear() removes all items from the dictionary.\n",
    "\n",
    "### Dictionary Methods:\n",
    "\n",
    "Common methods include keys(), values(), items(), etc."
   ]
  },
  {
   "cell_type": "code",
   "execution_count": null,
   "id": "53a7b340",
   "metadata": {},
   "outputs": [],
   "source": [
    "# Creating a dictionary\n",
    "\n",
    "my_dict = {\"name\": \"Alice\", \"age\": 25, \"city\": \"New York\"}\n",
    "print(\"Original Dictionary:\", my_dict)"
   ]
  },
  {
   "cell_type": "code",
   "execution_count": null,
   "id": "ca0e8793",
   "metadata": {},
   "outputs": [],
   "source": [
    "# Accessing values by key\n",
    "\n",
    "my_dict = {\"name\": \"Alice\", \"age\": 25, \"city\": \"New York\"}\n",
    "print(\"Name:\", my_dict[\"name\"])"
   ]
  },
  {
   "cell_type": "code",
   "execution_count": null,
   "id": "732d9185",
   "metadata": {},
   "outputs": [],
   "source": [
    "# Adding a new key-value pair\n",
    "\n",
    "my_dict = {\"name\": \"Alice\", \"age\": 25, \"city\": \"New York\"}\n",
    "my_dict[\"job\"] = \"Engineer\"\n",
    "print(\"Dictionary after adding job:\", my_dict)"
   ]
  },
  {
   "cell_type": "code",
   "execution_count": null,
   "id": "2fab86f4",
   "metadata": {},
   "outputs": [],
   "source": [
    "# Modifying an existing value\n",
    "\n",
    "my_dict = {\"name\": \"Alice\", \"age\": 25, \"city\": \"New York\"}\n",
    "my_dict[\"age\"] = 26\n",
    "print(\"Dictionary after modifying age:\", my_dict)"
   ]
  },
  {
   "cell_type": "code",
   "execution_count": null,
   "id": "89bf4f62",
   "metadata": {},
   "outputs": [],
   "source": [
    "# Removing an item using pop\n",
    "\n",
    "my_dict = {\"name\": \"Alice\", \"age\": 25, \"city\": \"New York\"}\n",
    "removed_item = my_dict.pop(\"city\")\n",
    "print(\"Dictionary after removing 'city':\", my_dict)\n",
    "print(\"Removed item:\", removed_item)"
   ]
  },
  {
   "cell_type": "code",
   "execution_count": null,
   "id": "43055c53",
   "metadata": {},
   "outputs": [],
   "source": [
    "# Dictionary Methods Example : \n",
    "\n",
    "my_dict = {\"name\": \"Bob\", \"age\": 30, \"city\": \"Paris\"}\n",
    "\n",
    "# Get all keys\n",
    "print(\"Keys:\", my_dict.keys())"
   ]
  },
  {
   "cell_type": "code",
   "execution_count": null,
   "id": "7e06ac08",
   "metadata": {},
   "outputs": [],
   "source": [
    "# Get all values\n",
    "my_dict = {\"name\": \"Bob\", \"age\": 30, \"city\": \"Paris\"}\n",
    "print(\"Values:\", my_dict.values())"
   ]
  },
  {
   "cell_type": "code",
   "execution_count": null,
   "id": "61ddfa8f",
   "metadata": {},
   "outputs": [],
   "source": [
    "# Get all key-value pairs\n",
    "my_dict = {\"name\": \"Bob\", \"age\": 30, \"city\": \"Paris\"}\n",
    "print(\"Items:\", my_dict.items())"
   ]
  },
  {
   "cell_type": "code",
   "execution_count": null,
   "id": "b578b03d",
   "metadata": {},
   "outputs": [],
   "source": [
    "# Deleting an item using del\n",
    "my_dict = {\"name\": \"Bob\", \"age\": 30, \"city\": \"Paris\"}\n",
    "del my_dict[\"age\"]\n",
    "print(\"Dictionary after deleting 'age':\", my_dict)"
   ]
  },
  {
   "cell_type": "code",
   "execution_count": null,
   "id": "b10ce40f",
   "metadata": {},
   "outputs": [],
   "source": [
    "# Clearing the dictionary\n",
    "my_dict = {\"name\": \"Bob\", \"age\": 30, \"city\": \"Paris\"}\n",
    "my_dict.clear()\n",
    "print(\"Dictionary after clearing:\", my_dict)"
   ]
  },
  {
   "cell_type": "markdown",
   "id": "4dde3f4c",
   "metadata": {},
   "source": [
    "**Practice Tasks**"
   ]
  },
  {
   "cell_type": "code",
   "execution_count": null,
   "id": "532d2a91",
   "metadata": {},
   "outputs": [],
   "source": [
    "# Create a dictionary to store: The name, age, and country of a person.\n",
    "# Add a new key-value pair for the person's occupation.\n",
    "# Modify the age and print the updated dictionary.\n",
    "\n",
    "\n",
    "\n",
    "\n",
    "\n",
    "\n",
    "\n",
    "\n",
    "\n",
    "\n",
    "\n"
   ]
  },
  {
   "cell_type": "code",
   "execution_count": null,
   "id": "093b635a",
   "metadata": {},
   "outputs": [],
   "source": [
    "# Write a script to: Define a dictionary with at least 5 key-value pairs.\n",
    "# Use keys(), values(), and items() to print all keys, values, and key-value pairs.\n",
    "\n",
    "\n",
    "\n",
    "\n",
    "\n",
    "\n",
    "\n",
    "\n",
    "\n",
    "\n",
    "\n",
    "\n",
    "\n",
    "\n"
   ]
  },
  {
   "cell_type": "code",
   "execution_count": null,
   "id": "4a2dbba6",
   "metadata": {},
   "outputs": [],
   "source": [
    "# Write a program that: Removes a key-value pair from a dictionary using pop().\n",
    "# Displays the removed item and the updated dictionary.\n",
    "\n",
    "\n",
    "\n",
    "\n",
    "\n",
    "\n",
    "\n",
    "\n",
    "\n",
    "\n",
    "\n",
    "\n"
   ]
  },
  {
   "cell_type": "code",
   "execution_count": null,
   "id": "c8b7989f",
   "metadata": {},
   "outputs": [],
   "source": [
    "# Define a dictionary with some data, then: Use del to remove a key-value pair.\n",
    "# Use clear() to empty the dictionary.\n",
    "\n",
    "\n",
    "\n",
    "\n",
    "\n",
    "\n",
    "\n",
    "\n",
    "\n",
    "\n",
    "\n",
    "\n",
    "\n"
   ]
  }
 ],
 "metadata": {
  "kernelspec": {
   "display_name": "Python 3 (ipykernel)",
   "language": "python",
   "name": "python3"
  },
  "language_info": {
   "codemirror_mode": {
    "name": "ipython",
    "version": 3
   },
   "file_extension": ".py",
   "mimetype": "text/x-python",
   "name": "python",
   "nbconvert_exporter": "python",
   "pygments_lexer": "ipython3",
   "version": "3.11.5"
  }
 },
 "nbformat": 4,
 "nbformat_minor": 5
}
