{
 "cells": [
  {
   "cell_type": "markdown",
   "id": "605f05a7",
   "metadata": {},
   "source": [
    "# Day 12: Modules and Packages in Python\n",
    "- Understanding Modules and Packages\n",
    "\n",
    "## What is a Module?\n",
    "\n",
    "- A module is a file containing Python code (functions, classes, and variables) that can be imported and reused in other Python scripts.\n",
    "- Modules allow for better organization and modularity of code.\n",
    "Example:\n",
    "```\n",
    "# math_operations.py\n",
    "def add(a, b):\n",
    "    return a + b\n",
    "```\n",
    "## Importing Modules\n",
    "\n",
    "You can import a module using the import statement.\n",
    "\n",
    "Syntax:\n",
    "```\n",
    "import module_name\n",
    "```\n",
    "## Importing Specific Functions or Variables\n",
    "\n",
    "- You can import specific functions or variables from a module using the from keyword.\n",
    "\n",
    "Syntax:\n",
    "```\n",
    "from module_name import function_name\n",
    "```\n",
    "## Creating Packages\n",
    "\n",
    "- A package is a collection of Python modules organized in directories. \n",
    "- Each directory must contain an __init__.py file to be considered a package.\n",
    "\n",
    "Example:\n",
    "```\n",
    "mypackage/\n",
    "    __init__.py\n",
    "    module1.py\n",
    "    module2.py\n",
    "```\n",
    "\n",
    "## Using Aliases for Modules\n",
    "\n",
    "- You can give a module an alias using the as keyword to make it easier to reference.\n",
    "\n",
    "Syntax:\n",
    "```\n",
    "import module_name as alias\n",
    "```"
   ]
  },
  {
   "cell_type": "code",
   "execution_count": null,
   "id": "4a33a677",
   "metadata": {},
   "outputs": [],
   "source": [
    "# Importing an entire module\n",
    "\n",
    "import math\n",
    "print(math.sqrt(16))  # Output: 4.0"
   ]
  },
  {
   "cell_type": "code",
   "execution_count": null,
   "id": "d69757e6",
   "metadata": {},
   "outputs": [],
   "source": [
    "# Importing specific functions\n",
    "\n",
    "from math import factorial\n",
    "print(factorial(5))  # Output: 120"
   ]
  },
  {
   "cell_type": "code",
   "execution_count": 7,
   "id": "88d6b336",
   "metadata": {},
   "outputs": [
    {
     "name": "stdout",
     "output_type": "stream",
     "text": [
      "3.141592653589793\n"
     ]
    }
   ],
   "source": [
    "# Importing with an alias\n",
    "\n",
    "import math as m\n",
    "print(m.pi)  # Output: 3.141592653589793"
   ]
  },
  {
   "cell_type": "markdown",
   "id": "8721bc09",
   "metadata": {},
   "source": [
    "### Try this on your machine.\n",
    "### - Creating and importing from a custom module\n",
    "\n",
    "### math_operations.py\n",
    "```\n",
    "def subtract(a, b):\n",
    "    return a - b\n",
    "```\n",
    "### main.py\n",
    "```\n",
    "from math_operations import subtract\n",
    "print(subtract(10, 5))  # Output: 5\n",
    "```"
   ]
  },
  {
   "cell_type": "markdown",
   "id": "f6120d68",
   "metadata": {},
   "source": [
    "### - Creating a package\n",
    "\n",
    "### mypackage/__init__.py\n",
    "```\n",
    "from .module1 import function1\n",
    "from .module2 import function2\n",
    "```"
   ]
  },
  {
   "cell_type": "markdown",
   "id": "a71499bf",
   "metadata": {},
   "source": [
    "### main.py\n",
    "```\n",
    "from mypackage import function1, function2\n",
    "```"
   ]
  },
  {
   "cell_type": "markdown",
   "id": "1e3a0841",
   "metadata": {},
   "source": [
    "### Practice Tasks - Try it on your machine (you need to create .py files)\n",
    "\n",
    "- Create a Python file containing a few utility functions (e.g., addition, subtraction, multiplication, etc.).\n",
    "\n",
    "- In another Python script, import these functions and use them.\n",
    "\n",
    "#### Create a module that:\n",
    "\n",
    "Contains a function to calculate the area of a circle. Import this function in another script and print the area.\n",
    "\n",
    "#### Write a script that:\n",
    "\n",
    "Uses the math module to compute the square root of 25, the power of 2 raised to 5, and the cosine of an angle.\n",
    "\n",
    "#### Create a package with two modules:\n",
    "\n",
    "- module1.py contains a function to calculate the square of a number.\n",
    "- module2.py contains a function to calculate the cube of a number.\n",
    "- Create an __init__.py file and use both functions in a main script.\n",
    "\n",
    "#### Use an alias for the datetime module:\n",
    "\n",
    "- Create a script that prints the current date and time in a formatted string using an alias for datetime.\n"
   ]
  }
 ],
 "metadata": {
  "kernelspec": {
   "display_name": "Python 3 (ipykernel)",
   "language": "python",
   "name": "python3"
  },
  "language_info": {
   "codemirror_mode": {
    "name": "ipython",
    "version": 3
   },
   "file_extension": ".py",
   "mimetype": "text/x-python",
   "name": "python",
   "nbconvert_exporter": "python",
   "pygments_lexer": "ipython3",
   "version": "3.11.5"
  }
 },
 "nbformat": 4,
 "nbformat_minor": 5
}
