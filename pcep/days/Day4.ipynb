{
 "cells": [
  {
   "cell_type": "markdown",
   "id": "24af20e1",
   "metadata": {},
   "source": [
    "\n",
    "**Day 4: Conditional Statements in Python** \n",
    "\n",
    "Understanding Conditional Statements\n",
    "\n",
    "Conditional statements allow you to execute specific blocks of code based on certain conditions. In Python, the main conditional statements are:\n",
    "\n",
    "**if Statement:**\n",
    "\n",
    "**Executes a block of code if a condition is True.**\n",
    "\n",
    "Syntax:\n",
    "```\n",
    "if condition:\n",
    "    # code block\n",
    "if-else Statement:\n",
    "```\n",
    "\n",
    "**Executes one block of code if the condition is True, otherwise executes another block.**\n",
    "\n",
    "Syntax:\n",
    "```\n",
    "if condition:\n",
    "    # code block\n",
    "else:\n",
    "    # another code block\n",
    "```\n",
    "    \n",
    "    \n",
    "**if-elif-else Statement:**\n",
    "\n",
    "- Checks multiple conditions in sequence.\n",
    "\n",
    "Syntax:\n",
    "```\n",
    "if condition1:\n",
    "    # code block\n",
    "    \n",
    "elif condition2:\n",
    "    # another code block\n",
    "    \n",
    "else:\n",
    "    # default code block\n",
    "```\n",
    "    \n",
    "    \n",
    "**Nested if Statements:**\n",
    "\n",
    "- Allows if statements inside another if statement for complex conditions.\n",
    "\n",
    "Syntax:\n",
    "```\n",
    "if condition1:\n",
    "    if condition2:\n",
    "        # nested code block\n",
    "```"
   ]
  },
  {
   "cell_type": "code",
   "execution_count": null,
   "id": "47b1512d",
   "metadata": {},
   "outputs": [],
   "source": [
    "# Simple if statement\n",
    "\n",
    "x = 10\n",
    "if x > 5:\n",
    "    print(\"x is greater than 5\")  # Output: x is greater than 5\n",
    "    "
   ]
  },
  {
   "cell_type": "code",
   "execution_count": null,
   "id": "45042cb6",
   "metadata": {},
   "outputs": [],
   "source": [
    "# if-else statement\n",
    "\n",
    "x = 3\n",
    "if x % 2 == 0:\n",
    "    print(\"x is even\")\n",
    "else:\n",
    "    print(\"x is odd\")  # Output: x is odd"
   ]
  },
  {
   "cell_type": "code",
   "execution_count": null,
   "id": "34b8b284",
   "metadata": {},
   "outputs": [],
   "source": [
    "# if-elif-else statement\n",
    "\n",
    "score = 85\n",
    "if score >= 90:\n",
    "    print(\"Grade: A\")\n",
    "elif score >= 75:\n",
    "    print(\"Grade: B\")  # Output: Grade: B\n",
    "else:\n",
    "    print(\"Grade: C\")\n",
    "    "
   ]
  },
  {
   "cell_type": "code",
   "execution_count": null,
   "id": "60d440ac",
   "metadata": {},
   "outputs": [],
   "source": [
    "# Nested if statement\n",
    "\n",
    "age = 20\n",
    "if age >= 18:\n",
    "    if age < 21:\n",
    "        print(\"You are an adult\")  # Output: You are an adult."
   ]
  },
  {
   "cell_type": "markdown",
   "id": "e6b3d7f8",
   "metadata": {},
   "source": [
    "       \n",
    "**Practice Tasks :**"
   ]
  },
  {
   "cell_type": "code",
   "execution_count": null,
   "id": "199ff066",
   "metadata": {},
   "outputs": [],
   "source": [
    "# Write a Python script to: Check if a given number is positive, negative, or zero.\n",
    "# Print the appropriate message for each case.\n",
    "\n",
    "\n",
    "\n",
    "\n",
    "\n",
    "\n",
    "\n",
    "\n"
   ]
  },
  {
   "cell_type": "code",
   "execution_count": null,
   "id": "94f55e15",
   "metadata": {},
   "outputs": [],
   "source": [
    "# Create a grading system that:\n",
    "\n",
    "# Assigns \"Excellent\" for scores above 90.\n",
    "# Assigns \"Good\" for scores between 70 and 90.\n",
    "# Assigns \"Needs Improvement\" for scores below 70.\n",
    "\n",
    "\n",
    "\n",
    "\n",
    "\n",
    "\n",
    "\n",
    "\n"
   ]
  },
  {
   "cell_type": "code",
   "execution_count": null,
   "id": "a84b3000",
   "metadata": {},
   "outputs": [],
   "source": [
    "# Write a script to:\n",
    "\n",
    "# Check if a number is divisible by both 3 and 5.\n",
    "# If divisible by 3 only, print \"Fizz\".\n",
    "# If divisible by 5 only, print \"Buzz\".\n",
    "# Otherwise, print \"Not divisible by 3 or 5\".\n",
    "\n",
    "\n",
    "\n",
    "\n",
    "\n",
    "\n",
    "\n",
    "\n",
    "\n",
    "\n",
    "\n"
   ]
  }
 ],
 "metadata": {
  "kernelspec": {
   "display_name": "Python 3 (ipykernel)",
   "language": "python",
   "name": "python3"
  },
  "language_info": {
   "codemirror_mode": {
    "name": "ipython",
    "version": 3
   },
   "file_extension": ".py",
   "mimetype": "text/x-python",
   "name": "python",
   "nbconvert_exporter": "python",
   "pygments_lexer": "ipython3",
   "version": "3.11.5"
  }
 },
 "nbformat": 4,
 "nbformat_minor": 5
}
