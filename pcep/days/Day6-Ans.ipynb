{
 "cells": [
  {
   "cell_type": "markdown",
   "id": "637b9c0c",
   "metadata": {},
   "source": [
    "Task 1: Function to Return the Sum of Two Numbers "
   ]
  },
  {
   "cell_type": "code",
   "execution_count": null,
   "id": "b3957cc0",
   "metadata": {},
   "outputs": [],
   "source": [
    "# Function to calculate the sum of two numbers\n",
    "\n",
    "def add_numbers(a, b):\n",
    "    return a + b\n",
    "\n",
    "# Calling the function and displaying the result\n",
    "\n",
    "result = add_numbers(10, 20)\n",
    "print(f\"The sum of the numbers is: {result}\")"
   ]
  },
  {
   "cell_type": "markdown",
   "id": "2e5298bc",
   "metadata": {},
   "source": [
    "Task 2: Function to Check if a Number is Even or Odd    "
   ]
  },
  {
   "cell_type": "code",
   "execution_count": null,
   "id": "514a8135",
   "metadata": {},
   "outputs": [],
   "source": [
    "# Function to check if a number is even or odd\n",
    "\n",
    "def check_even_odd(number):\n",
    "    if number % 2 == 0:\n",
    "        return \"Even\"\n",
    "    else:\n",
    "        return \"Odd\"\n",
    "\n",
    "# Testing the function\n",
    "\n",
    "result = check_even_odd(7)\n",
    "print(f\"The number is: {result}\")"
   ]
  },
  {
   "cell_type": "markdown",
   "id": "b62a8930",
   "metadata": {},
   "source": [
    "Task 3: Lambda Function to Find the Cube of a Number    "
   ]
  },
  {
   "cell_type": "code",
   "execution_count": null,
   "id": "59dd66ca",
   "metadata": {},
   "outputs": [],
   "source": [
    "# Lambda function to calculate the cube of a number\n",
    "\n",
    "cube = lambda x: x ** 3\n",
    "\n",
    "# Testing the lambda function\n",
    "\n",
    "result = cube(3)\n",
    "print(f\"The cube of 3 is: {result}\")"
   ]
  },
  {
   "cell_type": "markdown",
   "id": "6de160fe",
   "metadata": {},
   "source": [
    "Task 4: Function with a Default Parameter    "
   ]
  },
  {
   "cell_type": "code",
   "execution_count": null,
   "id": "4b1874e4",
   "metadata": {},
   "outputs": [],
   "source": [
    "# Function to print a greeting with a default parameter\n",
    "\n",
    "def greet(name=\"Guest\"):\n",
    "    print(f\"Hello, {name}!\")\n",
    "\n",
    "# Testing the function with a provided name\n",
    "\n",
    "greet(\"Alice\")\n",
    "\n",
    "# Testing the function without providing a name\n",
    "\n",
    "greet()"
   ]
  }
 ],
 "metadata": {
  "kernelspec": {
   "display_name": "Python 3 (ipykernel)",
   "language": "python",
   "name": "python3"
  },
  "language_info": {
   "codemirror_mode": {
    "name": "ipython",
    "version": 3
   },
   "file_extension": ".py",
   "mimetype": "text/x-python",
   "name": "python",
   "nbconvert_exporter": "python",
   "pygments_lexer": "ipython3",
   "version": "3.11.5"
  }
 },
 "nbformat": 4,
 "nbformat_minor": 5
}
