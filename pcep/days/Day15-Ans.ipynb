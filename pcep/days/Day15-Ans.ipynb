{
 "cells": [
  {
   "cell_type": "markdown",
   "id": "fc2afcb5",
   "metadata": {},
   "source": [
    "### 1. Create a Python Module math_operations.py"
   ]
  },
  {
   "cell_type": "markdown",
   "id": "ea37ac46",
   "metadata": {},
   "source": [
    "#### math_operations.py (module):"
   ]
  },
  {
   "cell_type": "markdown",
   "id": "412f24a7",
   "metadata": {},
   "source": [
    "```\n",
    "# math_operations.py\n",
    "\n",
    "def add(a, b):\n",
    "    \"\"\"Returns the sum of two numbers.\"\"\"\n",
    "    return a + b\n",
    "\n",
    "def subtract(a, b):\n",
    "    \"\"\"Returns the difference of two numbers.\"\"\"\n",
    "    return a - b\n",
    "\n",
    "def multiply(a, b):\n",
    "    \"\"\"Returns the product of two numbers.\"\"\"\n",
    "    return a * b\n",
    "```"
   ]
  },
  {
   "cell_type": "markdown",
   "id": "fd5137ac",
   "metadata": {},
   "source": [
    "#### Main file to use the module:"
   ]
  },
  {
   "cell_type": "markdown",
   "id": "3b6524f9",
   "metadata": {},
   "source": [
    "```\n",
    "# main.py\n",
    "\n",
    "# Importing the math_operations module\n",
    "\n",
    "import math_operations\n",
    "\n",
    "# Using the functions from the module\n",
    "\n",
    "num1 = 10\n",
    "num2 = 5\n",
    "\n",
    "print(f\"The sum of {num1} and {num2} is {math_operations.add(num1, num2)}\")\n",
    "print(f\"The difference between {num1} and {num2} is {math_operations.subtract(num1, num2)}\")\n",
    "print(f\"The product of {num1} and {num2} is {math_operations.multiply(num1, num2)}\")\n",
    "```"
   ]
  },
  {
   "cell_type": "markdown",
   "id": "339ee224",
   "metadata": {},
   "source": [
    "### 2. Use the os Module to Create a Directory and List Files."
   ]
  },
  {
   "cell_type": "markdown",
   "id": "762f4443",
   "metadata": {},
   "source": [
    "```\n",
    "import os\n",
    "\n",
    "# Define the directory name\n",
    "directory_name = \"new_directory\"\n",
    "\n",
    "# Create a new directory\n",
    "os.makedirs(directory_name, exist_ok=True)\n",
    "print(f\"Directory '{directory_name}' created (or already exists).\")\n",
    "\n",
    "# List and print all files and directories in the current directory\n",
    "current_dir = os.getcwd()\n",
    "files = os.listdir(current_dir)\n",
    "print(f\"Files and directories in '{current_dir}': {files}\")\n",
    "```"
   ]
  },
  {
   "cell_type": "markdown",
   "id": "54ffadbd",
   "metadata": {},
   "source": [
    "### 3. Use the random Module to Generate and Print a Random Number"
   ]
  },
  {
   "cell_type": "markdown",
   "id": "63fa4350",
   "metadata": {},
   "source": [
    "```\n",
    "import random\n",
    "\n",
    "# Generate a random number between 1 and 100\n",
    "random_number = random.randint(1, 100)\n",
    "\n",
    "# Print the random number\n",
    "print(f\"The randomly generated number is: {random_number}\")\n",
    "```"
   ]
  },
  {
   "cell_type": "markdown",
   "id": "30ad3450",
   "metadata": {},
   "source": [
    "### 4. Use the requests Module to Send a GET Request"
   ]
  },
  {
   "cell_type": "markdown",
   "id": "98d8b34b",
   "metadata": {},
   "source": [
    "```\n",
    "# Make sure to install the requests module first by running: pip install requests\n",
    "\n",
    "import requests\n",
    "\n",
    "# Define the URL\n",
    "url = \"https://www.example.com\"\n",
    "\n",
    "# Send a GET request\n",
    "response = requests.get(url)\n",
    "\n",
    "# Print the response status code\n",
    "print(f\"Response status code for GET request to '{url}': {response.status_code}\")\n",
    "```"
   ]
  },
  {
   "cell_type": "markdown",
   "id": "be524f0f",
   "metadata": {},
   "source": [
    "### 5. Use pandas to Read a CSV File and Calculate the Mean"
   ]
  },
  {
   "cell_type": "markdown",
   "id": "5c48b23b",
   "metadata": {},
   "source": [
    "```\n",
    "# Make sure to install pandas first by running: pip install pandas\n",
    "import pandas as pd\n",
    "\n",
    "# Define the path to the CSV file\n",
    "file_path = \"data.csv\"\n",
    "\n",
    "# Read the CSV file into a pandas DataFrame\n",
    "try:\n",
    "    data = pd.read_csv(file_path)\n",
    "    print(\"CSV file successfully read.\")\n",
    "    \n",
    "    # Calculate the mean of a specific column\n",
    "    column_name = \"column_name\"  # Replace with your actual column name\n",
    "    if column_name in data.columns:\n",
    "        mean_value = data[column_name].mean()\n",
    "        print(f\"The mean of the '{column_name}' column is: {mean_value}\")\n",
    "    else:\n",
    "        print(f\"Column '{column_name}' does not exist in the file.\")\n",
    "except FileNotFoundError:\n",
    "    print(f\"File '{file_path}' not found. Please check the path.\")\n",
    "```"
   ]
  },
  {
   "cell_type": "markdown",
   "id": "9620c771",
   "metadata": {},
   "source": [
    "### 6. Create a Simple Line Plot Using matplotlib"
   ]
  },
  {
   "cell_type": "code",
   "execution_count": null,
   "id": "05e36186",
   "metadata": {},
   "outputs": [],
   "source": [
    "\n",
    "# Make sure to install matplotlib first by running: pip install matplotlib\n",
    "import matplotlib.pyplot as plt\n",
    "\n",
    "# Define data for the plot\n",
    "x = [1, 2, 3, 4]\n",
    "y = [1, 4, 9, 16]\n",
    "\n",
    "# Create the plot\n",
    "plt.plot(x, y, marker='o', linestyle='-', color='b')\n",
    "\n",
    "# Add labels and title\n",
    "plt.xlabel(\"X-axis\")\n",
    "plt.ylabel(\"Y-axis\")\n",
    "plt.title(\"Simple Line Plot\")\n",
    "\n",
    "# Display the plot\n",
    "plt.show()\n"
   ]
  }
 ],
 "metadata": {
  "kernelspec": {
   "display_name": "Python 3 (ipykernel)",
   "language": "python",
   "name": "python3"
  },
  "language_info": {
   "codemirror_mode": {
    "name": "ipython",
    "version": 3
   },
   "file_extension": ".py",
   "mimetype": "text/x-python",
   "name": "python",
   "nbconvert_exporter": "python",
   "pygments_lexer": "ipython3",
   "version": "3.11.5"
  }
 },
 "nbformat": 4,
 "nbformat_minor": 5
}
