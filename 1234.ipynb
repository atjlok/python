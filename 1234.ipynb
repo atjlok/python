{
 "cells": [
  {
   "cell_type": "markdown",
   "metadata": {},
   "source": [
    "# 📌 Pandas Basics - Complete Guide\n",
    "\n",
    "This notebook covers all fundamental operations and functions in Pandas, step by step."
   ]
  },
  {
   "cell_type": "markdown",
   "metadata": {},
   "source": [
    "## 📍 1. Importing Pandas"
   ]
  },
  {
   "cell_type": "markdown",
   "metadata": {},
   "source": [
    "import pandas as pd"
   ]
  },
  {
   "cell_type": "markdown",
   "metadata": {},
   "source": [
    "## 📍 2. Creating a Basic DataFrame"
   ]
  },
  {
   "cell_type": "code",
   "execution_count": null,
   "metadata": {},
   "outputs": [],
   "source": [
    "\n",
    "import pandas as pd \n",
    "\n",
    "# Sample Employee Data\n",
    "data = {\n",
    "    'Employee': ['Alice', 'Bob', 'Charlie', 'David', 'Eva'],\n",
    "    'Salary': [50000, 60000, 55000, 70000, 65000],\n",
    "    'Department': ['IT', 'HR', 'Finance', 'IT', 'HR'],\n",
    "    'Joining_Date': ['2015-06-23', '2018-07-18', '2016-08-21', '2019-09-12', '2020-01-10']\n",
    "}\n",
    "\n",
    "# Creating DataFrame\n",
    "employee_data = pd.DataFrame(data)\n",
    "employee_data['Joining_Date'] = pd.to_datetime(employee_data['Joining_Date']) # Convert to datetime\n",
    "\n",
    "# Display DataFrame\n",
    "a = employee_data"
   ]
  },
  {
   "cell_type": "markdown",
   "metadata": {},
   "source": [
    "## 📍 3. Basic Data Exploration"
   ]
  },
  {
   "cell_type": "code",
   "execution_count": null,
   "metadata": {},
   "outputs": [],
   "source": [
    "import pandas as pd\n",
    "\n",
    "# Sample Employee Data\n",
    "data = {\n",
    "    'Employee': ['Alice', 'Bob', 'Charlie', 'David', 'Eva'],\n",
    "    'Salary': [50000, 60000, 55000, 70000, 65000],\n",
    "    'Department': ['IT', 'HR', 'Finance', 'IT', 'HR'],\n",
    "    'Joining_Date': ['2015-06-23', '2018-07-18', '2016-08-21', '2019-09-12', '2020-01-10']\n",
    "}\n",
    "\n",
    "# Creating DataFrame\n",
    "employee_data = pd.DataFrame(data)\n",
    "employee_data['Joining_Date'] = pd.to_datetime(employee_data['Joining_Date']) # Convert to datetime\n",
    "\n",
    "\n",
    "# Display first 3 rows\n",
    "b = employee_data.head(3)"
   ]
  },
  {
   "cell_type": "code",
   "execution_count": null,
   "metadata": {},
   "outputs": [],
   "source": [
    "import pandas as pd\n",
    "\n",
    "# Sample Employee Data\n",
    "data = {\n",
    "    'Employee': ['Alice', 'Bob', 'Charlie', 'David', 'Eva'],\n",
    "    'Salary': [50000, 60000, 55000, 70000, 65000],\n",
    "    'Department': ['IT', 'HR', 'Finance', 'IT', 'HR'],\n",
    "    'Joining_Date': ['2015-06-23', '2018-07-18', '2016-08-21', '2019-09-12', '2020-01-10']\n",
    "}\n",
    "\n",
    "# Creating DataFrame\n",
    "employee_data = pd.DataFrame(data)\n",
    "employee_data['Joining_Date'] = pd.to_datetime(employee_data['Joining_Date']) # Convert to datetime\n",
    "\n",
    "# Display last 2 rows\n",
    "c = employee_data.tail(2)"
   ]
  },
  {
   "cell_type": "code",
   "execution_count": null,
   "metadata": {},
   "outputs": [],
   "source": [
    "import pandas as pd\n",
    "\n",
    "# Sample Employee Data\n",
    "data = {\n",
    "    'Employee': ['Alice', 'Bob', 'Charlie', 'David', 'Eva'],\n",
    "    'Salary': [50000, 60000, 55000, 70000, 65000],\n",
    "    'Department': ['IT', 'HR', 'Finance', 'IT', 'HR'],\n",
    "    'Joining_Date': ['2015-06-23', '2018-07-18', '2016-08-21', '2019-09-12', '2020-01-10']\n",
    "}\n",
    "\n",
    "# Creating DataFrame\n",
    "employee_data = pd.DataFrame(data)\n",
    "employee_data['Joining_Date'] = pd.to_datetime(employee_data['Joining_Date']) # Convert to datetime\n",
    "\n",
    "# Summary Information\n",
    "d = employee_data.info()"
   ]
  },
  {
   "cell_type": "code",
   "execution_count": null,
   "metadata": {},
   "outputs": [],
   "source": [
    "import pandas as pd\n",
    "\n",
    "# Sample Employee Data\n",
    "data = {\n",
    "    'Employee': ['Alice', 'Bob', 'Charlie', 'David', 'Eva'],\n",
    "    'Salary': [50000, 60000, 55000, 70000, 65000],\n",
    "    'Department': ['IT', 'HR', 'Finance', 'IT', 'HR'],\n",
    "    'Joining_Date': ['2015-06-23', '2018-07-18', '2016-08-21', '2019-09-12', '2020-01-10']\n",
    "}\n",
    "\n",
    "# Creating DataFrame\n",
    "employee_data = pd.DataFrame(data)\n",
    "employee_data['Joining_Date'] = pd.to_datetime(employee_data['Joining_Date']) # Convert to datetime\n",
    "\n",
    "# Statistical Summary\n",
    "e = employee_data.describe().transpose() "
   ]
  },
  {
   "cell_type": "markdown",
   "metadata": {},
   "source": [
    "## 📍 4. Selecting Data"
   ]
  },
  {
   "cell_type": "code",
   "execution_count": null,
   "metadata": {},
   "outputs": [],
   "source": [
    "# Sample Employee Data\n",
    "data = {\n",
    "    'Employee': ['Alice', 'Bob', 'Charlie', 'David', 'Eva'],\n",
    "    'Salary': [50000, 60000, 55000, 70000, 65000],\n",
    "    'Department': ['IT', 'HR', 'Finance', 'IT', 'HR'],\n",
    "    'Joining_Date': ['2015-06-23', '2018-07-18', '2016-08-21', '2019-09-12', '2020-01-10']\n",
    "}\n",
    "\n",
    "# Creating DataFrame\n",
    "employee_data = pd.DataFrame(data)\n",
    "employee_data['Joining_Date'] = pd.to_datetime(employee_data['Joining_Date']) # Convert to datetime\n",
    "\n",
    "\n",
    "# Select single column\n",
    "f = employee_data['Salary'] "
   ]
  },
  {
   "cell_type": "code",
   "execution_count": null,
   "metadata": {},
   "outputs": [],
   "source": [
    "# Sample Employee Data\n",
    "data = {\n",
    "    'Employee': ['Alice', 'Bob', 'Charlie', 'David', 'Eva'],\n",
    "    'Salary': [50000, 60000, 55000, 70000, 65000],\n",
    "    'Department': ['IT', 'HR', 'Finance', 'IT', 'HR'],\n",
    "    'Joining_Date': ['2015-06-23', '2018-07-18', '2016-08-21', '2019-09-12', '2020-01-10']\n",
    "}\n",
    "\n",
    "# Creating DataFrame\n",
    "employee_data = pd.DataFrame(data)\n",
    "employee_data['Joining_Date'] = pd.to_datetime(employee_data['Joining_Date']) # Convert to datetime\n",
    "\n",
    "# Select multiple columns\n",
    "g = employee_data[['Employee', 'Department']] "
   ]
  },
  {
   "cell_type": "code",
   "execution_count": null,
   "metadata": {},
   "outputs": [],
   "source": [
    "# Sample Employee Data\n",
    "data = {\n",
    "    'Employee': ['Alice', 'Bob', 'Charlie', 'David', 'Eva'],\n",
    "    'Salary': [50000, 60000, 55000, 70000, 65000],\n",
    "    'Department': ['IT', 'HR', 'Finance', 'IT', 'HR'],\n",
    "    'Joining_Date': ['2015-06-23', '2018-07-18', '2016-08-21', '2019-09-12', '2020-01-10']\n",
    "}\n",
    "\n",
    "# Creating DataFrame\n",
    "employee_data = pd.DataFrame(data)\n",
    "employee_data['Joining_Date'] = pd.to_datetime(employee_data['Joining_Date']) # Convert to datetime\n",
    "\n",
    "# Select rows using loc (label-based)\n",
    "h = employee_data.loc[1:3, ['Employee', 'Salary']] "
   ]
  },
  {
   "cell_type": "code",
   "execution_count": null,
   "metadata": {},
   "outputs": [],
   "source": [
    "# Sample Employee Data\n",
    "data = {\n",
    "    'Employee': ['Alice', 'Bob', 'Charlie', 'David', 'Eva'],\n",
    "    'Salary': [50000, 60000, 55000, 70000, 65000],\n",
    "    'Department': ['IT', 'HR', 'Finance', 'IT', 'HR'],\n",
    "    'Joining_Date': ['2015-06-23', '2018-07-18', '2016-08-21', '2019-09-12', '2020-01-10']\n",
    "}\n",
    "\n",
    "# Creating DataFrame\n",
    "employee_data = pd.DataFrame(data)\n",
    "employee_data['Joining_Date'] = pd.to_datetime(employee_data['Joining_Date']) # Convert to datetime\n",
    "\n",
    "# Select rows using iloc (position-based)\n",
    "i = employee_data.iloc[0:2, 0:3] "
   ]
  },
  {
   "cell_type": "markdown",
   "metadata": {},
   "source": [
    "## 📍 5. Adding & Removing Columns"
   ]
  },
  {
   "cell_type": "code",
   "execution_count": null,
   "metadata": {},
   "outputs": [],
   "source": [
    "# Sample Employee Data\n",
    "data = {\n",
    "    'Employee': ['Alice', 'Bob', 'Charlie', 'David', 'Eva'],\n",
    "    'Salary': [50000, 60000, 55000, 70000, 65000],\n",
    "    'Department': ['IT', 'HR', 'Finance', 'IT', 'HR'],\n",
    "    'Joining_Date': ['2015-06-23', '2018-07-18', '2016-08-21', '2019-09-12', '2020-01-10']\n",
    "}\n",
    "\n",
    "# Creating DataFrame\n",
    "employee_data = pd.DataFrame(data)\n",
    "employee_data['Joining_Date'] = pd.to_datetime(employee_data['Joining_Date']) # Convert to datetime\n",
    "\n",
    "# Add a new column\n",
    "employee_data['Bonus'] = employee_data['Salary'] * 0.1\n",
    "j = employee_data "
   ]
  },
  {
   "cell_type": "code",
   "execution_count": null,
   "metadata": {},
   "outputs": [],
   "source": [
    "# Sample Employee Data\n",
    "data = {\n",
    "    'Employee': ['Alice', 'Bob', 'Charlie', 'David', 'Eva'],\n",
    "    'Salary': [50000, 60000, 55000, 70000, 65000],\n",
    "    'Department': ['IT', 'HR', 'Finance', 'IT', 'HR'],\n",
    "    'Joining_Date': ['2015-06-23', '2018-07-18', '2016-08-21', '2019-09-12', '2020-01-10']\n",
    "}\n",
    "\n",
    "# Creating DataFrame\n",
    "employee_data = pd.DataFrame(data)\n",
    "employee_data['Joining_Date'] = pd.to_datetime(employee_data['Joining_Date']) # Convert to datetime\n",
    "\n",
    "# Drop a column\n",
    "employee_data.drop(columns=['Bonus'], inplace=True)\n",
    "k = employee_data "
   ]
  },
  {
   "cell_type": "markdown",
   "metadata": {},
   "source": [
    "## 📍 6. Sorting & Ranking"
   ]
  },
  {
   "cell_type": "code",
   "execution_count": null,
   "metadata": {},
   "outputs": [],
   "source": [
    "# Sample Employee Data\n",
    "data = {\n",
    "    'Employee': ['Alice', 'Bob', 'Charlie', 'David', 'Eva'],\n",
    "    'Salary': [50000, 60000, 55000, 70000, 65000],\n",
    "    'Department': ['IT', 'HR', 'Finance', 'IT', 'HR'],\n",
    "    'Joining_Date': ['2015-06-23', '2018-07-18', '2016-08-21', '2019-09-12', '2020-01-10']\n",
    "}\n",
    "\n",
    "# Creating DataFrame\n",
    "employee_data = pd.DataFrame(data)\n",
    "employee_data['Joining_Date'] = pd.to_datetime(employee_data['Joining_Date']) # Convert to datetime\n",
    "\n",
    "\n",
    "# Sort by Salary descending\n",
    "l = employee_data.sort_values(by='Salary', ascending=False) "
   ]
  },
  {
   "cell_type": "code",
   "execution_count": null,
   "metadata": {},
   "outputs": [],
   "source": [
    "# Sample Employee Data\n",
    "data = {\n",
    "    'Employee': ['Alice', 'Bob', 'Charlie', 'David', 'Eva'],\n",
    "    'Salary': [50000, 60000, 55000, 70000, 65000],\n",
    "    'Department': ['IT', 'HR', 'Finance', 'IT', 'HR'],\n",
    "    'Joining_Date': ['2015-06-23', '2018-07-18', '2016-08-21', '2019-09-12', '2020-01-10']\n",
    "}\n",
    "\n",
    "# Creating DataFrame\n",
    "employee_data = pd.DataFrame(data)\n",
    "employee_data['Joining_Date'] = pd.to_datetime(employee_data['Joining_Date']) # Convert to datetime\n",
    "\n",
    "\n",
    "# Rank salaries\n",
    "employee_data['Salary_Rank'] = employee_data['Salary'].rank(method='dense', ascending=False)\n",
    "m = employee_data['Salary_Rank'] "
   ]
  },
  {
   "cell_type": "markdown",
   "metadata": {},
   "source": [
    "## 📍 7. Aggregations"
   ]
  },
  {
   "cell_type": "code",
   "execution_count": null,
   "metadata": {},
   "outputs": [],
   "source": [
    "# Sample Employee Data\n",
    "data = {\n",
    "    'Employee': ['Alice', 'Bob', 'Charlie', 'David', 'Eva'],\n",
    "    'Salary': [50000, 60000, 55000, 70000, 65000],\n",
    "    'Department': ['IT', 'HR', 'Finance', 'IT', 'HR'],\n",
    "    'Joining_Date': ['2015-06-23', '2018-07-18', '2016-08-21', '2019-09-12', '2020-01-10']\n",
    "}\n",
    "\n",
    "# Creating DataFrame\n",
    "employee_data = pd.DataFrame(data)\n",
    "employee_data['Joining_Date'] = pd.to_datetime(employee_data['Joining_Date']) # Convert to datetime\n",
    "\n",
    "# Group by Department and calculate average salary\n",
    "n = employee_data.groupby('Department')['Salary'].mean() "
   ]
  },
  {
   "cell_type": "markdown",
   "metadata": {},
   "source": [
    "## 📍 8. Merging DataFrames"
   ]
  },
  {
   "cell_type": "code",
   "execution_count": null,
   "metadata": {},
   "outputs": [],
   "source": [
    "# Sample Employee Data\n",
    "\n",
    "data = {\n",
    "    'Employee': ['Alice', 'Bob', 'Charlie', 'David', 'Eva'],\n",
    "    'Salary': [50000, 60000, 55000, 70000, 65000],\n",
    "    'Department': ['IT', 'HR', 'Finance', 'IT', 'HR'],\n",
    "    'Joining_Date': ['2015-06-23', '2018-07-18', '2016-08-21', '2019-09-12', '2020-01-10']\n",
    "}\n",
    "\n",
    "# Creating DataFrame\n",
    "employee_data = pd.DataFrame(data)\n",
    "employee_data['Joining_Date'] = pd.to_datetime(employee_data['Joining_Date']) # Convert to datetime\n",
    "\n",
    "\n",
    "# Creating another DataFrame\n",
    "\n",
    "new_hires = pd.DataFrame({\n",
    "    'Employee': ['Frank', 'Grace'],\n",
    "    'Salary': [48000, 52000],\n",
    "    'Department': ['IT', 'Finance']\n",
    "})\n",
    "\n",
    "# Concatenating both DataFrames\n",
    "combined_data = pd.concat([employee_data, new_hires], ignore_index=True)\n",
    "o = combined_data "
   ]
  },
  {
   "cell_type": "markdown",
   "metadata": {},
   "source": [
    "## 📍 9. Handling Missing Data"
   ]
  },
  {
   "cell_type": "code",
   "execution_count": null,
   "metadata": {},
   "outputs": [],
   "source": [
    "# Sample Employee Data\n",
    "data = {\n",
    "    'Employee': ['Alice', 'Bob', 'Charlie', 'David', 'Eva'],\n",
    "    'Salary': [50000, 60000, 55000, 70000, 65000],\n",
    "    'Department': ['IT', 'HR', 'Finance', 'IT', 'HR'],\n",
    "    'Joining_Date': ['2015-06-23', '2018-07-18', '2016-08-21', '2019-09-12', '2020-01-10']\n",
    "}\n",
    "\n",
    "# Creating DataFrame\n",
    "employee_data = pd.DataFrame(data)\n",
    "employee_data['Joining_Date'] = pd.to_datetime(employee_data['Joining_Date']) # Convert to datetime\n",
    "\n",
    "\n",
    "# Checking for missing values\n",
    "p = combined_data.isna().sum() "
   ]
  },
  {
   "cell_type": "code",
   "execution_count": null,
   "metadata": {},
   "outputs": [],
   "source": [
    "# Sample Employee Data\n",
    "\n",
    "data = {\n",
    "    'Employee': ['Alice', 'Bob', 'Charlie', 'David', 'Eva'],\n",
    "    'Salary': [50000, 60000, 55000, 70000, 65000],\n",
    "    'Department': ['IT', 'HR', 'Finance', 'IT', 'HR'],\n",
    "    'Joining_Date': ['2015-06-23', '2018-07-18', '2016-08-21', '2019-09-12', '2020-01-10']\n",
    "}\n",
    "\n",
    "# Creating DataFrame\n",
    "employee_data = pd.DataFrame(data)\n",
    "employee_data['Joining_Date'] = pd.to_datetime(employee_data['Joining_Date']) # Convert to datetime\n",
    "\n",
    "\n",
    "# Filling missing values\n",
    "\n",
    "combined_data.fillna({'Salary': 50000}, inplace=True)\n",
    "q = combined_data "
   ]
  },
  {
   "cell_type": "markdown",
   "metadata": {},
   "source": [
    "## 📍 10. Exporting Data"
   ]
  },
  {
   "cell_type": "markdown",
   "metadata": {},
   "source": [
    "#### Export to CSV (won't work in this browser) - Try it in your machine.\n",
    "#### combined_data.to_csv('employees.csv', index=False)"
   ]
  }
 ],
 "metadata": {
  "kernelspec": {
   "display_name": "Python 3 (ipykernel)",
   "language": "python",
   "name": "python3"
  },
  "language_info": {
   "codemirror_mode": {
    "name": "ipython",
    "version": 3
   },
   "file_extension": ".py",
   "mimetype": "text/x-python",
   "name": "python",
   "nbconvert_exporter": "python",
   "pygments_lexer": "ipython3",
   "version": "3.11.5"
  }
 },
 "nbformat": 4,
 "nbformat_minor": 4
}
