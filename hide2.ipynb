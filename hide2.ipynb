{
 "cells": [
  {
   "cell_type": "code",
   "execution_count": 2,
   "id": "ae171f5d",
   "metadata": {},
   "outputs": [
    {
     "data": {
      "text/html": [
       "\n",
       "    <style>\n",
       "        #header, #header-container, #toolbar, #menubar, .jp-FileBrowser, .jp-Launcher, .jp-Sidebar {\n",
       "            display: none !important;\n",
       "        }\n",
       "        .jp-Notebook {\n",
       "            margin-top: 0 !important;\n",
       "        }\n",
       "    </style>\n"
      ],
      "text/plain": [
       "<IPython.core.display.HTML object>"
      ]
     },
     "metadata": {},
     "output_type": "display_data"
    },
    {
     "data": {
      "application/javascript": [
       "\n",
       "    setTimeout(function() {\n",
       "        var firstCell = Jupyter.notebook.get_cell(0);\n",
       "        if (firstCell) {\n",
       "            firstCell.element.hide();\n",
       "        }\n",
       "    }, 500); // Delay to ensure the notebook is loaded\n"
      ],
      "text/plain": [
       "<IPython.core.display.Javascript object>"
      ]
     },
     "metadata": {},
     "output_type": "display_data"
    }
   ],
   "source": [
    "from IPython.display import display, HTML, Javascript\n",
    "\n",
    "# Hide menus and toolbars\n",
    "display(HTML('''\n",
    "    <style>\n",
    "        #header, #header-container, #toolbar, #menubar, .jp-FileBrowser, .jp-Launcher, .jp-Sidebar {\n",
    "            display: none !important;\n",
    "        }\n",
    "        .jp-Notebook {\n",
    "            margin-top: 0 !important;\n",
    "        }\n",
    "    </style>\n",
    "'''))\n",
    "\n",
    "# Hide the first cell programmatically\n",
    "display(Javascript('''\n",
    "    setTimeout(function() {\n",
    "        var firstCell = Jupyter.notebook.get_cell(0);\n",
    "        if (firstCell) {\n",
    "            firstCell.element.hide();\n",
    "        }\n",
    "    }, 500); // Delay to ensure the notebook is loaded\n",
    "'''))"
   ]
  },
  {
   "cell_type": "code",
   "execution_count": 1,
   "id": "43b5f173",
   "metadata": {},
   "outputs": [
    {
     "name": "stdout",
     "output_type": "stream",
     "text": [
      "Hello\n"
     ]
    }
   ],
   "source": [
    "print(\"Hello\") "
   ]
  },
  {
   "cell_type": "code",
   "execution_count": null,
   "id": "06355e7b",
   "metadata": {},
   "outputs": [],
   "source": []
  }
 ],
 "metadata": {
  "kernelspec": {
   "display_name": "Python 3 (ipykernel)",
   "language": "python",
   "name": "python3"
  },
  "language_info": {
   "codemirror_mode": {
    "name": "ipython",
    "version": 3
   },
   "file_extension": ".py",
   "mimetype": "text/x-python",
   "name": "python",
   "nbconvert_exporter": "python",
   "pygments_lexer": "ipython3",
   "version": "3.11.5"
  }
 },
 "nbformat": 4,
 "nbformat_minor": 5
}
