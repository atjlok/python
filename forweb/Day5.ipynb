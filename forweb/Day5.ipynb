{
 "cells": [
  {
   "cell_type": "markdown",
   "id": "ee311afa",
   "metadata": {},
   "source": [
    "### Day 5: Loops in Python\n",
    "- Target - Understanding Loops\n",
    "- Loops are used to execute a block of code multiple times. Python provides two types of loops:\n",
    "\n",
    "### 1. for Loop:\n",
    "\n",
    "- Iterates over a sequence (e.g., list, tuple, string).\n",
    "\n",
    "Syntax:\n",
    "```\n",
    "for variable in sequence:\n",
    "    # code block\n",
    "```\n",
    "\n",
    "### 2. while Loop:\n",
    "\n",
    "- Executes as long as a specified condition is True.**\n",
    "\n",
    "Syntax:\n",
    "```\n",
    "while condition:\n",
    "    # code block\n",
    "```\n",
    "### Control Statements in Loops:\n",
    "\n",
    "- break: Exits the loop prematurely.\n",
    "- continue: Skips the rest of the code in the current iteration and moves to the next iteration.\n",
    "- pass: A placeholder statement that does nothing.\n",
    "\n",
    "### else in Loops:\n",
    "\n",
    "The else block in loops executes if the loop completes all iterations without encountering a break.\n"
   ]
  },
  {
   "cell_type": "code",
   "execution_count": null,
   "id": "e4e790aa",
   "metadata": {},
   "outputs": [],
   "source": [
    "# for loop example\n",
    "\n",
    "fruits = [\"apple\", \"banana\", \"cherry\"]\n",
    "for fruit in fruits:\n",
    "    print(\"I like\", fruit)"
   ]
  },
  {
   "cell_type": "code",
   "execution_count": null,
   "id": "99fdc4be",
   "metadata": {},
   "outputs": [],
   "source": [
    "# while loop example\n",
    "\n",
    "counter = 1\n",
    "while counter <= 5:\n",
    "    print(\"Counter is:\", counter)\n",
    "    counter += 1    "
   ]
  },
  {
   "cell_type": "code",
   "execution_count": null,
   "id": "f1d61f3d",
   "metadata": {},
   "outputs": [],
   "source": [
    "# Using break\n",
    "\n",
    "for number in range(1, 10):\n",
    "    if number == 5:\n",
    "        print(\"Breaking the loop at number:\", number)\n",
    "        break\n",
    "    print(number)    "
   ]
  },
  {
   "cell_type": "code",
   "execution_count": null,
   "id": "017e6c5b",
   "metadata": {},
   "outputs": [],
   "source": [
    "# Using continue\n",
    "\n",
    "for number in range(1, 6):\n",
    "    if number == 3:\n",
    "        print(\"Skipping number:\", number)\n",
    "        continue\n",
    "    print(number)"
   ]
  },
  {
   "cell_type": "code",
   "execution_count": null,
   "id": "cb1d75e0",
   "metadata": {},
   "outputs": [],
   "source": [
    "# else in loops\n",
    "\n",
    "for number in range(1, 4):\n",
    "    print(number)\n",
    "else:\n",
    "    print(\"Loop completed without a break.\")"
   ]
  },
  {
   "cell_type": "markdown",
   "id": "20d4acc7",
   "metadata": {},
   "source": [
    "Practice Tasks : "
   ]
  },
  {
   "cell_type": "code",
   "execution_count": null,
   "id": "960b4877",
   "metadata": {},
   "outputs": [],
   "source": [
    "# Write a Python script to - Print numbers from 1 to 10 using a for loop.\n",
    "\n",
    "\n",
    "\n",
    "\n",
    "\n",
    "\n",
    "\n"
   ]
  },
  {
   "cell_type": "code",
   "execution_count": null,
   "id": "fa35ad3d",
   "metadata": {},
   "outputs": [],
   "source": [
    "# Write a Python script to - Print \"Even\" for even numbers and \"Odd\" for odd numbers.\n",
    "\n",
    "\n",
    "\n",
    "\n",
    "\n",
    "\n",
    "\n",
    "\n",
    "\n"
   ]
  },
  {
   "cell_type": "code",
   "execution_count": null,
   "id": "f0f85a16",
   "metadata": {},
   "outputs": [],
   "source": [
    "# Using a while loop - Count down from 10 to 1. Print \"Keep Going\" after the countdown.\n",
    "\n",
    "\n",
    "\n",
    "\n",
    "\n",
    "\n",
    "\n",
    "\n",
    "\n",
    "\n",
    "\n",
    "\n"
   ]
  },
  {
   "cell_type": "code",
   "execution_count": null,
   "id": "74dfb64b",
   "metadata": {},
   "outputs": [],
   "source": [
    "# Create a loop to - Iterate over a list of integers. Break the loop when the integer 7 is encountered.\n",
    "# Print \"Number 7 found, exiting loop.\"\n",
    "\n",
    "\n",
    "\n",
    "\n",
    "\n",
    "\n",
    "\n",
    "\n",
    "\n",
    "\n"
   ]
  },
  {
   "cell_type": "code",
   "execution_count": null,
   "id": "6f4dbe6f",
   "metadata": {},
   "outputs": [],
   "source": [
    "# Use else in a loop - Iterate over a range of numbers.\n",
    "# Print a message when the loop completes successfully without a break.\n",
    "\n",
    "\n",
    "\n",
    "\n",
    "\n",
    "\n",
    "\n",
    "\n",
    "\n",
    "\n",
    "\n"
   ]
  }
 ],
 "metadata": {
  "kernelspec": {
   "display_name": "Python 3 (ipykernel)",
   "language": "python",
   "name": "python3"
  },
  "language_info": {
   "codemirror_mode": {
    "name": "ipython",
    "version": 3
   },
   "file_extension": ".py",
   "mimetype": "text/x-python",
   "name": "python",
   "nbconvert_exporter": "python",
   "pygments_lexer": "ipython3",
   "version": "3.11.5"
  }
 },
 "nbformat": 4,
 "nbformat_minor": 5
}
