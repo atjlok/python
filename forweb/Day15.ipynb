{
 "cells": [
  {
   "cell_type": "markdown",
   "id": "f1493ba8",
   "metadata": {},
   "source": [
    "# Day 15: Python Libraries and Modules\n",
    "\n",
    "Target - Understanding Libraries and Modules in Python.\n",
    "\n",
    "**What is a Module?**\n",
    "\n",
    "- A module is a file containing Python definitions and statements.\n",
    "- A file named example.py is a module named example.\n",
    "\n",
    "**What is a Library?**\n",
    "\n",
    "- A library is a collection of modules, designed to provide reusable functionality.\n",
    "- Example: math, random, os, sys are all standard libraries.\n",
    "\n",
    "### Using Modules:\n",
    "\n",
    "- Modules can be imported into your program using the import keyword.\n",
    "\n",
    "Syntax:\n",
    "```\n",
    "import module_name\n",
    "Importing Specific Functions:\n",
    "```\n",
    "### You can import specific functions from a module using the from keyword.\n",
    "\n",
    "Syntax:\n",
    "```\n",
    "from module_name import function_name\n",
    "```\n",
    "\n",
    "### Creating Your Own Modules:\n",
    "\n",
    "- You can create your own modules by saving Python code in a .py file.\n",
    "- This allows you to reuse the code in multiple projects.\n",
    "\n",
    "### Popular Python Libraries:\n",
    "\n",
    "#### NumPy: \n",
    "\n",
    "- Provides support for large, multi-dimensional arrays and matrices, along with a collection of mathematical functions.\n",
    "\n",
    "#### Pandas: \n",
    "\n",
    "- A powerful library for data manipulation and analysis.\n",
    "\n",
    "#### Matplotlib: \n",
    "\n",
    "- A plotting library for creating static, animated, and interactive visualizations in Python.\n",
    "\n",
    "#### Requests: \n",
    "\n",
    "- A simple HTTP library for making requests to web services.\n",
    "\n",
    "#### Installing External Libraries (via \"pip\" - \" Preferred Installer Program\"):\n",
    "\n",
    "- You can install third-party libraries using pip, Python’s package installer.\n",
    "\n",
    "Example:\n",
    "```\n",
    "pip install numpy\n",
    "```\n",
    "\n",
    "#### The sys and os Modules:\n",
    "\n",
    "- sys: Provides access to system-specific parameters and functions.\n",
    "- os: Provides a way of interacting with the operating system, like manipulating files and directories.\n"
   ]
  },
  {
   "cell_type": "code",
   "execution_count": 2,
   "id": "6d9c4edc",
   "metadata": {},
   "outputs": [
    {
     "name": "stdout",
     "output_type": "stream",
     "text": [
      "4.0\n"
     ]
    }
   ],
   "source": [
    "# Importing a whole module\n",
    "\n",
    "import math\n",
    "print(math.sqrt(16))  # Output: 4.0"
   ]
  },
  {
   "cell_type": "code",
   "execution_count": 3,
   "id": "f1b13ad3",
   "metadata": {},
   "outputs": [
    {
     "name": "stdout",
     "output_type": "stream",
     "text": [
      "120\n"
     ]
    }
   ],
   "source": [
    "# Importing specific function\n",
    "\n",
    "from math import factorial\n",
    "print(factorial(5))  # Output: 120"
   ]
  },
  {
   "cell_type": "markdown",
   "id": "603a82c9",
   "metadata": {},
   "source": [
    "```\n",
    "# Creating a simple module\n",
    "# Save the following two lines as greetings.py:\n",
    "\n",
    "def say_hello():\n",
    "   print(\"Hello, World!\")\n",
    "\n",
    "\n",
    "# Importing and using the module\n",
    "\n",
    "import greetings\n",
    "greetings.say_hello()  # Output: Hello, World!\n",
    "```"
   ]
  },
  {
   "cell_type": "markdown",
   "id": "d41b38da",
   "metadata": {},
   "source": [
    "```\n",
    "# Using the 'os' module to get the current working directory\n",
    "\n",
    "import os\n",
    "print(os.getcwd())  # Output: Current working directory\n",
    "```"
   ]
  },
  {
   "cell_type": "markdown",
   "id": "ba22bd63",
   "metadata": {},
   "source": [
    "```\n",
    "# Using the 'sys' module to get command-line arguments\n",
    "\n",
    "import sys\n",
    "print(sys.argv)  # Output: List of command-line arguments\n",
    "```"
   ]
  },
  {
   "cell_type": "markdown",
   "id": "e2d21f34",
   "metadata": {},
   "source": [
    "## Practice Tasks"
   ]
  },
  {
   "cell_type": "markdown",
   "id": "34825a69",
   "metadata": {},
   "source": [
    "### Create a Python module math_operations.py:\n",
    "\n",
    "Define functions add(a, b), subtract(a, b), and multiply(a, b).\n",
    "Import and use these functions in another Python file.\n",
    "\n",
    "### Write a script to:\n",
    "\n",
    "Use the os module to create a new directory and print the list of files in the current directory.\n",
    "\n",
    "### Use the random module to:\n",
    "\n",
    "Generate a random number between 1 and 100 and print it.\n",
    "\n",
    "### Install and use the requests module:\n",
    "\n",
    "Send a GET request to a website and print the response status code.\n",
    "\n",
    "### Create a program to:\n",
    "\n",
    "Use pandas to read a CSV file, calculate the mean of a specific column, and print the result.\n",
    "\n",
    "### Install the matplotlib library and create a simple line plot using:\n",
    "\n",
    "x = [1, 2, 3, 4] and y = [1, 4, 9, 16] for a plot of squares."
   ]
  }
 ],
 "metadata": {
  "kernelspec": {
   "display_name": "Python 3 (ipykernel)",
   "language": "python",
   "name": "python3"
  },
  "language_info": {
   "codemirror_mode": {
    "name": "ipython",
    "version": 3
   },
   "file_extension": ".py",
   "mimetype": "text/x-python",
   "name": "python",
   "nbconvert_exporter": "python",
   "pygments_lexer": "ipython3",
   "version": "3.11.5"
  }
 },
 "nbformat": 4,
 "nbformat_minor": 5
}
