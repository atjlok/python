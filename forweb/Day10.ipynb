{
 "cells": [
  {
   "cell_type": "markdown",
   "id": "12df726e",
   "metadata": {},
   "source": [
    "# Day 10: Functions in Python\n",
    "\n",
    "- Target - Understanding Functions.\n",
    "- Functions in Python are blocks of code that only run when they are called. \n",
    "- Functions help in organizing code, reducing repetition, and improving maintainability.\n",
    "\n",
    "## Defining a Function:\n",
    "\n",
    "- Use the def keyword to define a function.\n",
    "\n",
    "Syntax:\n",
    "\n",
    "```\n",
    "def function_name(parameters):\n",
    "    # code block\n",
    "```\n",
    "\n",
    "## Calling a Function:\n",
    "\n",
    "- After defining a function, call it by using its name followed by parentheses.\n",
    "\n",
    "Example: function_name()\n",
    "\n",
    "\n",
    "## Function Parameters and Arguments:\n",
    "\n",
    "- Parameters are the variables in the function definition.\n",
    "- Arguments are the values passed to the function when calling it.\n",
    "\n",
    "## Return Statement:\n",
    "\n",
    "- The return statement is used to send a result from the function back to the caller.\n",
    "\n",
    "## Scope of Variables:\n",
    "\n",
    "- Variables defined inside a function have local scope and cannot be accessed outside the function.\n",
    "- Variables defined outside a function have global scope and can be accessed anywhere in the code.\n"
   ]
  },
  {
   "cell_type": "markdown",
   "id": "321d75b8",
   "metadata": {},
   "source": [
    "## Defining a simple function\n",
    "```\n",
    "def greet(name):\n",
    "    print(f\"Hello, {name}!\")\n",
    "```"
   ]
  },
  {
   "cell_type": "code",
   "execution_count": null,
   "id": "083d39c1",
   "metadata": {},
   "outputs": [],
   "source": [
    "# Defining a simple function\n",
    "\n",
    "def greet(name):\n",
    "    print(f\"Hello, {name}!\")\n",
    "\n",
    "# Calling the function\n",
    "greet(\"Alice\")  # Output: Hello, Alice!"
   ]
  },
  {
   "cell_type": "code",
   "execution_count": null,
   "id": "9713386a",
   "metadata": {},
   "outputs": [],
   "source": [
    "# Function with a return value\n",
    "\n",
    "def add(a, b):\n",
    "    return a + b\n",
    "\n",
    "result = add(5, 3)\n",
    "print(\"Sum:\", result)  # Output: Sum: 8"
   ]
  },
  {
   "cell_type": "code",
   "execution_count": null,
   "id": "57acaa16",
   "metadata": {},
   "outputs": [],
   "source": [
    "# Function with default parameters\n",
    "\n",
    "def greet(name=\"Guest\"):\n",
    "    print(f\"Hello, {name}!\")\n",
    "\n",
    "greet(\"Alice\")  # Output: Hello, Alice!\n",
    "greet()         # Output: Hello, Guest!"
   ]
  },
  {
   "cell_type": "code",
   "execution_count": null,
   "id": "8c89ee5d",
   "metadata": {},
   "outputs": [],
   "source": [
    "# Scope of variables\n",
    "\n",
    "x = 10  # Global variable\n",
    "\n",
    "def print_x():\n",
    "    x = 5  # Local variable\n",
    "    print(\"Local x:\", x)\n",
    "\n",
    "print_x()  # Output: Local x: 5\n",
    "print(\"Global x:\", x)  # Output: Global x: 10"
   ]
  },
  {
   "cell_type": "code",
   "execution_count": null,
   "id": "9fb09d39",
   "metadata": {},
   "outputs": [],
   "source": [
    "# Returning multiple values from a function\n",
    "\n",
    "def arithmetic_operations(a, b):\n",
    "    addition = a + b\n",
    "    subtraction = a - b\n",
    "    return addition, subtraction\n",
    "\n",
    "sum_result, diff_result = arithmetic_operations(8, 5)\n",
    "print(\"Sum:\", sum_result)          # Output: Sum: 13\n",
    "print(\"Difference:\", diff_result)  # Output: Difference: 3"
   ]
  },
  {
   "cell_type": "markdown",
   "id": "189728fd",
   "metadata": {},
   "source": [
    "## Practice Tasks"
   ]
  },
  {
   "cell_type": "code",
   "execution_count": null,
   "id": "36b83afe",
   "metadata": {},
   "outputs": [],
   "source": [
    "# Write a function that: Takes a number as input and returns whether the number is even or odd.\n",
    "\n",
    "\n",
    "\n",
    "\n",
    "\n",
    "\n",
    "\n",
    "\n",
    "\n",
    "\n",
    "\n",
    "\n",
    "\n",
    "\n",
    "\n"
   ]
  },
  {
   "cell_type": "code",
   "execution_count": null,
   "id": "54c2b758",
   "metadata": {},
   "outputs": [],
   "source": [
    "# Create a function to: Take two arguments and return the largest of the two numbers.\n",
    "\n",
    "\n",
    "\n",
    "\n",
    "\n",
    "\n",
    "\n",
    "\n",
    "\n",
    "\n",
    "\n",
    "\n",
    "\n",
    "\n"
   ]
  },
  {
   "cell_type": "code",
   "execution_count": null,
   "id": "ea210fca",
   "metadata": {},
   "outputs": [],
   "source": [
    "# Define a function that: Takes a list of numbers and returns the sum of all numbers in the list.\n",
    "\n",
    "\n",
    "\n",
    "\n",
    "\n",
    "\n",
    "\n",
    "\n",
    "\n",
    "\n",
    "\n",
    "\n",
    "\n"
   ]
  },
  {
   "cell_type": "code",
   "execution_count": null,
   "id": "29e1606e",
   "metadata": {},
   "outputs": [],
   "source": [
    "# Write a function to: Calculate and return the factorial of a number using a loop.\n",
    "\n",
    "\n",
    "\n",
    "\n",
    "\n",
    "\n",
    "\n",
    "\n",
    "\n",
    "\n",
    "\n",
    "\n",
    "\n",
    "\n"
   ]
  },
  {
   "cell_type": "code",
   "execution_count": null,
   "id": "1984b1d5",
   "metadata": {},
   "outputs": [],
   "source": [
    "# Create a function that: Takes a string as input and returns the string in reverse order.\n",
    "\n",
    "\n",
    "\n",
    "\n",
    "\n",
    "\n",
    "\n",
    "\n",
    "\n",
    "\n",
    "\n",
    "\n",
    "\n",
    "\n",
    "\n"
   ]
  },
  {
   "cell_type": "code",
   "execution_count": null,
   "id": "1128b17d",
   "metadata": {},
   "outputs": [],
   "source": [
    "# Write a function with a default parameter:\n",
    "\n",
    "# If no parameter is passed, print \"Hello, World!\". If a name is passed, print \"Hello, <name>!\".\n",
    "\n",
    "\n",
    "\n",
    "\n",
    "\n",
    "\n",
    "\n",
    "\n",
    "\n",
    "\n",
    "\n",
    "\n",
    "\n",
    "\n",
    "\n",
    "\n",
    "\n"
   ]
  }
 ],
 "metadata": {
  "kernelspec": {
   "display_name": "Python 3 (ipykernel)",
   "language": "python",
   "name": "python3"
  },
  "language_info": {
   "codemirror_mode": {
    "name": "ipython",
    "version": 3
   },
   "file_extension": ".py",
   "mimetype": "text/x-python",
   "name": "python",
   "nbconvert_exporter": "python",
   "pygments_lexer": "ipython3",
   "version": "3.11.5"
  }
 },
 "nbformat": 4,
 "nbformat_minor": 5
}
