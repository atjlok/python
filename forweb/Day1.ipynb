{
 "cells": [
  {
   "cell_type": "markdown",
   "id": "4819f62a",
   "metadata": {},
   "source": [
    "### Day-1 : Introduction to Python Basics\n",
    "\n",
    "-- Target - Understanding Python Basics - \n",
    "\n",
    "-- Python is a high-level, interpreted programming language known for its simplicity and readability. \n",
    "\n",
    "- Here's what you need to know to get started:\n",
    "\n",
    "### Python Execution Model:-\n",
    "\n",
    "- Python scripts are executed line by line, making it an interpreted language.\n",
    "- Indentation is crucial as it defines code blocks in Python.\n",
    "\n",
    "Using the print() Function:\n",
    "### The print() function is used to display output to the console.\n",
    "\n",
    "- Syntax: print(object, sep=' ', end='\\\\n')\n",
    "- Example: print(\"Hello, World!\") prints the text \"Hello, World!\"\n",
    "\n",
    "### Importance of Comments:\n",
    "\n",
    "- Comments are used to explain the code and are ignored during execution.\n",
    "- Single-line comments start with #.\n",
    "- Multi-line comments use triple quotes (''' or \"\"\").\n"
   ]
  },
  {
   "cell_type": "code",
   "execution_count": null,
   "id": "5c059070",
   "metadata": {},
   "outputs": [],
   "source": [
    "# Example: Using print() and comments\n",
    "\n",
    "print(\"Welcome to Python Basics!\")  # This is a single-line comment\n",
    "\n",
    "# Multi-line comment\n",
    "\n",
    "'''This is a multi-line comment.\n",
    "It can span multiple lines.'''\n",
    "print(\"Python is easy to learn!\")  # Output a simple message\n"
   ]
  },
  {
   "cell_type": "code",
   "execution_count": null,
   "id": "17cb67a3",
   "metadata": {},
   "outputs": [],
   "source": [
    "# Printing multiple items with separators\n",
    "\n",
    "print(\"Python\", \"is\", \"fun\", sep=\" - \")  # Output: Python - is - fun\n",
    "\n",
    "# Using end parameter\n",
    "\n",
    "print(\"This is line 1.\", end=\" \")\n",
    "print(\"This is line 2.\")  # Output: This is line 1. This is line 2.\n"
   ]
  },
  {
   "cell_type": "markdown",
   "id": "af2d169c",
   "metadata": {},
   "source": [
    "**Practice Tasks** \n",
    "\n",
    "Exercise - 1 : Write a Python script to display the following output:\n",
    "Hello, Python!\n",
    "Welcome to programming."
   ]
  },
  {
   "cell_type": "code",
   "execution_count": null,
   "id": "0ab3a8de",
   "metadata": {},
   "outputs": [],
   "source": [
    "# Exercise - 1 \n",
    "\n",
    "\n",
    "\n",
    "\n"
   ]
  },
  {
   "cell_type": "markdown",
   "id": "f5168a4a",
   "metadata": {},
   "source": [
    "Exercise - 2 : Add comments explaining what each line of your script does."
   ]
  },
  {
   "cell_type": "code",
   "execution_count": null,
   "id": "8928eb0c",
   "metadata": {},
   "outputs": [],
   "source": [
    "# Exercise - 2\n",
    "\n",
    "\n",
    "\n",
    "\n",
    "\n"
   ]
  },
  {
   "cell_type": "markdown",
   "id": "f2ceedec",
   "metadata": {},
   "source": [
    "Exercise - 3 : Use the print() function to display a sentence with words separated by hyphens (-)."
   ]
  },
  {
   "cell_type": "code",
   "execution_count": null,
   "id": "89f1f670",
   "metadata": {},
   "outputs": [],
   "source": [
    "# Exercise - 3\n",
    "\n",
    "\n",
    "\n",
    "\n",
    "\n"
   ]
  }
 ],
 "metadata": {
  "kernelspec": {
   "display_name": "Python 3 (ipykernel)",
   "language": "python",
   "name": "python3"
  },
  "language_info": {
   "codemirror_mode": {
    "name": "ipython",
    "version": 3
   },
   "file_extension": ".py",
   "mimetype": "text/x-python",
   "name": "python",
   "nbconvert_exporter": "python",
   "pygments_lexer": "ipython3",
   "version": "3.11.5"
  }
 },
 "nbformat": 4,
 "nbformat_minor": 5
}
