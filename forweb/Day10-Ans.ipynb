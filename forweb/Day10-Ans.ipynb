{
 "cells": [
  {
   "cell_type": "markdown",
   "id": "680eef80",
   "metadata": {},
   "source": [
    "Task 1: Function to Check if a Number is Even or Odd"
   ]
  },
  {
   "cell_type": "code",
   "execution_count": null,
   "id": "01bb3a6d",
   "metadata": {},
   "outputs": [],
   "source": [
    "# Write a function that takes a number as input and returns whether the number is even or odd\n",
    "\n",
    "def check_even_odd(number):\n",
    "    if number % 2 == 0:\n",
    "        return \"Even\"\n",
    "    else:\n",
    "        return \"Odd\"\n",
    "\n",
    "# Example usage\n",
    "\n",
    "print(check_even_odd(5))  # Output: Odd"
   ]
  },
  {
   "cell_type": "markdown",
   "id": "1dea1256",
   "metadata": {},
   "source": [
    "Task 2: Function to Return the Largest of Two Numbers"
   ]
  },
  {
   "cell_type": "code",
   "execution_count": null,
   "id": "dc6a5e6d",
   "metadata": {},
   "outputs": [],
   "source": [
    "# Create a function to take two arguments and return the largest of the two numbers\n",
    "\n",
    "def largest_of_two(num1, num2):\n",
    "    if num1 > num2:\n",
    "        return num1\n",
    "    else:\n",
    "        return num2\n",
    "\n",
    "# Example usage\n",
    "\n",
    "print(largest_of_two(5, 10))  # Output: 10"
   ]
  },
  {
   "cell_type": "markdown",
   "id": "785fe20b",
   "metadata": {},
   "source": [
    "Task 3: Function to Return the Sum of All Numbers in a List"
   ]
  },
  {
   "cell_type": "code",
   "execution_count": null,
   "id": "2076e2a1",
   "metadata": {},
   "outputs": [],
   "source": [
    "# Define a function that takes a list of numbers and returns the sum of all numbers in the list\n",
    "\n",
    "def sum_of_numbers(numbers):\n",
    "    return sum(numbers)\n",
    "\n",
    "# Example usage\n",
    "\n",
    "print(sum_of_numbers([1, 2, 3, 4]))  # Output: 10"
   ]
  },
  {
   "cell_type": "markdown",
   "id": "f467578d",
   "metadata": {},
   "source": [
    "Task 4: Function to Calculate the Factorial of a Number Using a Loop"
   ]
  },
  {
   "cell_type": "code",
   "execution_count": null,
   "id": "5db55a50",
   "metadata": {},
   "outputs": [],
   "source": [
    "# Write a function to calculate and return the factorial of a number using a loop\n",
    "\n",
    "def factorial(number):\n",
    "    result = 1\n",
    "    for i in range(1, number + 1):\n",
    "        result *= i\n",
    "    return result\n",
    "\n",
    "# Example usage\n",
    "\n",
    "print(factorial(5))  # Output: 120"
   ]
  },
  {
   "cell_type": "markdown",
   "id": "2229e95c",
   "metadata": {},
   "source": [
    "Task 5: Function to Return a String in Reverse Order"
   ]
  },
  {
   "cell_type": "code",
   "execution_count": null,
   "id": "b8e0a779",
   "metadata": {},
   "outputs": [],
   "source": [
    "# Create a function that takes a string as input and returns the string in reverse order\n",
    "\n",
    "def reverse_string(s):\n",
    "    return s[::-1]\n",
    "\n",
    "# Example usage\n",
    "\n",
    "print(reverse_string(\"Hello\"))  # Output: olleH"
   ]
  },
  {
   "cell_type": "markdown",
   "id": "fcf2d5f0",
   "metadata": {},
   "source": [
    "Task 6: Function with a Default Parameter"
   ]
  },
  {
   "cell_type": "code",
   "execution_count": null,
   "id": "19ae10aa",
   "metadata": {},
   "outputs": [],
   "source": [
    "# Write a function with a default parameter. If no parameter is passed, print \"Hello, World!\".\n",
    "# If a name is passed, print \"Hello, <name>!\"\n",
    "\n",
    "def greet(name=\"World\"):\n",
    "    print(f\"Hello, {name}!\")\n",
    "\n",
    "# Example usage\n",
    "\n",
    "greet()  # Output: Hello, World!\n",
    "greet(\"Alice\")  # Output: Hello, Alice!"
   ]
  }
 ],
 "metadata": {
  "kernelspec": {
   "display_name": "Python 3 (ipykernel)",
   "language": "python",
   "name": "python3"
  },
  "language_info": {
   "codemirror_mode": {
    "name": "ipython",
    "version": 3
   },
   "file_extension": ".py",
   "mimetype": "text/x-python",
   "name": "python",
   "nbconvert_exporter": "python",
   "pygments_lexer": "ipython3",
   "version": "3.11.5"
  }
 },
 "nbformat": 4,
 "nbformat_minor": 5
}
