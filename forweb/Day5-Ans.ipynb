{
 "cells": [
  {
   "cell_type": "markdown",
   "id": "eac38575",
   "metadata": {},
   "source": [
    "Task 1: Print Numbers from 1 to 10 and Check Even/Odd"
   ]
  },
  {
   "cell_type": "code",
   "execution_count": null,
   "id": "e4d081bd",
   "metadata": {},
   "outputs": [],
   "source": [
    "# This script prints numbers from 1 to 10 and checks if they are even or odd.\n",
    "\n",
    "for number in range(1, 11):\n",
    "    if number % 2 == 0:\n",
    "        print(f\"{number} is Even\")\n",
    "    else:\n",
    "        print(f\"{number} is Odd\")\n",
    "        "
   ]
  },
  {
   "cell_type": "markdown",
   "id": "d7802de1",
   "metadata": {},
   "source": [
    "Task 2: Countdown Using a While Loop    "
   ]
  },
  {
   "cell_type": "code",
   "execution_count": null,
   "id": "51609010",
   "metadata": {},
   "outputs": [],
   "source": [
    "# This script counts down from 10 to 1 and prints \"Keep Going!\" after the countdown.\n",
    "\n",
    "count = 10\n",
    "while count > 0:\n",
    "    print(count)\n",
    "    count -= 1\n",
    "\n",
    "print(\"Keep Going!\")"
   ]
  },
  {
   "cell_type": "markdown",
   "id": "e77cd645",
   "metadata": {},
   "source": [
    "Task 3: Break Loop on Finding 7"
   ]
  },
  {
   "cell_type": "code",
   "execution_count": null,
   "id": "a0b77a30",
   "metadata": {},
   "outputs": [],
   "source": [
    "# This script iterates over a list and exits the loop when 7 is found.\n",
    "\n",
    "numbers = [1, 2, 3, 4, 5, 6, 7, 8, 9, 10]\n",
    "\n",
    "for number in numbers:\n",
    "    if number == 7:\n",
    "        print(\"Number 7 found, exiting loop.\")\n",
    "        break\n",
    "    print(f\"Processing number: {number}\")    "
   ]
  },
  {
   "cell_type": "markdown",
   "id": "a88887e9",
   "metadata": {},
   "source": [
    "Task 4: Use Else in a Loop    "
   ]
  },
  {
   "cell_type": "code",
   "execution_count": null,
   "id": "7027eac5",
   "metadata": {},
   "outputs": [],
   "source": [
    "# This script iterates over a range of numbers and prints a message if the loop completes without a break.\n",
    "\n",
    "for number in range(1, 6):\n",
    "    print(f\"Number: {number}\")\n",
    "else:\n",
    "    print(\"Loop completed successfully without a break.\")"
   ]
  }
 ],
 "metadata": {
  "kernelspec": {
   "display_name": "Python 3 (ipykernel)",
   "language": "python",
   "name": "python3"
  },
  "language_info": {
   "codemirror_mode": {
    "name": "ipython",
    "version": 3
   },
   "file_extension": ".py",
   "mimetype": "text/x-python",
   "name": "python",
   "nbconvert_exporter": "python",
   "pygments_lexer": "ipython3",
   "version": "3.11.5"
  }
 },
 "nbformat": 4,
 "nbformat_minor": 5
}
