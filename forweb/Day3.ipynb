{
 "cells": [
  {
   "cell_type": "markdown",
   "id": "f567fc03",
   "metadata": {},
   "source": [
    "### Day-3 : Operators in Python\n",
    "\n",
    "- Target - Understanding Python Operators\n",
    "- Operators in Python are used to perform operations on variables and values. \n",
    "\n",
    "- Here are the types of operators:\n",
    "\n",
    "### Arithmetic Operators:\n",
    "```\n",
    "Perform mathematical operations.\n",
    "\n",
    "Examples: +, -, *, /, //, %, **\n",
    "  Example: 5 + 3 results in 8.\n",
    "```\n",
    "\n",
    "### Comparison Operators:\n",
    "```\n",
    "Compare two values and return a Boolean result.\n",
    "\n",
    "Examples: ==, !=, >, <, >=, <=\n",
    "  Example: 5 > 3 returns True.\n",
    "  \n",
    "```\n",
    "### Logical Operators:\n",
    "```\n",
    "Combine conditional statements.\n",
    "\n",
    "Examples: and, or, not\n",
    "  Example: (5 > 3) and (2 < 4) returns True.\n",
    "```\n",
    "\n",
    "### Assignment Operators:\n",
    "```\n",
    "Assign values to variables.\n",
    "\n",
    "Examples: =, +=, -=, *=, /=, %=\n",
    "  Example: x += 5 increases x by 5.\n",
    "```\n",
    "\n",
    "### Bitwise Operators:\n",
    "```\n",
    "Perform operations at the binary level.\n",
    "\n",
    "Examples: &, |, ^, ~, <<, >>\n",
    "  Example: 5 & 3 performs a bitwise AND.\n",
    "```\n",
    "\n",
    "### Membership Operators:\n",
    "```\n",
    "Check for membership in sequences.\n",
    "\n",
    "Examples: in, not in\n",
    "  Example: 'a' in 'apple' returns True.\n",
    "```\n"
   ]
  },
  {
   "cell_type": "code",
   "execution_count": null,
   "id": "16793c43",
   "metadata": {},
   "outputs": [],
   "source": [
    "# Arithmetic Operators\n",
    "\n",
    "a = 10\n",
    "b = 3\n",
    "print(\"Addition:\", a + b)\n",
    "print(\"Division:\", a / b)\n",
    "print(\"Floor Division:\", a // b)\n",
    "print(\"Modulus:\", a % b)\n",
    "print(\"Exponentiation:\", a ** b)"
   ]
  },
  {
   "cell_type": "code",
   "execution_count": null,
   "id": "c98251d7",
   "metadata": {},
   "outputs": [],
   "source": [
    "# Comparison Operators\n",
    "\n",
    "x = 5\n",
    "y = 10\n",
    "print(\"x equals y:\", x == y)\n",
    "print(\"x not equal to y:\", x != y)\n",
    "print(\"x less than y:\", x < y)"
   ]
  },
  {
   "cell_type": "code",
   "execution_count": null,
   "id": "eb45814a",
   "metadata": {},
   "outputs": [],
   "source": [
    "# Logical Operators\n",
    "\n",
    "print(\"Logical AND:\", (5 > 3) and (2 > 1))  # Both conditions are true\n",
    "print(\"Logical OR:\", (5 < 3) or (2 > 1))   # One condition is true\n",
    "print(\"Logical NOT:\", not(5 > 3))          # Negates the result"
   ]
  },
  {
   "cell_type": "code",
   "execution_count": null,
   "id": "9398dfb2",
   "metadata": {},
   "outputs": [],
   "source": [
    "# Membership Operators\n",
    "\n",
    "my_list = [1, 2, 3, 4, 5]\n",
    "print(\"Is 3 in the list?\", 3 in my_list)\n",
    "print(\"Is 6 not in the list?\", 6 not in my_list)"
   ]
  },
  {
   "cell_type": "markdown",
   "id": "ffe6ffa4",
   "metadata": {},
   "source": [
    "Practice Tasks : "
   ]
  },
  {
   "cell_type": "code",
   "execution_count": null,
   "id": "81e1fbfe",
   "metadata": {},
   "outputs": [],
   "source": [
    "    \n",
    "# Perform the following using arithmetic operators:\n",
    "\n",
    "# Add two numbers.\n",
    "\n",
    "\n",
    "\n",
    "\n",
    "\n",
    "\n",
    "\n"
   ]
  },
  {
   "cell_type": "code",
   "execution_count": null,
   "id": "aa9e9c3c",
   "metadata": {},
   "outputs": [],
   "source": [
    "# Divide two numbers and display the result as a float.\n",
    "\n",
    "\n",
    "\n",
    "\n",
    "\n",
    "\n",
    "\n",
    "\n"
   ]
  },
  {
   "cell_type": "code",
   "execution_count": null,
   "id": "5cf83aeb",
   "metadata": {},
   "outputs": [],
   "source": [
    "# Calculate the remainder of a division.\n",
    "\n",
    "\n",
    "\n",
    "\n",
    "\n",
    "\n",
    "\n",
    "\n"
   ]
  },
  {
   "cell_type": "code",
   "execution_count": null,
   "id": "af85c4b5",
   "metadata": {},
   "outputs": [],
   "source": [
    "# Write a Python script to: Check if 15 is greater than 10 and less than 20.\n",
    "\n",
    "\n",
    "\n",
    "\n",
    "\n",
    "\n",
    "\n"
   ]
  },
  {
   "cell_type": "code",
   "execution_count": null,
   "id": "0a1d9c98",
   "metadata": {},
   "outputs": [],
   "source": [
    "# Negate the result of (5 == 10).\n",
    "\n",
    "\n",
    "\n",
    "\n",
    "\n",
    "\n",
    "\n"
   ]
  },
  {
   "cell_type": "code",
   "execution_count": null,
   "id": "d79a6d94",
   "metadata": {},
   "outputs": [],
   "source": [
    "# Create a list of your favorite fruits. Use membership operators to check:\n",
    "\n",
    "# If a fruit is in your list.\n",
    "# If a fruit is not in your list.\n",
    "\n",
    "\n",
    "\n",
    "\n",
    "\n",
    "\n",
    "\n",
    "\n",
    "\n"
   ]
  }
 ],
 "metadata": {
  "kernelspec": {
   "display_name": "Python 3 (ipykernel)",
   "language": "python",
   "name": "python3"
  },
  "language_info": {
   "codemirror_mode": {
    "name": "ipython",
    "version": 3
   },
   "file_extension": ".py",
   "mimetype": "text/x-python",
   "name": "python",
   "nbconvert_exporter": "python",
   "pygments_lexer": "ipython3",
   "version": "3.11.5"
  }
 },
 "nbformat": 4,
 "nbformat_minor": 5
}
