{
 "cells": [
  {
   "cell_type": "markdown",
   "id": "79d23571",
   "metadata": {},
   "source": [
    "Task 1: Open a file and print the first 5 lines"
   ]
  },
  {
   "cell_type": "markdown",
   "id": "a6ab1598",
   "metadata": {},
   "source": [
    "```\n",
    "# Note: Ensure the 'sample.txt' file exists with text content before running this code.\n",
    "\n",
    "# script.py\n",
    "\n",
    "# Open the file and read the first 5 lines\n",
    "\n",
    "with open('sample.txt', 'r') as file:\n",
    "    lines = file.readlines()\n",
    "\n",
    "# Print the first 5 lines\n",
    "\n",
    "for i in range(5):\n",
    "    print(lines[i].strip())\n",
    "```"
   ]
  },
  {
   "cell_type": "markdown",
   "id": "a30fc628",
   "metadata": {},
   "source": [
    "Task 2: Write a user’s name and age to a file. Then, open the file and print the content"
   ]
  },
  {
   "cell_type": "markdown",
   "id": "79a6dc05",
   "metadata": {},
   "source": [
    "```\n",
    "# script.py\n",
    "\n",
    "# Ask for user input\n",
    "\n",
    "name = input(\"Enter your name: \")\n",
    "age = input(\"Enter your age: \")\n",
    "\n",
    "# Write user input to the file\n",
    "\n",
    "with open('user_info.txt', 'w') as file:\n",
    "    file.write(f\"Name: {name}\\n\")\n",
    "    file.write(f\"Age: {age}\\n\")\n",
    "\n",
    "# Open the file and print the content\n",
    "\n",
    "with open('user_info.txt', 'r') as file:\n",
    "    content = file.read()\n",
    "    print(\"Content of the file:\")\n",
    "    print(content)\n",
    "```  "
   ]
  },
  {
   "cell_type": "markdown",
   "id": "ccfbbe0d",
   "metadata": {},
   "source": [
    "Task 3: Append a user-input message to a text file"
   ]
  },
  {
   "cell_type": "markdown",
   "id": "38b16231",
   "metadata": {},
   "source": [
    "```\n",
    "# script.py\n",
    "\n",
    "# Ask for user input\n",
    "\n",
    "message = input(\"Enter a message to append to the file: \")\n",
    "\n",
    "# Append the message to the file\n",
    "\n",
    "with open('message_file.txt', 'a') as file:\n",
    "    file.write(message + '\\n')\n",
    "\n",
    "print(\"Message appended to the file successfully!\")\n",
    "```"
   ]
  },
  {
   "cell_type": "markdown",
   "id": "a4ebc266",
   "metadata": {},
   "source": [
    "Task 4: Read the contents of a file and count the number of words in it."
   ]
  },
  {
   "cell_type": "markdown",
   "id": "e3f04e69",
   "metadata": {},
   "source": [
    "```\n",
    "# Note: Ensure the 'sample.txt' file exists with text content before running this code.\n",
    "\n",
    "# script.py\n",
    "\n",
    "def count_words_in_file(file_name):\n",
    "    with open(file_name, 'r') as file:\n",
    "        content = file.read()\n",
    "\n",
    "    # Split the content into words and count them\n",
    "    \n",
    "    words = content.split()\n",
    "    return len(words)\n",
    "\n",
    "# Example usage\n",
    "\n",
    "file_name = 'sample.txt'\n",
    "word_count = count_words_in_file(file_name)\n",
    "print(f\"Total words in the file: {word_count}\")\n",
    "```"
   ]
  },
  {
   "cell_type": "markdown",
   "id": "de2442ca",
   "metadata": {},
   "source": [
    "Task 5: Create a new file and write multiple lines of text to it using a loop"
   ]
  },
  {
   "cell_type": "markdown",
   "id": "0f20feb4",
   "metadata": {},
   "source": [
    "```\n",
    "# script.py\n",
    "\n",
    "# Data to write into the file\n",
    "lines = [\"This is line 1.\", \"This is line 2.\", \"This is line 3.\", \"This is line 4.\", \"This is line 5.\"]\n",
    "\n",
    "# Create a new file and write the lines using a loop\n",
    "with open('multiple_lines.txt', 'w') as file:\n",
    "    for line in lines:\n",
    "        file.write(line + '\\n')\n",
    "\n",
    "print(\"Lines written to the file successfully!\")\n",
    "```"
   ]
  },
  {
   "cell_type": "markdown",
   "id": "7415815b",
   "metadata": {},
   "source": [
    "Task 6: Using the with statement, open a file and print the content, then write a new string to the same file\n",
    "\n",
    "#### Note: The 'sample.txt' file should exist, and the r+ mode allows both reading and writing to the file."
   ]
  },
  {
   "cell_type": "markdown",
   "id": "d093f12d",
   "metadata": {},
   "source": [
    "```\n",
    "# script.py\n",
    "\n",
    "# Open the file and print its content\n",
    "\n",
    "with open('sample.txt', 'r+') as file:\n",
    "    content = file.read()\n",
    "    print(\"Content before writing to the file:\")\n",
    "    print(content)\n",
    "    \n",
    "    # Write a new string to the file\n",
    "    file.write(\"\\nThis is a new string added to the file.\")\n",
    "\n",
    "print(\"New string has been added to the file.\")\n",
    "```"
   ]
  }
 ],
 "metadata": {
  "kernelspec": {
   "display_name": "Python 3 (ipykernel)",
   "language": "python",
   "name": "python3"
  },
  "language_info": {
   "codemirror_mode": {
    "name": "ipython",
    "version": 3
   },
   "file_extension": ".py",
   "mimetype": "text/x-python",
   "name": "python",
   "nbconvert_exporter": "python",
   "pygments_lexer": "ipython3",
   "version": "3.11.5"
  }
 },
 "nbformat": 4,
 "nbformat_minor": 5
}
