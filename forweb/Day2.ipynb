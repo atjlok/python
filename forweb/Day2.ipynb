{
 "cells": [
  {
   "cell_type": "markdown",
   "id": "254c9821",
   "metadata": {},
   "source": [
    "## Day 2: Data Types and Variables\n",
    "    \n",
    "- Target - Understanding Data Types and Variables\n",
    "\n",
    "Variables:\n",
    "```\n",
    "- Variables are used to store data in Python.\n",
    "\n",
    "- They are created by assigning a value using the = operator.\n",
    "\n",
    "- Example: x = 5 creates a variable x with a value of 5.\n",
    "```"
   ]
  },
  {
   "cell_type": "markdown",
   "id": "1450cbaf",
   "metadata": {},
   "source": [
    "    \n",
    "### Data Types:\n",
    "```\n",
    "- Numeric Types:  int, float, complex\n",
    "- Text Type:  str\n",
    "- Boolean Type:  bool\n",
    "- Sequence Types:  list, tuple, range\n",
    "- Mapping Type:  dict\n",
    "- Set Types:  set, frozenset\n",
    "```   "
   ]
  },
  {
   "cell_type": "markdown",
   "id": "d2082271",
   "metadata": {},
   "source": [
    "### Type Checking:\n",
    "```\n",
    "Use type() to check the type of a variable.\n",
    "Example: type(5) returns <class 'int'>.\n",
    "```"
   ]
  },
  {
   "cell_type": "markdown",
   "id": "f5ae5a95",
   "metadata": {},
   "source": [
    "### Type Conversion:\n",
    "```\n",
    "Convert between types using int(), float(), str(), etc.\n",
    "Example: int(\"5\") converts the string \"5\" to an integer.\n",
    "```"
   ]
  },
  {
   "cell_type": "code",
   "execution_count": null,
   "id": "692e832c",
   "metadata": {},
   "outputs": [],
   "source": [
    "# Variable declaration\n",
    "\n",
    "x = 10  # Integer\n",
    "y = 3.14  # Float\n",
    "name = \"Alice\"  # String\n",
    "\n",
    "print(\"Integer:\", x)\n",
    "print(\"Float:\", y)\n",
    "print(\"String:\", name)"
   ]
  },
  {
   "cell_type": "code",
   "execution_count": null,
   "id": "7b9fed6a",
   "metadata": {},
   "outputs": [],
   "source": [
    "# Type checking\n",
    "\n",
    "x = 10\n",
    "y = 3.14\n",
    "print(\"Type of x:\", type(x))  # Output: <class 'int'>\n",
    "print(\"Type of y:\", type(y))  # Output: <class 'float'>"
   ]
  },
  {
   "cell_type": "code",
   "execution_count": null,
   "id": "c6ecf6f0",
   "metadata": {},
   "outputs": [],
   "source": [
    "# Type conversion\n",
    "\n",
    "num_str = \"50\"\n",
    "num_int = int(num_str)  # Convert string to integer\n",
    "print(\"Converted Integer:\", num_int)\n",
    "\n",
    "decimal = 7.89\n",
    "decimal_int = int(decimal)  # Convert float to integer (truncates decimal part)\n",
    "print(\"Converted Integer from Float:\", decimal_int)"
   ]
  },
  {
   "cell_type": "markdown",
   "id": "6bd1128a",
   "metadata": {},
   "source": [
    "### Practice Tasks : - "
   ]
  },
  {
   "cell_type": "code",
   "execution_count": null,
   "id": "e771870e",
   "metadata": {},
   "outputs": [],
   "source": [
    "# Create variables for the following:\n",
    "\n",
    "#Your name\n",
    "#Your age\n",
    "#Your favorite number Display them using print().\n",
    "\n",
    "\n",
    "\n",
    "\n",
    "\n",
    "\n",
    "\n",
    "\n",
    "\n"
   ]
  },
  {
   "cell_type": "code",
   "execution_count": null,
   "id": "bb307bb8",
   "metadata": {},
   "outputs": [],
   "source": [
    "# Write a Python script to convert the following:\n",
    "\n",
    "# An integer to a float\n",
    "# A float to an integer\n",
    "# A number to a string\n",
    "# Check the data types of the variables in Task 1 using type().\n",
    "\n",
    "\n",
    "\n",
    "\n",
    "\n",
    "\n",
    "\n",
    "\n",
    "\n",
    "\n",
    "\n",
    "\n",
    "\n",
    "\n",
    "\n"
   ]
  }
 ],
 "metadata": {
  "kernelspec": {
   "display_name": "Python 3 (ipykernel)",
   "language": "python",
   "name": "python3"
  },
  "language_info": {
   "codemirror_mode": {
    "name": "ipython",
    "version": 3
   },
   "file_extension": ".py",
   "mimetype": "text/x-python",
   "name": "python",
   "nbconvert_exporter": "python",
   "pygments_lexer": "ipython3",
   "version": "3.11.5"
  }
 },
 "nbformat": 4,
 "nbformat_minor": 5
}
