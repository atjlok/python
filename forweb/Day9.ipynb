{
 "cells": [
  {
   "cell_type": "markdown",
   "id": "35c2b4e5",
   "metadata": {},
   "source": [
    "### Day 9: Loops in Python\n",
    "- Target - Understanding Loops\n",
    "- Loops allow you to repeatedly execute a block of code, which is useful for tasks that require repetitive actions. \n",
    "- Python provides two primary types of loops:\n",
    "\n",
    "1. For Loop:\n",
    "\n",
    "- Used to iterate over a sequence (such as a list, tuple, string, etc.).\n",
    "\n",
    "Syntax:\n",
    "```\n",
    "for variable in sequence:\n",
    "    # code block\n",
    "```\n",
    "\n",
    "2. While Loop:\n",
    "\n",
    "- Repeats a block of code as long as the given condition is true.\n",
    "\n",
    "Syntax:\n",
    "```\n",
    "while condition:\n",
    "    # code block\n",
    "```\n",
    "\n",
    "### Break and Continue Statements:\n",
    "\n",
    "- break: Exits the loop prematurely.\n",
    "- continue: Skips the rest of the current iteration and moves to the next iteration.\n",
    "\n",
    "### Else with Loops:\n",
    "\n",
    "- The else block can be used with both for and while loops. \n",
    "- It executes when the loop is not terminated by a break statement.\n"
   ]
  },
  {
   "cell_type": "code",
   "execution_count": null,
   "id": "1aa3fa27",
   "metadata": {},
   "outputs": [],
   "source": [
    "# For loop example\n",
    "\n",
    "my_list = [1, 2, 3, 4, 5]\n",
    "for item in my_list:\n",
    "    print(item)  # Output: 1, 2, 3, 4, 5\n",
    "    "
   ]
  },
  {
   "cell_type": "code",
   "execution_count": null,
   "id": "d38c8734",
   "metadata": {},
   "outputs": [],
   "source": [
    "# While loop example\n",
    "\n",
    "counter = 1\n",
    "while counter <= 5:\n",
    "    print(counter)  # Output: 1, 2, 3, 4, 5\n",
    "    counter += 1\n",
    "    "
   ]
  },
  {
   "cell_type": "code",
   "execution_count": null,
   "id": "37104c6a",
   "metadata": {},
   "outputs": [],
   "source": [
    "# Break statement example\n",
    "\n",
    "for num in range(10):\n",
    "    if num == 5:\n",
    "        break\n",
    "    print(num)  # Output: 0, 1, 2, 3, 4\n",
    "    "
   ]
  },
  {
   "cell_type": "code",
   "execution_count": null,
   "id": "a1874fba",
   "metadata": {},
   "outputs": [],
   "source": [
    "# Continue statement example\n",
    "\n",
    "for num in range(10):\n",
    "    if num % 2 == 0:\n",
    "        continue\n",
    "    print(num)  # Output: 1, 3, 5, 7, 9\n",
    "    "
   ]
  },
  {
   "cell_type": "code",
   "execution_count": null,
   "id": "4988ebd9",
   "metadata": {},
   "outputs": [],
   "source": [
    "# Else with for loop example\n",
    "\n",
    "for num in range(1, 6):\n",
    "    print(num)\n",
    "else:\n",
    "    print(\"Loop completed\")  # Output: Loop completed    "
   ]
  },
  {
   "cell_type": "code",
   "execution_count": null,
   "id": "555383f4",
   "metadata": {},
   "outputs": [],
   "source": [
    "# Else with while loop example\n",
    "\n",
    "counter = 1\n",
    "while counter <= 5:\n",
    "    print(counter)\n",
    "    counter += 1\n",
    "else:\n",
    "    print(\"Loop completed\")  # Output: Loop completed"
   ]
  },
  {
   "cell_type": "markdown",
   "id": "f8439756",
   "metadata": {},
   "source": [
    "**Practice Tasks:**    "
   ]
  },
  {
   "cell_type": "code",
   "execution_count": null,
   "id": "707f4a41",
   "metadata": {},
   "outputs": [],
   "source": [
    "# Write a program using a for loop to: Print the first 10 numbers of the Fibonacci sequence.\n",
    "\n",
    "\n",
    "\n",
    "\n",
    "\n",
    "\n",
    "\n",
    "\n",
    "\n",
    "\n",
    "\n",
    "\n",
    "\n",
    "\n"
   ]
  },
  {
   "cell_type": "code",
   "execution_count": null,
   "id": "cc6ca1f7",
   "metadata": {},
   "outputs": [],
   "source": [
    "# Write a while loop to: Print the multiplication table of 7 (from 7 * 1 to 7 * 10).\n",
    "\n",
    "\n",
    "\n",
    "\n",
    "\n",
    "\n",
    "\n",
    "\n",
    "\n",
    "\n",
    "\n",
    "\n",
    "\n",
    "\n",
    "\n"
   ]
  },
  {
   "cell_type": "code",
   "execution_count": null,
   "id": "0723ea32",
   "metadata": {},
   "outputs": [],
   "source": [
    "# Create a script with a for loop:\n",
    "\n",
    "# Iterate over a list of names and print each name that starts with the letter \"A\".\n",
    "# Use a continue statement to skip names that don't start with \"A\".\n",
    "\n",
    "\n",
    "\n",
    "\n",
    "\n",
    "\n",
    "\n",
    "\n",
    "\n",
    "\n",
    "\n",
    "\n",
    "\n"
   ]
  },
  {
   "cell_type": "code",
   "execution_count": null,
   "id": "c8e735e0",
   "metadata": {},
   "outputs": [],
   "source": [
    "# Write a while loop that: Prints the square of each number from 1 to 10.\n",
    "# Stop the loop if the square of a number exceeds 50.\n",
    "\n",
    "\n",
    "\n",
    "\n",
    "\n",
    "\n",
    "\n",
    "\n",
    "\n",
    "\n",
    "\n",
    "\n",
    "    \n",
    "    "
   ]
  },
  {
   "cell_type": "code",
   "execution_count": null,
   "id": "1240d2c8",
   "metadata": {},
   "outputs": [],
   "source": [
    "# Use a break statement to:\n",
    "\n",
    "# Stop the loop when a certain condition is met (e.g., when the number 6 is encountered in a range from 1 to 10).\n",
    "\n",
    "\n",
    "\n",
    "\n",
    "\n",
    "\n",
    "\n",
    "\n",
    "\n",
    "\n",
    "\n",
    "\n",
    "\n"
   ]
  }
 ],
 "metadata": {
  "kernelspec": {
   "display_name": "Python 3 (ipykernel)",
   "language": "python",
   "name": "python3"
  },
  "language_info": {
   "codemirror_mode": {
    "name": "ipython",
    "version": 3
   },
   "file_extension": ".py",
   "mimetype": "text/x-python",
   "name": "python",
   "nbconvert_exporter": "python",
   "pygments_lexer": "ipython3",
   "version": "3.11.5"
  }
 },
 "nbformat": 4,
 "nbformat_minor": 5
}
