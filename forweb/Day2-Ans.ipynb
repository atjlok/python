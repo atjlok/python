{
 "cells": [
  {
   "cell_type": "markdown",
   "id": "a58dc5fc",
   "metadata": {},
   "source": [
    "Task 1: Create Variables and Display Them    "
   ]
  },
  {
   "cell_type": "code",
   "execution_count": null,
   "id": "e3697a04",
   "metadata": {},
   "outputs": [],
   "source": [
    "# This script creates variables for name, age, and favorite number, and displays them using print().\n",
    "\n",
    "# Create variables\n",
    "\n",
    "name = \"Your Name\"  # Replace \"Your Name\" with your actual name\n",
    "age = 25  # Replace 25 with your actual age\n",
    "favorite_number = 7  # Replace 7 with your favorite number\n",
    "\n",
    "# Display the variables\n",
    "\n",
    "print(\"Name:\", name)\n",
    "print(\"Age:\", age)\n",
    "print(\"Favorite Number:\", favorite_number)"
   ]
  },
  {
   "cell_type": "markdown",
   "id": "1fcbeb1b",
   "metadata": {},
   "source": [
    "Task 2: Convert Between Data Types"
   ]
  },
  {
   "cell_type": "code",
   "execution_count": null,
   "id": "1ad166d0",
   "metadata": {},
   "outputs": [],
   "source": [
    "# This script demonstrates type conversions.\n",
    "\n",
    "# Convert an integer to a float\n",
    "\n",
    "integer_value = 10\n",
    "float_value = float(integer_value)\n",
    "print(\"Integer to Float:\", float_value)\n",
    "\n",
    "# Convert a float to an integer\n",
    "\n",
    "float_value = 3.14\n",
    "integer_value = int(float_value)\n",
    "print(\"Float to Integer:\", integer_value)\n",
    "\n",
    "# Convert a number to a string\n",
    "\n",
    "number = 42\n",
    "string_value = str(number)\n",
    "print(\"Number to String:\", string_value)"
   ]
  },
  {
   "cell_type": "markdown",
   "id": "c3713ee8",
   "metadata": {},
   "source": [
    "Task 3: Check Data Types of Variables from Task 1"
   ]
  },
  {
   "cell_type": "code",
   "execution_count": null,
   "id": "3724b449",
   "metadata": {},
   "outputs": [],
   "source": [
    "# This script checks the data types of variables from Task 1 using type().\n",
    "\n",
    "# Variables from Task 1\n",
    "\n",
    "name = \"Your Name\"  # Replace with your actual name\n",
    "age = 25  # Replace with your actual age\n",
    "favorite_number = 7  # Replace with your favorite number\n",
    "\n",
    "# Check and display data types\n",
    "\n",
    "print(\"Data type of 'name':\", type(name))\n",
    "print(\"Data type of 'age':\", type(age))\n",
    "print(\"Data type of 'favorite_number':\", type(favorite_number))"
   ]
  }
 ],
 "metadata": {
  "kernelspec": {
   "display_name": "Python 3 (ipykernel)",
   "language": "python",
   "name": "python3"
  },
  "language_info": {
   "codemirror_mode": {
    "name": "ipython",
    "version": 3
   },
   "file_extension": ".py",
   "mimetype": "text/x-python",
   "name": "python",
   "nbconvert_exporter": "python",
   "pygments_lexer": "ipython3",
   "version": "3.11.5"
  }
 },
 "nbformat": 4,
 "nbformat_minor": 5
}
