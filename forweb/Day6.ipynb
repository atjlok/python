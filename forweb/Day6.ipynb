{
 "cells": [
  {
   "cell_type": "markdown",
   "id": "993cf987",
   "metadata": {},
   "source": [
    "### Day 6: Functions in Python\n",
    "\n",
    "- Target- Understanding Functions\n",
    "- Functions in Python are used to organize code into reusable blocks. \n",
    "- Functions allow you to group code and execute it when called, which promotes code reusability and modularity.\n",
    "\n",
    "### Defining Functions:\n",
    "\n",
    "- Functions are defined using the def keyword.\n",
    "Syntax:\n",
    "```\n",
    "def function_name(parameters):\n",
    "    # code block\n",
    "Function Parameters:\n",
    "```\n",
    "### Parameters allow functions to accept inputs.\n",
    "- Example: def greet(name): accepts the name parameter.\n",
    "\n",
    "### Return Statement:\n",
    "\n",
    "- The return keyword allows a function to send back a result.\n",
    "- Example: return x + y returns the result of x + y.\n",
    "\n",
    "### Default Parameters:\n",
    "\n",
    "- Functions can have default parameter values.\n",
    "- Example: def greet(name=\"Guest\"): defaults to \"Guest\" if no value is provided.\n",
    "\n",
    "### Lambda Functions:\n",
    "\n",
    "- A compact way to define anonymous functions.\n",
    "Syntax:\n",
    "```\n",
    "lambda arguments: expression\n",
    "```"
   ]
  },
  {
   "cell_type": "code",
   "execution_count": null,
   "id": "404bef6b",
   "metadata": {},
   "outputs": [],
   "source": [
    "# Defining a function\n",
    "\n",
    "def greet(name):\n",
    "    print(\"Hello,\", name)\n",
    "greet(\"Alice\")  # Output: Hello, Alice"
   ]
  },
  {
   "cell_type": "code",
   "execution_count": null,
   "id": "4ef0684c",
   "metadata": {},
   "outputs": [],
   "source": [
    "# Function with return value\n",
    "\n",
    "def add(x, y):\n",
    "    return x + y\n",
    "\n",
    "result = add(5, 7)\n",
    "print(\"Sum:\", result)  # Output: Sum: 12"
   ]
  },
  {
   "cell_type": "code",
   "execution_count": null,
   "id": "3f3d1e00",
   "metadata": {},
   "outputs": [],
   "source": [
    "# Function with default parameter\n",
    "\n",
    "def greet(name=\"Guest\"):\n",
    "    print(\"Hello,\", name)\n",
    "\n",
    "greet()          # Output: Hello, Guest\n",
    "greet(\"Alice\")   # Output: Hello, Alice"
   ]
  },
  {
   "cell_type": "code",
   "execution_count": null,
   "id": "c43f135d",
   "metadata": {},
   "outputs": [],
   "source": [
    "# Lambda function\n",
    "\n",
    "square = lambda x: x * x\n",
    "print(\"Square of 4:\", square(4))  # Output: Square of 4: 16"
   ]
  },
  {
   "cell_type": "markdown",
   "id": "0f1c6d79",
   "metadata": {},
   "source": [
    "Practice Tasks : "
   ]
  },
  {
   "cell_type": "code",
   "execution_count": null,
   "id": "1da1fe90",
   "metadata": {},
   "outputs": [],
   "source": [
    "# Write a function to: Accept two numbers as parameters and return their sum.\n",
    "# Call the function and display the result.\n",
    "\n",
    "\n",
    "\n",
    "\n",
    "\n",
    "\n",
    "\n",
    "\n",
    "\n",
    "\n",
    "\n"
   ]
  },
  {
   "cell_type": "code",
   "execution_count": null,
   "id": "788c5a02",
   "metadata": {},
   "outputs": [],
   "source": [
    "# Create a function to: Check if a number is even or odd.\n",
    "# The function should return \"Even\" or \"Odd\" based on the input number.\n",
    "\n",
    "\n",
    "\n",
    "\n",
    "\n",
    "\n",
    "\n",
    "\n",
    "\n",
    "\n",
    "\n"
   ]
  },
  {
   "cell_type": "code",
   "execution_count": null,
   "id": "d1e30a6c",
   "metadata": {},
   "outputs": [],
   "source": [
    "# Define a lambda function to: Find the cube of a number.\n",
    "# Test the lambda with the number 3.\n",
    "\n",
    "\n",
    "\n",
    "\n",
    "\n",
    "\n",
    "\n",
    "\n",
    "\n",
    "\n",
    "\n"
   ]
  },
  {
   "cell_type": "code",
   "execution_count": null,
   "id": "e8bf6580",
   "metadata": {},
   "outputs": [],
   "source": [
    "# Write a function with a default parameter: Print a greeting with the name provided as an argument.\n",
    "# If no name is provided, default to \"Guest\".\n",
    "\n",
    "\n",
    "\n",
    "\n",
    "\n",
    "\n",
    "\n",
    "\n",
    "\n",
    "\n",
    "\n"
   ]
  }
 ],
 "metadata": {
  "kernelspec": {
   "display_name": "Python 3 (ipykernel)",
   "language": "python",
   "name": "python3"
  },
  "language_info": {
   "codemirror_mode": {
    "name": "ipython",
    "version": 3
   },
   "file_extension": ".py",
   "mimetype": "text/x-python",
   "name": "python",
   "nbconvert_exporter": "python",
   "pygments_lexer": "ipython3",
   "version": "3.11.5"
  }
 },
 "nbformat": 4,
 "nbformat_minor": 5
}
