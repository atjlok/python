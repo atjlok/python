{
 "cells": [
  {
   "cell_type": "markdown",
   "id": "9f30dfb2",
   "metadata": {},
   "source": [
    "## Datastructures\n",
    "\n",
    "- mutable (elements can change over time)\n",
    "- immutable (elements cannot change)\n",
    "\n",
    "## Category:\n",
    "\n",
    "- FIFO (First in First out)\n",
    "- LIFO (Last in First out)\n",
    "\n",
    "## Type:\n",
    "\n",
    "- list is mutable\n",
    "- tuple is immutable\n",
    "- dictionary is mutable\n",
    "- set is mutable"
   ]
  },
  {
   "cell_type": "markdown",
   "id": "e199821c",
   "metadata": {},
   "source": [
    "## Appending"
   ]
  },
  {
   "cell_type": "code",
   "execution_count": null,
   "id": "c31278a5",
   "metadata": {},
   "outputs": [],
   "source": [
    "a=[2,3,4,5,6]\n",
    "\n",
    "a.append(6)\n",
    "\n",
    "print(a)\n",
    "print(type(a))"
   ]
  },
  {
   "cell_type": "markdown",
   "id": "eb7b94b8",
   "metadata": {},
   "source": [
    "## Tuples"
   ]
  },
  {
   "cell_type": "code",
   "execution_count": null,
   "id": "0c4e66fa",
   "metadata": {},
   "outputs": [],
   "source": [
    "b = tuple((1,2,3,4,5))\n",
    "print(b)\n",
    "print(type(b)) "
   ]
  },
  {
   "cell_type": "code",
   "execution_count": null,
   "id": "2dd3ea5c",
   "metadata": {},
   "outputs": [],
   "source": [
    "b = tuple((1,2,3,4,5))\n",
    "b.count(8)"
   ]
  },
  {
   "cell_type": "code",
   "execution_count": null,
   "id": "4fbb03f0",
   "metadata": {},
   "outputs": [],
   "source": [
    "b = tuple((1,2,3,4,5))\n",
    "b.index(3)"
   ]
  },
  {
   "cell_type": "markdown",
   "id": "066acca6",
   "metadata": {},
   "source": [
    "## Dictionary"
   ]
  },
  {
   "cell_type": "code",
   "execution_count": null,
   "id": "acd64ff3",
   "metadata": {},
   "outputs": [],
   "source": [
    "c = {'a':1,'b':2,'c':3}\n",
    "print (c)"
   ]
  },
  {
   "cell_type": "code",
   "execution_count": null,
   "id": "e24efd21",
   "metadata": {},
   "outputs": [],
   "source": [
    "c = {'a':1,'b':2,'c':3}\n",
    "c.get('b')\n"
   ]
  },
  {
   "cell_type": "code",
   "execution_count": null,
   "id": "084cf7bc",
   "metadata": {},
   "outputs": [],
   "source": [
    "c = {'a':1,'b':2,'c':3}\n",
    "c.values()\n"
   ]
  },
  {
   "cell_type": "code",
   "execution_count": null,
   "id": "d9be4ea5",
   "metadata": {},
   "outputs": [],
   "source": [
    "c = {'a':1,'b':2,'c':3}\n",
    "c.keys()\n"
   ]
  },
  {
   "cell_type": "markdown",
   "id": "06ce605d",
   "metadata": {},
   "source": [
    "## For Loop"
   ]
  },
  {
   "cell_type": "code",
   "execution_count": null,
   "id": "689785fa",
   "metadata": {},
   "outputs": [],
   "source": [
    "c = {'a':1,'b':2,'c':3}\n",
    "for key in c:\n",
    "    print(key, c[key])"
   ]
  },
  {
   "cell_type": "code",
   "execution_count": null,
   "id": "55b31a7b",
   "metadata": {},
   "outputs": [],
   "source": [
    "d = {'a':[1,2,3],'b':[4,5,6],'c':[7,8,9]}\n",
    "print (d)"
   ]
  },
  {
   "cell_type": "code",
   "execution_count": null,
   "id": "0a71da5e",
   "metadata": {},
   "outputs": [],
   "source": [
    "e = [{'a':1},{'b':2},{'c':3}]\n",
    "print (e)"
   ]
  },
  {
   "cell_type": "code",
   "execution_count": null,
   "id": "7da086a8",
   "metadata": {},
   "outputs": [],
   "source": [
    "f = set((1,1,2,2,3,4,4,5,5))\n",
    "print (f)"
   ]
  },
  {
   "cell_type": "code",
   "execution_count": null,
   "id": "115280c3",
   "metadata": {},
   "outputs": [],
   "source": [
    "f = set((1,1,2,2,3,4,4,5,5))\n",
    "f.add(6)\n",
    "print(f)"
   ]
  },
  {
   "cell_type": "code",
   "execution_count": null,
   "id": "b162845e",
   "metadata": {},
   "outputs": [],
   "source": [
    "f = set((1,1,2,2,3,4,4,5,5))\n",
    "popped = f.pop()\n",
    "popped, f"
   ]
  },
  {
   "cell_type": "markdown",
   "id": "724d429e",
   "metadata": {},
   "source": [
    "## String functions\n",
    "\n",
    "-``upper()``<br>\n",
    "-``lower()``<br>\n",
    "-``capitalize()``<br>\n",
    "-``split()``<br>\n",
    "-``join()``<br>\n",
    "-``len()``<br>\n",
    "\n",
    "## Character functions\n",
    "\n",
    "-``chr()``<br>\n",
    "-``ord()``<br>"
   ]
  },
  {
   "cell_type": "markdown",
   "id": "f2be7b68",
   "metadata": {},
   "source": [
    "## Upper case conversion"
   ]
  },
  {
   "cell_type": "code",
   "execution_count": null,
   "id": "9946f527",
   "metadata": {},
   "outputs": [],
   "source": [
    "a_string = \"pcEp exAm is a game changer\"\n",
    "\n",
    "print(a_string.upper())\n"
   ]
  },
  {
   "cell_type": "code",
   "execution_count": null,
   "id": "8ae8cda3",
   "metadata": {},
   "outputs": [],
   "source": [
    "a_string = \"pcEp exAm is a game changer\"\n",
    "print(a_string)"
   ]
  },
  {
   "cell_type": "markdown",
   "id": "93dfee4b",
   "metadata": {},
   "source": [
    "## Lower case conversion"
   ]
  },
  {
   "cell_type": "code",
   "execution_count": null,
   "id": "2fc08f5e",
   "metadata": {},
   "outputs": [],
   "source": [
    "a_string = \"pcEp exAm is a game changer\"\n",
    "print(a_string.lower())\n"
   ]
  },
  {
   "cell_type": "markdown",
   "id": "8ae01755",
   "metadata": {},
   "source": [
    "## Capitalize first letter conversion"
   ]
  },
  {
   "cell_type": "code",
   "execution_count": null,
   "id": "a7a0490d",
   "metadata": {},
   "outputs": [],
   "source": [
    "a_string = \"pcEp exAm is a game changer\"\n",
    "print(a_string.capitalize())"
   ]
  },
  {
   "cell_type": "markdown",
   "id": "81a4fa4b",
   "metadata": {},
   "source": [
    "## Splitting with a 'character/symbol'"
   ]
  },
  {
   "cell_type": "code",
   "execution_count": null,
   "id": "3144abc6",
   "metadata": {},
   "outputs": [],
   "source": [
    "a_string = \"pcEp exAm is a game changer\"\n",
    "print(a_string.split(' '))"
   ]
  },
  {
   "cell_type": "code",
   "execution_count": null,
   "id": "1b8bd7cd",
   "metadata": {},
   "outputs": [],
   "source": [
    "a_string = \"pcEp exAm is a game changer\"\n",
    "print(a_string.split('p'))"
   ]
  },
  {
   "cell_type": "code",
   "execution_count": null,
   "id": "15c52cc1",
   "metadata": {},
   "outputs": [],
   "source": [
    "a_string = \"pcEp exAm is a game changer\"\n",
    "b_string = \"This is another string\"\n",
    "\n",
    "'-'.join([a_string, b_string])"
   ]
  },
  {
   "cell_type": "code",
   "execution_count": null,
   "id": "b4fc69c7",
   "metadata": {},
   "outputs": [],
   "source": [
    "a_string = \"pcEp exAm is a game changer\"\n",
    "b_string = \"This is another string\"\n",
    "len(a_string)\n",
    "len(b_string)"
   ]
  },
  {
   "cell_type": "markdown",
   "id": "528cd48d",
   "metadata": {},
   "source": [
    "## Working with unicode"
   ]
  },
  {
   "cell_type": "code",
   "execution_count": null,
   "id": "8b0bee18",
   "metadata": {},
   "outputs": [],
   "source": [
    "u = 'a' # Example\n",
    "\n",
    "print(ord(u))"
   ]
  },
  {
   "cell_type": "code",
   "execution_count": null,
   "id": "6bbf42fd",
   "metadata": {},
   "outputs": [],
   "source": [
    "u = 'a' # Example\n",
    "ord('a') + 2"
   ]
  },
  {
   "cell_type": "code",
   "execution_count": null,
   "id": "8b77594f",
   "metadata": {},
   "outputs": [],
   "source": [
    "i = 112\n",
    "chr(i)"
   ]
  },
  {
   "cell_type": "code",
   "execution_count": null,
   "id": "d51ae0a8",
   "metadata": {},
   "outputs": [],
   "source": [
    "print(chr(ord('p') + 4))"
   ]
  },
  {
   "cell_type": "markdown",
   "id": "f87c36b3",
   "metadata": {},
   "source": [
    "## Function and Generators\n",
    "\n",
    "- Function -- >> large memory impact\n",
    "- Generators -- >> minimal memory impact\n",
    "\n",
    "## Results:\n",
    "\n",
    "- return -- >> give back the processed results\n",
    "- yield -- >> give back one value at a time\n",
    "\n",
    "- Par and arg:\n",
    "- arg -- >> position and order matters\n",
    "- par -- >> like keyword arguments"
   ]
  },
  {
   "cell_type": "code",
   "execution_count": null,
   "id": "4b59ec72",
   "metadata": {},
   "outputs": [],
   "source": [
    "def generate(number):\n",
    "    a = list()\n",
    "    for i in range(number):\n",
    "        a.append(i)\n",
    "        \n",
    "    return a\n",
    "\n",
    "print(generate(59))"
   ]
  },
  {
   "cell_type": "code",
   "execution_count": null,
   "id": "28dd41ae",
   "metadata": {},
   "outputs": [],
   "source": [
    "def generate(number):\n",
    "    a = list()\n",
    "    for i in range(number):\n",
    "        yield i\n",
    "        \n",
    "print(generate(10000000))"
   ]
  },
  {
   "cell_type": "code",
   "execution_count": null,
   "id": "927dde5d",
   "metadata": {},
   "outputs": [],
   "source": [
    "print(None)"
   ]
  },
  {
   "cell_type": "code",
   "execution_count": null,
   "id": "14a0d617",
   "metadata": {},
   "outputs": [],
   "source": [
    "def return_none(whatever):\n",
    "    print(whatever)\n",
    "    \n",
    "a = return_none(\"xyz\")\n",
    "a is None"
   ]
  },
  {
   "cell_type": "code",
   "execution_count": null,
   "id": "3f43dd23",
   "metadata": {},
   "outputs": [],
   "source": [
    "def sum(a, b):\n",
    "    return a + b\n",
    "\n",
    "sum(1,5)"
   ]
  },
  {
   "cell_type": "code",
   "execution_count": null,
   "id": "daee37e5",
   "metadata": {},
   "outputs": [],
   "source": [
    "def general(*args, **kwargs):\n",
    "    pass\n",
    "\n",
    "general(1,b = 10)"
   ]
  },
  {
   "cell_type": "code",
   "execution_count": null,
   "id": "8f81f01f",
   "metadata": {},
   "outputs": [],
   "source": [
    "def general(*args, **kwargs):\n",
    "    print(args)\n",
    "    print(kwargs)\n",
    "\n",
    "general(1,c=11)"
   ]
  },
  {
   "cell_type": "code",
   "execution_count": null,
   "id": "b1bf4f73",
   "metadata": {},
   "outputs": [],
   "source": [
    "def general(a=10,b=11):\n",
    "    print(a)\n",
    "    print(b)\n",
    "    \n",
    "general(1,2)"
   ]
  },
  {
   "cell_type": "code",
   "execution_count": null,
   "id": "1c5660ee",
   "metadata": {},
   "outputs": [],
   "source": [
    "# Generate a List\n",
    "\n",
    "list(generate(10))"
   ]
  },
  {
   "cell_type": "code",
   "execution_count": null,
   "id": "d21d5e20",
   "metadata": {},
   "outputs": [],
   "source": [
    "a = 10\n",
    "def a_function(a=11):\n",
    "    print(a)\n",
    "    \n",
    "a_function(1)"
   ]
  },
  {
   "cell_type": "markdown",
   "id": "bb10372a",
   "metadata": {},
   "source": [
    "## Fibonacci Series"
   ]
  },
  {
   "cell_type": "code",
   "execution_count": null,
   "id": "7071ed43",
   "metadata": {},
   "outputs": [],
   "source": [
    "def fibonacci(n):\n",
    "    if n <= 1:\n",
    "        return n\n",
    "    else:\n",
    "        return fibonacci(n-1) + fibonacci(n - 2)\n",
    "    \n",
    "fibonacci(10)"
   ]
  },
  {
   "cell_type": "markdown",
   "id": "ee556000",
   "metadata": {},
   "source": [
    "## Exceptions"
   ]
  },
  {
   "cell_type": "code",
   "execution_count": null,
   "id": "4264246a",
   "metadata": {},
   "outputs": [],
   "source": [
    "try:\n",
    "    raise SystemExit\n",
    "except Exception as e:\n",
    "    print(\"This was the problem:  {}\".format(e))"
   ]
  },
  {
   "cell_type": "code",
   "execution_count": null,
   "id": "89f551b7",
   "metadata": {},
   "outputs": [],
   "source": [
    "try:\n",
    "    raise ValueError(\"Value wrong\")\n",
    "except ValueError as e:\n",
    "    print(\"This was a value error\")\n",
    "except:\n",
    "    print(\"This never ecxecutes\")"
   ]
  },
  {
   "cell_type": "code",
   "execution_count": null,
   "id": "85f27622",
   "metadata": {},
   "outputs": [],
   "source": [
    "try:\n",
    "    raise TypeError(\"Value wrong\")\n",
    "except ValueError as e:\n",
    "    print(\"This was a value error\")\n",
    "except:\n",
    "    print(\"This never ecxecutes\")"
   ]
  }
 ],
 "metadata": {
  "kernelspec": {
   "display_name": "Python 3 (ipykernel)",
   "language": "python",
   "name": "python3"
  },
  "language_info": {
   "codemirror_mode": {
    "name": "ipython",
    "version": 3
   },
   "file_extension": ".py",
   "mimetype": "text/x-python",
   "name": "python",
   "nbconvert_exporter": "python",
   "pygments_lexer": "ipython3",
   "version": "3.11.5"
  }
 },
 "nbformat": 4,
 "nbformat_minor": 5
}
