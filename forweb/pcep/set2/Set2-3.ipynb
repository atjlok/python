{
 "cells": [
  {
   "cell_type": "markdown",
   "id": "9c12b7d3",
   "metadata": {},
   "source": [
    "## Operators\n",
    "\n",
    "- Binary\n",
    "- Unary\n",
    "\n",
    "- Priorities\n",
    "- Binding\n",
    "\n",
    "## Bitwise\n",
    "\n",
    "- Bitwise not ~\n",
    "- And &\n",
    "- Xor ^\n",
    "- Shift left <<\n",
    "- Shift right >>"
   ]
  },
  {
   "cell_type": "code",
   "execution_count": null,
   "id": "cf07530c",
   "metadata": {},
   "outputs": [],
   "source": [
    "print(~3)"
   ]
  },
  {
   "cell_type": "code",
   "execution_count": null,
   "id": "e5f0dbaf",
   "metadata": {},
   "outputs": [],
   "source": [
    "print(2 & 3)"
   ]
  },
  {
   "cell_type": "code",
   "execution_count": null,
   "id": "429bc0c4",
   "metadata": {},
   "outputs": [],
   "source": [
    "print(1 ^ 4)"
   ]
  },
  {
   "cell_type": "markdown",
   "id": "c41fa432",
   "metadata": {},
   "source": [
    "## Boolean Operation\n",
    "\n",
    "- And\n",
    "- OR"
   ]
  },
  {
   "cell_type": "code",
   "execution_count": null,
   "id": "74496f54",
   "metadata": {},
   "outputs": [],
   "source": [
    "x = 7\n",
    "y = 3\n",
    "print(x > y and (x-y) < y)"
   ]
  },
  {
   "cell_type": "code",
   "execution_count": null,
   "id": "9e5eb406",
   "metadata": {},
   "outputs": [],
   "source": [
    "x = 7\n",
    "y = 3\n",
    "print(x > y or y > x)"
   ]
  },
  {
   "cell_type": "markdown",
   "id": "2b03668b",
   "metadata": {},
   "source": [
    "## Relational operators\n",
    "\n",
    "- Equals ``=``\n",
    "- Not equals ``!=``\n",
    "- Greater than ``>``\n",
    "- Greater or equal ``>=``\n",
    "- Less than ``<``\n",
    "- Less or equal ``<=``"
   ]
  },
  {
   "cell_type": "code",
   "execution_count": null,
   "id": "af5f62ed",
   "metadata": {},
   "outputs": [],
   "source": [
    "print('PYTHON' == 'python') "
   ]
  },
  {
   "cell_type": "code",
   "execution_count": null,
   "id": "490138ce",
   "metadata": {},
   "outputs": [],
   "source": [
    "print(5 > 2)"
   ]
  },
  {
   "cell_type": "code",
   "execution_count": null,
   "id": "cc95aeff",
   "metadata": {},
   "outputs": [],
   "source": [
    "print(4 <= 8)"
   ]
  },
  {
   "cell_type": "markdown",
   "id": "344f7113",
   "metadata": {},
   "source": [
    "## IO Operations\n",
    "\n",
    "- ``input()``\n",
    "- ``print()``\n",
    "- ``int()``\n",
    "- ``float()``\n",
    "- ``str()``\n",
    "- ``len()``"
   ]
  },
  {
   "cell_type": "code",
   "execution_count": null,
   "id": "9b7c61a9",
   "metadata": {},
   "outputs": [],
   "source": [
    "print(type(int(\"25\")))"
   ]
  },
  {
   "cell_type": "code",
   "execution_count": null,
   "id": "e1088e44",
   "metadata": {},
   "outputs": [],
   "source": [
    "print(type(float('6.54')))"
   ]
  },
  {
   "cell_type": "code",
   "execution_count": null,
   "id": "f13644b9",
   "metadata": {},
   "outputs": [],
   "source": [
    "print(len('PYTHON'))"
   ]
  },
  {
   "cell_type": "markdown",
   "id": "ba7eb6e6",
   "metadata": {},
   "source": [
    "## Type Casting (Conversion of Data Stream to another type)\n"
   ]
  },
  {
   "cell_type": "code",
   "execution_count": null,
   "id": "2c6c026a",
   "metadata": {},
   "outputs": [],
   "source": [
    "x = 1\n",
    "y = 5\n",
    "my_string = \"{} + {} = {}\".format(x,y,x+y)\n",
    "print(my_string)"
   ]
  },
  {
   "cell_type": "markdown",
   "id": "48de6897",
   "metadata": {},
   "source": [
    "## Conditional Operators\n",
    "\n",
    "- If\n",
    "- If-else\n",
    "- If-elif\n",
    "- If-elif-else"
   ]
  },
  {
   "cell_type": "code",
   "execution_count": null,
   "id": "ac77ea4a",
   "metadata": {},
   "outputs": [],
   "source": [
    "x = 2\n",
    "y  = 4\n",
    "if x > y:\n",
    "    print(\"X is of larger value\")\n",
    "else:\n",
    "    print(\"X is not larger than Y\")"
   ]
  },
  {
   "cell_type": "code",
   "execution_count": null,
   "id": "2708a1d9",
   "metadata": {},
   "outputs": [],
   "source": [
    "x = 2\n",
    "if x == 2:\n",
    "    pass"
   ]
  },
  {
   "cell_type": "code",
   "execution_count": null,
   "id": "c3ab851b",
   "metadata": {},
   "outputs": [],
   "source": [
    "x = 3\n",
    "y = 4\n",
    "if x > 5:\n",
    "    print(\"X is not 0\")\n",
    "elif y == 2:\n",
    "    print(\"Value of Y is 2\")\n",
    "else:\n",
    "    print(\"X is not 1 and Y is 2\")"
   ]
  },
  {
   "cell_type": "markdown",
   "id": "57fea9cb",
   "metadata": {},
   "source": [
    "## Loops\n",
    "\n",
    "- For\n",
    "- While"
   ]
  },
  {
   "cell_type": "code",
   "execution_count": null,
   "id": "00acffd8",
   "metadata": {},
   "outputs": [],
   "source": [
    "for i in range(5):\n",
    "    print(i)"
   ]
  },
  {
   "cell_type": "code",
   "execution_count": null,
   "id": "2aa4521e",
   "metadata": {},
   "outputs": [],
   "source": [
    "i = 1\n",
    "while True:\n",
    "    print(i)\n",
    "    if i == 10:\n",
    "        break\n",
    "    else:\n",
    "        i = i + 1"
   ]
  },
  {
   "cell_type": "markdown",
   "id": "30e24d32",
   "metadata": {},
   "source": [
    "## Sequences\n",
    "\n",
    "- Set\n",
    "- Tuple\n",
    "- List\n",
    "- Dict"
   ]
  },
  {
   "cell_type": "code",
   "execution_count": null,
   "id": "40d5301b",
   "metadata": {},
   "outputs": [],
   "source": [
    "a = set((1,2,3,4,5,5,5,5)) # Duplicates left out.\n",
    "\n",
    "print(type(a))\n",
    "\n",
    "for i in a:\n",
    "    print(i)"
   ]
  },
  {
   "cell_type": "code",
   "execution_count": null,
   "id": "4f32a545",
   "metadata": {},
   "outputs": [],
   "source": [
    "a = list([1,2,3,4,5])\n",
    "print(type(a))\n",
    "\n",
    "for i in a:\n",
    "    print(i)"
   ]
  },
  {
   "cell_type": "code",
   "execution_count": null,
   "id": "dc36aad7",
   "metadata": {},
   "outputs": [],
   "source": [
    "for i in range(10):\n",
    "    print(i)\n",
    "    if i == 8:\n",
    "        print(\"Stopped at 8\")\n",
    "        break\n",
    "else:\n",
    "    print(\"xyz\")"
   ]
  },
  {
   "cell_type": "code",
   "execution_count": null,
   "id": "0f24837f",
   "metadata": {},
   "outputs": [],
   "source": [
    "for i in range(10):\n",
    "    if i % 2 == 0:\n",
    "        continue\n",
    "    print(\"Number {} is odd!\".format(i))"
   ]
  },
  {
   "cell_type": "code",
   "execution_count": null,
   "id": "6e84f828",
   "metadata": {},
   "outputs": [],
   "source": [
    "# break - example\n",
    "\n",
    "print(\"The break statement:\")\n",
    "for i in range(1, 6):\n",
    "    if i == 3:\n",
    "        break\n",
    "    print(\"This is Inside the loop.\", i)\n",
    "print(\"This is Outside the loop.\")"
   ]
  },
  {
   "cell_type": "code",
   "execution_count": null,
   "id": "0515f2dc",
   "metadata": {},
   "outputs": [],
   "source": [
    "# continue - example\n",
    "\n",
    "print(\"\\nThis is an example for a continue statement:\")\n",
    "for i in range(1, 6):\n",
    "    if i == 3:\n",
    "        continue\n",
    "    print(\"This is Inside the loop.\", i)\n",
    "print(\"This is Outside the loop.\")"
   ]
  },
  {
   "cell_type": "code",
   "execution_count": null,
   "id": "e2557d12",
   "metadata": {},
   "outputs": [],
   "source": [
    "i = 1\n",
    "while i < 5:\n",
    "    print(i)\n",
    "    i += 1\n",
    "else:\n",
    "    print(\"this is the else part :\", i)\n"
   ]
  },
  {
   "cell_type": "code",
   "execution_count": null,
   "id": "22c395cc",
   "metadata": {},
   "outputs": [],
   "source": [
    "# Example 1\n",
    "\n",
    "word = \"Python\"\n",
    "\n",
    "for letter in word:\n",
    "    print(letter, end=\"*\")"
   ]
  },
  {
   "cell_type": "code",
   "execution_count": null,
   "id": "7f176145",
   "metadata": {},
   "outputs": [],
   "source": [
    "# Example 2\n",
    "\n",
    "for i in range(1, 10):\n",
    "    if i % 2 == 0:\n",
    "        print(i)"
   ]
  },
  {
   "cell_type": "code",
   "execution_count": null,
   "id": "84e5d175",
   "metadata": {},
   "outputs": [],
   "source": [
    "text = \"pyxxpyxxpyxx\"\n",
    "for letter in text:\n",
    "    if letter == \"x\":\n",
    "        continue\n",
    "    print(letter, end=\"\")"
   ]
  }
 ],
 "metadata": {
  "kernelspec": {
   "display_name": "Python 3 (ipykernel)",
   "language": "python",
   "name": "python3"
  },
  "language_info": {
   "codemirror_mode": {
    "name": "ipython",
    "version": 3
   },
   "file_extension": ".py",
   "mimetype": "text/x-python",
   "name": "python",
   "nbconvert_exporter": "python",
   "pygments_lexer": "ipython3",
   "version": "3.11.5"
  }
 },
 "nbformat": 4,
 "nbformat_minor": 5
}
