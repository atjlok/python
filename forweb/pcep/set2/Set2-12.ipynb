{
 "cells": [
  {
   "cell_type": "markdown",
   "id": "afaac5e9",
   "metadata": {},
   "source": [
    "## Elements of a Programming Language:\n",
    "\n",
    "- Alphabet\n",
    "- Dictionary\n",
    "- Syntax\n",
    "- Semantics\n",
    "\n",
    "## Literals/Types:\n",
    "\n",
    "- Boolean (True, False)\n",
    "- Integer (1, 2, 3, 4, 5)\n",
    "- Float (1.0, 3.14, 9.67)\n",
    "- String (\"This is a string too\",'This is also a string')\n",
    "- Scientific notation (1e10)\n",
    "\n",
    "## Comments\n",
    "Single line ``(#)`` <br>\n",
    "Multiple Lines ``(\"\"\" \"\"\")`` <br>\n",
    "``\"\"\" This is a comment \"\"\"``\n",
    "\n",
    "## Help Command\n",
    "``dir(print)`` <br>\n",
    "``help(print)``"
   ]
  },
  {
   "cell_type": "markdown",
   "id": "2b01809f",
   "metadata": {},
   "source": [
    "## Print Aestericks (*) Seperator Between Alphabets"
   ]
  },
  {
   "cell_type": "code",
   "execution_count": null,
   "id": "30aa2cde",
   "metadata": {},
   "outputs": [],
   "source": [
    "print('a','b','c', sep='*')"
   ]
  },
  {
   "cell_type": "markdown",
   "id": "7c57fd53",
   "metadata": {},
   "source": [
    "## Print Alphabets with a single tab/space in between"
   ]
  },
  {
   "cell_type": "code",
   "execution_count": null,
   "id": "62ef0b4e",
   "metadata": {},
   "outputs": [],
   "source": [
    "print('a','b','c', end='\\t')"
   ]
  },
  {
   "cell_type": "markdown",
   "id": "9827f985",
   "metadata": {},
   "source": [
    "## Input Command Function and its Input Types\n",
    "\n",
    "``help(input)``"
   ]
  },
  {
   "cell_type": "markdown",
   "id": "dd720252",
   "metadata": {},
   "source": [
    "## String Input"
   ]
  },
  {
   "cell_type": "code",
   "execution_count": null,
   "id": "635daa9c",
   "metadata": {},
   "outputs": [],
   "source": [
    "a = input(\"Input text Please:\\t\")\n",
    "print(type(a))"
   ]
  },
  {
   "cell_type": "markdown",
   "id": "76f7b2bb",
   "metadata": {},
   "source": [
    "## Integer Input"
   ]
  },
  {
   "cell_type": "code",
   "execution_count": null,
   "id": "08c6e66a",
   "metadata": {},
   "outputs": [],
   "source": [
    "numberOfApps = input(\"Enter number of Python Apps required:\\t\")\n",
    "numberOfApps = int(numberOfApps)\n",
    "print(type(numberOfApps))"
   ]
  },
  {
   "cell_type": "markdown",
   "id": "48b7cee7",
   "metadata": {},
   "source": [
    "## Numerical Types:\n",
    "\n",
    "- Binary -- >> 0b1101\n",
    "- Octal -- >> 0o12354\n",
    "- Decimal -- >> 1212\n",
    "- Hexadecimal -- >> 0x1ae"
   ]
  },
  {
   "cell_type": "code",
   "execution_count": null,
   "id": "80556736",
   "metadata": {},
   "outputs": [],
   "source": [
    "# Binary\n",
    "\n",
    "print(101112)"
   ]
  },
  {
   "cell_type": "code",
   "execution_count": null,
   "id": "eb6b9c3b",
   "metadata": {},
   "outputs": [],
   "source": [
    "# Octal\n",
    "\n",
    "print(0b101)"
   ]
  },
  {
   "cell_type": "code",
   "execution_count": null,
   "id": "6565b0af",
   "metadata": {},
   "outputs": [],
   "source": [
    "# Decimal\n",
    "\n",
    "print(0o33)"
   ]
  },
  {
   "cell_type": "code",
   "execution_count": null,
   "id": "f1025903",
   "metadata": {},
   "outputs": [],
   "source": [
    "# Hexadecimal\n",
    "\n",
    "print(0xFFEE)"
   ]
  },
  {
   "cell_type": "markdown",
   "id": "6649cfac",
   "metadata": {},
   "source": [
    "## Numeric Operations Types:"
   ]
  },
  {
   "cell_type": "code",
   "execution_count": null,
   "id": "5bff2f1a",
   "metadata": {},
   "outputs": [],
   "source": [
    "# Exponent **\n",
    "print(2**2)"
   ]
  },
  {
   "cell_type": "code",
   "execution_count": null,
   "id": "203b9a86",
   "metadata": {},
   "outputs": [],
   "source": [
    "# Multiplication *\n",
    "print(2*3)"
   ]
  },
  {
   "cell_type": "code",
   "execution_count": null,
   "id": "2709b2a9",
   "metadata": {},
   "outputs": [],
   "source": [
    "# Division /\n",
    "print(6/3)"
   ]
  },
  {
   "cell_type": "code",
   "execution_count": null,
   "id": "00e4e538",
   "metadata": {},
   "outputs": [],
   "source": [
    "# Divison with Remainder Rounded Off\n",
    "print(2%3)"
   ]
  },
  {
   "cell_type": "code",
   "execution_count": null,
   "id": "4fdd6f03",
   "metadata": {},
   "outputs": [],
   "source": [
    "# Integer Divison Operator\n",
    "print(4//4)"
   ]
  },
  {
   "cell_type": "code",
   "execution_count": null,
   "id": "612bf49e",
   "metadata": {},
   "outputs": [],
   "source": [
    "# Addition \n",
    "print(2+3)"
   ]
  },
  {
   "cell_type": "code",
   "execution_count": null,
   "id": "dcb009b5",
   "metadata": {},
   "outputs": [],
   "source": [
    "# Subtraction\n",
    "print(3-6)"
   ]
  },
  {
   "cell_type": "code",
   "execution_count": null,
   "id": "589ac8b4",
   "metadata": {},
   "outputs": [],
   "source": [
    "# Print hyphen of strings using multiplication\n",
    "print('-'*3)"
   ]
  },
  {
   "cell_type": "markdown",
   "id": "4f7f65eb",
   "metadata": {},
   "source": [
    "## Using Strings with Operators"
   ]
  },
  {
   "cell_type": "code",
   "execution_count": 3,
   "id": "39d3fb64",
   "metadata": {},
   "outputs": [
    {
     "name": "stdout",
     "output_type": "stream",
     "text": [
      "Love to Py\n"
     ]
    }
   ],
   "source": [
    "print(\"Love to \" + \"Py\") # Spaces added for readability."
   ]
  },
  {
   "cell_type": "code",
   "execution_count": null,
   "id": "481ca36c",
   "metadata": {},
   "outputs": [],
   "source": [
    "print(\"Python\"*5)"
   ]
  },
  {
   "cell_type": "code",
   "execution_count": null,
   "id": "c0dcc1c5",
   "metadata": {},
   "outputs": [],
   "source": [
    "Stars = '*' * 25\n",
    "print(Stars)"
   ]
  },
  {
   "cell_type": "markdown",
   "id": "9795791c",
   "metadata": {},
   "source": [
    "## Assginments and Shortcuts:"
   ]
  },
  {
   "cell_type": "code",
   "execution_count": null,
   "id": "ad18c0e7",
   "metadata": {},
   "outputs": [],
   "source": [
    "a = 2\n",
    "a **= 5\n",
    "print (a)"
   ]
  }
 ],
 "metadata": {
  "kernelspec": {
   "display_name": "Python 3 (ipykernel)",
   "language": "python",
   "name": "python3"
  },
  "language_info": {
   "codemirror_mode": {
    "name": "ipython",
    "version": 3
   },
   "file_extension": ".py",
   "mimetype": "text/x-python",
   "name": "python",
   "nbconvert_exporter": "python",
   "pygments_lexer": "ipython3",
   "version": "3.11.5"
  }
 },
 "nbformat": 4,
 "nbformat_minor": 5
}
