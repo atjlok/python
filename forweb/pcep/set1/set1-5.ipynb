{
 "cells": [
  {
   "cell_type": "markdown",
   "metadata": {},
   "source": [
    "### Function and Generators\n",
    "\n",
    "Types:\n",
    "- Function -- >> serious memory impact\n",
    "- Generators -- >> they minimize memory impact\n",
    "\n",
    "Results:\n",
    "- return -- >> give back the processes results\n",
    "- yield -- >> give back one value at a time\n",
    "\n",
    "### Parameters and arguments:\n",
    "- arg -- >> position and order matters\n",
    "- par -- >> like keyword arguments"
   ]
  },
  {
   "cell_type": "code",
   "execution_count": null,
   "metadata": {},
   "outputs": [],
   "source": [
    "def generate(number):\n",
    "    a = list()\n",
    "    for i in range(number):\n",
    "        a.append(i)\n",
    "        \n",
    "    return a\n",
    "\n",
    "print(generate(100))\n"
   ]
  },
  {
   "cell_type": "code",
   "execution_count": null,
   "metadata": {},
   "outputs": [],
   "source": [
    "def generate(number):\n",
    "    a = list()\n",
    "    for i in range(number):\n",
    "        yield i\n",
    "        \n",
    "print(generate(10000000))"
   ]
  },
  {
   "cell_type": "code",
   "execution_count": null,
   "metadata": {},
   "outputs": [],
   "source": [
    "print(None)"
   ]
  },
  {
   "cell_type": "code",
   "execution_count": null,
   "metadata": {},
   "outputs": [],
   "source": [
    "def return_none(anyvalue):\n",
    "    print(anyvalue)\n",
    "    \n",
    "a = return_none(\"THis is a test for None\")\n",
    "a is None"
   ]
  },
  {
   "cell_type": "code",
   "execution_count": null,
   "metadata": {},
   "outputs": [],
   "source": [
    "def sum(a, b):\n",
    "    return a + b\n",
    "\n",
    "print(sum(1,5))"
   ]
  },
  {
   "cell_type": "code",
   "execution_count": null,
   "metadata": {},
   "outputs": [],
   "source": [
    "def sum(a, b):\n",
    "    return a + b\n",
    "print(sum(1))"
   ]
  },
  {
   "cell_type": "code",
   "execution_count": null,
   "metadata": {},
   "outputs": [],
   "source": [
    "def general(*args, **kwargs):\n",
    "    \n",
    "    print(args)\n",
    "    print(kwargs)\n",
    "\n",
    "general(1,b=10)\n"
   ]
  },
  {
   "cell_type": "code",
   "execution_count": null,
   "metadata": {},
   "outputs": [],
   "source": [
    "# Note the error\n",
    "\n",
    "def general(*args, **kwargs):\n",
    "    \n",
    "    print(args)\n",
    "    print(kwargs)\n",
    "    \n",
    "general(b=10, 5)"
   ]
  },
  {
   "cell_type": "code",
   "execution_count": 3,
   "metadata": {},
   "outputs": [
    {
     "name": "stdout",
     "output_type": "stream",
     "text": [
      "(1,)\n",
      "{'c': 11}\n"
     ]
    }
   ],
   "source": [
    "def general(*args, **kwargs):\n",
    "    print(args)\n",
    "    print(kwargs)\n",
    "general(1,c=11)"
   ]
  },
  {
   "cell_type": "code",
   "execution_count": 4,
   "metadata": {},
   "outputs": [
    {
     "name": "stdout",
     "output_type": "stream",
     "text": [
      "(20,)\n",
      "{'b': 30}\n"
     ]
    }
   ],
   "source": [
    "def general(*args,**kwargs):\n",
    "    print(args)\n",
    "    print(kwargs)\n",
    "general(20, b = 30)"
   ]
  },
  {
   "cell_type": "code",
   "execution_count": 9,
   "metadata": {},
   "outputs": [
    {
     "name": "stdout",
     "output_type": "stream",
     "text": [
      "10\n",
      "11\n"
     ]
    }
   ],
   "source": [
    "# Using the default values provided, \n",
    "\n",
    "def general(a=10,b=11):\n",
    "    print(a)\n",
    "    print(b)\n",
    "general()"
   ]
  },
  {
   "cell_type": "code",
   "execution_count": 10,
   "metadata": {},
   "outputs": [
    {
     "name": "stdout",
     "output_type": "stream",
     "text": [
      "1\n",
      "2\n"
     ]
    }
   ],
   "source": [
    "# Using given values,\n",
    "\n",
    "def general(a=10,b=11):\n",
    "    print(a)\n",
    "    print(b)\n",
    "    \n",
    "general(1,2)"
   ]
  },
  {
   "cell_type": "code",
   "execution_count": null,
   "metadata": {},
   "outputs": [],
   "source": [
    "# Generating a List\n",
    "list(generate(10))"
   ]
  },
  {
   "cell_type": "code",
   "execution_count": 8,
   "metadata": {},
   "outputs": [
    {
     "name": "stdout",
     "output_type": "stream",
     "text": [
      "10\n",
      "13\n",
      "None\n"
     ]
    }
   ],
   "source": [
    "a = 10\n",
    "print(a)\n",
    "\n",
    "def a_function(a=11):\n",
    "    print(a)\n",
    "    \n",
    "print(a_function(13))"
   ]
  },
  {
   "cell_type": "code",
   "execution_count": 16,
   "metadata": {
    "scrolled": true
   },
   "outputs": [
    {
     "name": "stdout",
     "output_type": "stream",
     "text": [
      "14\n",
      "14\n",
      "None\n",
      "10\n"
     ]
    }
   ],
   "source": [
    "a = 13\n",
    "\n",
    "def a_function(a=11):\n",
    "    print(a)\n",
    "    global b \n",
    "    b = 10\n",
    "    print(a)\n",
    "\n",
    "print(a_function(14))\n",
    "\n",
    "print(b)"
   ]
  },
  {
   "cell_type": "code",
   "execution_count": null,
   "metadata": {},
   "outputs": [],
   "source": [
    "a = 10\n",
    "print(a)\n",
    "\n",
    "def a_function(a=11):\n",
    "    return a  # Returning the value instead of printing it\n",
    "\n",
    "result = a_function(13)  # Storing the returned value in a variable\n",
    "\n",
    "print(result)  # Printing the returned value"
   ]
  },
  {
   "cell_type": "code",
   "execution_count": null,
   "metadata": {},
   "outputs": [],
   "source": [
    "def fibonacci(n):\n",
    "    if n <= 1:\n",
    "        return n\n",
    "    else:\n",
    "        return fibonacci(n-1) + fibonacci(n - 2)\n",
    "    \n",
    "print(fibonacci(10))"
   ]
  },
  {
   "cell_type": "markdown",
   "metadata": {},
   "source": [
    "### Exceptions\n",
    "\n",
    "Levels:\n",
    "- Exeption -- >>  Highest level"
   ]
  },
  {
   "cell_type": "code",
   "execution_count": null,
   "metadata": {},
   "outputs": [],
   "source": [
    "try:\n",
    "    raise SystemExit\n",
    "except Exception as e:\n",
    "    print(\"This is the problem:  {}\".format(e))"
   ]
  },
  {
   "cell_type": "code",
   "execution_count": null,
   "metadata": {},
   "outputs": [],
   "source": [
    "try:\n",
    "    raise ValueError(\"Value wrong\")\n",
    "except ValueError as e:\n",
    "    print(\"This is a value error\")\n",
    "except:\n",
    "    print(\"This never ecxecutes\")"
   ]
  },
  {
   "cell_type": "code",
   "execution_count": null,
   "metadata": {},
   "outputs": [],
   "source": [
    "try:\n",
    "    raise TypeError(\"Value is wrong\")\n",
    "except ValueError as e:\n",
    "    print(\"This is a value error\")\n",
    "except:\n",
    "    print(\"This never gets ecxecuted\")"
   ]
  }
 ],
 "metadata": {
  "kernelspec": {
   "display_name": "Python 3 (ipykernel)",
   "language": "python",
   "name": "python3"
  },
  "language_info": {
   "codemirror_mode": {
    "name": "ipython",
    "version": 3
   },
   "file_extension": ".py",
   "mimetype": "text/x-python",
   "name": "python",
   "nbconvert_exporter": "python",
   "pygments_lexer": "ipython3",
   "version": "3.11.5"
  }
 },
 "nbformat": 4,
 "nbformat_minor": 2
}
