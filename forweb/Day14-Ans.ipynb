{
 "cells": [
  {
   "cell_type": "markdown",
   "id": "7a1e0b0f",
   "metadata": {},
   "source": [
    "Task 1: Create a Person class with attributes like name, age, and methods like greet(). \n",
    "        Instantiate the class and call the methods."
   ]
  },
  {
   "cell_type": "code",
   "execution_count": null,
   "id": "6ae2dcb3",
   "metadata": {},
   "outputs": [],
   "source": [
    "# Task 1: Person Class\n",
    "\n",
    "class Person:\n",
    "    def __init__(self, name, age):\n",
    "        self.name = name\n",
    "        self.age = age\n",
    "\n",
    "    def greet(self):\n",
    "        print(f\"Hello! My name is {self.name} and I am {self.age} years old.\")\n",
    "\n",
    "# Instantiate the class\n",
    "person1 = Person(\"Prasun\", 18)\n",
    "person1.greet()"
   ]
  },
  {
   "cell_type": "markdown",
   "id": "da467075",
   "metadata": {},
   "source": [
    "Task 2: Write a class Rectangle: Create a constructor to initialize length and width. \n",
    "        Add a method area() to calculate the area of the rectangle.        "
   ]
  },
  {
   "cell_type": "code",
   "execution_count": null,
   "id": "0fbc89b9",
   "metadata": {},
   "outputs": [],
   "source": [
    "# Task 2: Rectangle Class\n",
    "\n",
    "class Rectangle:\n",
    "    def __init__(self, length, width):\n",
    "        self.length = length\n",
    "        self.width = width\n",
    "\n",
    "    def area(self):\n",
    "        return self.length * self.width\n",
    "\n",
    "# Instantiate the class\n",
    "rect = Rectangle(5, 3)\n",
    "print(f\"The area of the rectangle is: {rect.area()}\")"
   ]
  },
  {
   "cell_type": "markdown",
   "id": "b4cc7e14",
   "metadata": {},
   "source": [
    "Task 3: Define a Student class with attributes such as name, roll_number, and marks. \n",
    "        Add methods to display student details and calculate grade.        "
   ]
  },
  {
   "cell_type": "code",
   "execution_count": null,
   "id": "5da3529e",
   "metadata": {},
   "outputs": [],
   "source": [
    "# Task 3: Student Class\n",
    "\n",
    "class Student:\n",
    "    def __init__(self, name, roll_number, marks):\n",
    "        self.name = name\n",
    "        self.roll_number = roll_number\n",
    "        self.marks = marks\n",
    "\n",
    "    def display_details(self):\n",
    "        print(f\"Name: {self.name}\")\n",
    "        print(f\"Roll Number: {self.roll_number}\")\n",
    "        print(f\"Marks: {self.marks}\")\n",
    "\n",
    "    def calculate_grade(self):\n",
    "        if self.marks >= 90:\n",
    "            return \"A\"\n",
    "        elif self.marks >= 70:\n",
    "            return \"B\"\n",
    "        else:\n",
    "            return \"C\"\n",
    "\n",
    "# Instantiate the class\n",
    "\n",
    "student1 = Student(\"Prasun\", 101, 90)\n",
    "student1.display_details()\n",
    "print(f\"Grade: {student1.calculate_grade()}\")"
   ]
  },
  {
   "cell_type": "markdown",
   "id": "0dcab1bf",
   "metadata": {},
   "source": [
    "Task 4: Write a Car class: Create a constructor to initialize brand, model, and year. \n",
    "        Add a method drive() to print a message indicating the car is driving."
   ]
  },
  {
   "cell_type": "code",
   "execution_count": null,
   "id": "a3934429",
   "metadata": {},
   "outputs": [],
   "source": [
    "# Task 4: Car Class\n",
    "\n",
    "class Car:\n",
    "    def __init__(self, brand, model, year):\n",
    "        self.brand = brand\n",
    "        self.model = model\n",
    "        self.year = year\n",
    "\n",
    "    def drive(self):\n",
    "        print(f\"The {self.brand} {self.model} ({self.year}) is driving good.\")\n",
    "\n",
    "# Instantiate the class\n",
    "\n",
    "car1 = Car(\"Toyota\", \"Corolla\", 2020)\n",
    "car1.drive()"
   ]
  },
  {
   "cell_type": "markdown",
   "id": "fd5c77fc",
   "metadata": {},
   "source": [
    "Task 5: Create an abstract class Vehicle with an abstract method fuel_type(). \n",
    "        Implement two classes Car and Truck that inherit from Vehicle and provide their own implementation of fuel_type()."
   ]
  },
  {
   "cell_type": "code",
   "execution_count": 1,
   "id": "e5751ab5",
   "metadata": {},
   "outputs": [
    {
     "name": "stdout",
     "output_type": "stream",
     "text": [
      "The car uses petrol.\n",
      "The truck uses diesel.\n"
     ]
    }
   ],
   "source": [
    "from abc import ABC, abstractmethod\n",
    "\n",
    "# Task 5: Abstract Vehicle Class\n",
    "\n",
    "class Vehicle(ABC):\n",
    "    @abstractmethod\n",
    "    def fuel_type(self):\n",
    "        pass\n",
    "\n",
    "class Car(Vehicle):\n",
    "    def fuel_type(self):\n",
    "        print(\"The car uses petrol.\")\n",
    "\n",
    "class Truck(Vehicle):\n",
    "    def fuel_type(self):\n",
    "        print(\"The truck uses diesel.\")\n",
    "\n",
    "# Instantiate the classes\n",
    "\n",
    "car1 = Car()\n",
    "car1.fuel_type()\n",
    "\n",
    "truck1 = Truck()\n",
    "truck1.fuel_type()"
   ]
  },
  {
   "cell_type": "markdown",
   "id": "c3fb6cb0",
   "metadata": {},
   "source": [
    "Task 6: Create a class Employee: Add private attributes for name and salary. \n",
    "        Add a method increment_salary() to increase salary by a percentage."
   ]
  },
  {
   "cell_type": "code",
   "execution_count": null,
   "id": "76844389",
   "metadata": {},
   "outputs": [],
   "source": [
    "# Task 6: Employee Class\n",
    "\n",
    "class Employee:\n",
    "    def __init__(self, name, salary):\n",
    "        self.__name = name  # private attribute\n",
    "        self.__salary = salary  # private attribute\n",
    "\n",
    "    def increment_salary(self, percentage):\n",
    "        self.__salary += self.__salary * (percentage / 100)\n",
    "\n",
    "    def display_details(self):\n",
    "        print(f\"Employee Name: {self.__name}\")\n",
    "        print(f\"Salary: {self.__salary}\")\n",
    "\n",
    "# Instantiate the class\n",
    "\n",
    "employee1 = Employee(\"Alice\", 50000)\n",
    "employee1.display_details()\n",
    "employee1.increment_salary(10)  # Increase salary by 10%\n",
    "employee1.display_details()"
   ]
  }
 ],
 "metadata": {
  "kernelspec": {
   "display_name": "Python 3 (ipykernel)",
   "language": "python",
   "name": "python3"
  },
  "language_info": {
   "codemirror_mode": {
    "name": "ipython",
    "version": 3
   },
   "file_extension": ".py",
   "mimetype": "text/x-python",
   "name": "python",
   "nbconvert_exporter": "python",
   "pygments_lexer": "ipython3",
   "version": "3.11.5"
  }
 },
 "nbformat": 4,
 "nbformat_minor": 5
}
