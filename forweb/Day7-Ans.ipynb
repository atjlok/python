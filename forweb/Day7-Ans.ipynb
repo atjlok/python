{
 "cells": [
  {
   "cell_type": "markdown",
   "id": "9284f05d",
   "metadata": {},
   "source": [
    "Task 1: List Operations"
   ]
  },
  {
   "cell_type": "code",
   "execution_count": null,
   "id": "6d8d9988",
   "metadata": {},
   "outputs": [],
   "source": [
    "# Create a list of favorite fruits\n",
    "\n",
    "fruits = [\"Apple\", \"Banana\", \"Cherry\", \"Mango\", \"Orange\"]\n",
    "\n",
    "# Add a new fruit to the list\n",
    "\n",
    "fruits.append(\"Grapes\")\n",
    "print(\"List after adding a new fruit:\", fruits)\n",
    "\n",
    "# Remove one fruit from the list\n",
    "\n",
    "fruits.remove(\"Banana\")\n",
    "print(\"List after removing a fruit:\", fruits)\n",
    "\n",
    "# Slice the list to display the first 3 fruits\n",
    "\n",
    "first_three_fruits = fruits[:3]\n",
    "print(\"First three fruits:\", first_three_fruits)"
   ]
  },
  {
   "cell_type": "markdown",
   "id": "d2a1364b",
   "metadata": {},
   "source": [
    "Task 2: Tuple Operations    "
   ]
  },
  {
   "cell_type": "code",
   "execution_count": null,
   "id": "9cbf9111",
   "metadata": {},
   "outputs": [],
   "source": [
    "# Define a tuple of five numbers\n",
    "\n",
    "numbers = (10, 20, 30, 40, 50)\n",
    "\n",
    "# Access and display the third element\n",
    "\n",
    "third_element = numbers[2]\n",
    "print(\"Third element of the tuple:\", third_element)\n",
    "\n",
    "# Slice the tuple to display elements from index 2 to 4\n",
    "\n",
    "sliced_tuple = numbers[2:5]\n",
    "print(\"Sliced tuple (index 2 to 4):\", sliced_tuple)"
   ]
  },
  {
   "cell_type": "markdown",
   "id": "bc9c2fd5",
   "metadata": {},
   "source": [
    "Task 3: Modify a List"
   ]
  },
  {
   "cell_type": "code",
   "execution_count": null,
   "id": "97aba87d",
   "metadata": {},
   "outputs": [],
   "source": [
    "# Create a list with mixed data types\n",
    "\n",
    "mixed_list = [100, \"Python\", 3.14, True]\n",
    "\n",
    "# Modify the list by replacing the first element\n",
    "\n",
    "mixed_list[0] = \"New Value\"\n",
    "print(\"Modified list:\", mixed_list)"
   ]
  },
  {
   "cell_type": "markdown",
   "id": "66eb13f1",
   "metadata": {},
   "source": [
    "Task 4: Attempt to Modify a Tuple    "
   ]
  },
  {
   "cell_type": "code",
   "execution_count": null,
   "id": "d3a25146",
   "metadata": {},
   "outputs": [],
   "source": [
    "# Create a tuple of numbers\n",
    "\n",
    "immutable_tuple = (1, 2, 3, 4, 5)\n",
    "\n",
    "# Attempt to modify an element of the tuple\n",
    "\n",
    "try:\n",
    "    immutable_tuple[0] = 10\n",
    "except TypeError as e:\n",
    "    print(\"Error encountered while trying to modify a tuple:\", e)"
   ]
  }
 ],
 "metadata": {
  "kernelspec": {
   "display_name": "Python 3 (ipykernel)",
   "language": "python",
   "name": "python3"
  },
  "language_info": {
   "codemirror_mode": {
    "name": "ipython",
    "version": 3
   },
   "file_extension": ".py",
   "mimetype": "text/x-python",
   "name": "python",
   "nbconvert_exporter": "python",
   "pygments_lexer": "ipython3",
   "version": "3.11.5"
  }
 },
 "nbformat": 4,
 "nbformat_minor": 5
}
