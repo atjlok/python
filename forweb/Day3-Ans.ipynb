{
 "cells": [
  {
   "cell_type": "markdown",
   "id": "d524509c",
   "metadata": {},
   "source": [
    "Task 1: Perform Operations Using Arithmetic Operators    "
   ]
  },
  {
   "cell_type": "code",
   "execution_count": null,
   "id": "6d8c0959",
   "metadata": {},
   "outputs": [],
   "source": [
    "# Add two numbers\n",
    "\n",
    "num1 = 10\n",
    "num2 = 15\n",
    "addition_result = num1 + num2\n",
    "print(\"Addition of two numbers:\", addition_result)\n",
    "\n",
    "# Divide two numbers and display the result as a float\n",
    "\n",
    "num3 = 25\n",
    "num4 = 4\n",
    "division_result = num3 / num4\n",
    "print(\"Division result as float:\", division_result)\n",
    "\n",
    "# Calculate the remainder of a division\n",
    "\n",
    "remainder_result = num3 % num4\n",
    "print(\"Remainder of the division:\", remainder_result)"
   ]
  },
  {
   "cell_type": "markdown",
   "id": "ec2ddb65",
   "metadata": {},
   "source": [
    "Task 2: Write a Script for Logical Operations"
   ]
  },
  {
   "cell_type": "code",
   "execution_count": null,
   "id": "3fdcee72",
   "metadata": {},
   "outputs": [],
   "source": [
    "# Check if 15 is greater than 10 and less than 20\n",
    "\n",
    "result = 15 > 10 and 15 < 20\n",
    "print(\"Is 15 greater than 10 and less than 20?:\", result)\n",
    "\n",
    "# Negate the result of (5 == 10)\n",
    "\n",
    "negated_result = not (5 == 10)\n",
    "print(\"Negation of (5 == 10):\", negated_result)"
   ]
  },
  {
   "cell_type": "markdown",
   "id": "2a863e5a",
   "metadata": {},
   "source": [
    "Task 3: Use Membership Operators with a List    "
   ]
  },
  {
   "cell_type": "code",
   "execution_count": null,
   "id": "f7deac74",
   "metadata": {},
   "outputs": [],
   "source": [
    "# Create a list of your favorite fruits\n",
    "\n",
    "favorite_fruits = [\"apple\", \"banana\", \"mango\", \"orange\"]\n",
    "\n",
    "# Check if a fruit is in your list\n",
    "\n",
    "fruit_to_check = \"banana\"\n",
    "is_in_list = fruit_to_check in favorite_fruits\n",
    "print(f\"Is '{fruit_to_check}' in the list of favorite fruits?:\", is_in_list)\n",
    "\n",
    "# Check if a fruit is not in your list\n",
    "\n",
    "fruit_to_check = \"grape\"\n",
    "is_not_in_list = fruit_to_check not in favorite_fruits\n",
    "print(f\"Is '{fruit_to_check}' not in the list of favorite fruits?:\", is_not_in_list)"
   ]
  }
 ],
 "metadata": {
  "kernelspec": {
   "display_name": "Python 3 (ipykernel)",
   "language": "python",
   "name": "python3"
  },
  "language_info": {
   "codemirror_mode": {
    "name": "ipython",
    "version": 3
   },
   "file_extension": ".py",
   "mimetype": "text/x-python",
   "name": "python",
   "nbconvert_exporter": "python",
   "pygments_lexer": "ipython3",
   "version": "3.11.5"
  }
 },
 "nbformat": 4,
 "nbformat_minor": 5
}
