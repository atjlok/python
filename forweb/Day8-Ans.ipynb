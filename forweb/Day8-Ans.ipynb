{
 "cells": [
  {
   "cell_type": "markdown",
   "id": "6763e5ac",
   "metadata": {},
   "source": [
    "Task 1: Create a Dictionary and Modify it."
   ]
  },
  {
   "cell_type": "code",
   "execution_count": null,
   "id": "e5796973",
   "metadata": {},
   "outputs": [],
   "source": [
    "# Create a dictionary to store name, age, and country of a person\n",
    "\n",
    "person = {\"name\": \"John\", \"age\": 25, \"country\": \"USA\"}\n",
    "\n",
    "# Add a new key-value pair for the person's occupation\n",
    "\n",
    "person[\"occupation\"] = \"Software Developer\"\n",
    "print(\"Dictionary after adding occupation:\", person)\n",
    "\n",
    "# Modify the age and print the updated dictionary\n",
    "\n",
    "person[\"age\"] = 30\n",
    "print(\"Updated dictionary after modifying age:\", person)"
   ]
  },
  {
   "cell_type": "markdown",
   "id": "293232f7",
   "metadata": {},
   "source": [
    "Task 2: Print Dictionary Keys, Values, and Items"
   ]
  },
  {
   "cell_type": "code",
   "execution_count": null,
   "id": "92d99960",
   "metadata": {},
   "outputs": [],
   "source": [
    "# Define a dictionary with at least 5 key-value pairs\n",
    "\n",
    "person_info = {\n",
    "    \"name\": \"Alice\",\n",
    "    \"age\": 28,\n",
    "    \"country\": \"Canada\",\n",
    "    \"occupation\": \"Engineer\",\n",
    "    \"hobbies\": \"Reading\"\n",
    "}\n",
    "\n",
    "# Use keys(), values(), and items() to print all keys, values, and key-value pairs\n",
    "\n",
    "print(\"Keys:\", person_info.keys())\n",
    "print(\"Values:\", person_info.values())\n",
    "print(\"Key-Value pairs:\", person_info.items())"
   ]
  },
  {
   "cell_type": "markdown",
   "id": "f1d31a52",
   "metadata": {},
   "source": [
    "Task 3: Remove Key-Value Pair Using pop()    "
   ]
  },
  {
   "cell_type": "code",
   "execution_count": null,
   "id": "44851f91",
   "metadata": {},
   "outputs": [],
   "source": [
    "# Write a program that removes a key-value pair from a dictionary using pop()\n",
    "\n",
    "person_info = {\n",
    "    \"name\": \"Alice\",\n",
    "    \"age\": 28,\n",
    "    \"country\": \"Canada\",\n",
    "    \"occupation\": \"Engineer\",\n",
    "    \"hobbies\": \"Reading\"\n",
    "}\n",
    "\n",
    "# Remove a key-value pair and display the removed item\n",
    "\n",
    "removed_item = person_info.pop(\"hobbies\")\n",
    "print(\"Removed item:\", removed_item)\n",
    "print(\"Updated dictionary:\", person_info)"
   ]
  },
  {
   "cell_type": "markdown",
   "id": "5f5ca2cb",
   "metadata": {},
   "source": [
    "Task 4: Use del and clear()"
   ]
  },
  {
   "cell_type": "code",
   "execution_count": null,
   "id": "177c7f33",
   "metadata": {},
   "outputs": [],
   "source": [
    "# Define a dictionary with some data\n",
    "\n",
    "person_info = {\n",
    "    \"name\": \"Bob\",\n",
    "    \"age\": 35,\n",
    "    \"country\": \"USA\",\n",
    "    \"occupation\": \"Designer\"\n",
    "}\n",
    "\n",
    "# Use del to remove a key-value pair\n",
    "\n",
    "del person_info[\"age\"]\n",
    "print(\"Dictionary after using del:\", person_info)\n",
    "\n",
    "# Use clear() to empty the dictionary\n",
    "\n",
    "person_info.clear()\n",
    "print(\"Dictionary after using clear():\", person_info)"
   ]
  }
 ],
 "metadata": {
  "kernelspec": {
   "display_name": "Python 3 (ipykernel)",
   "language": "python",
   "name": "python3"
  },
  "language_info": {
   "codemirror_mode": {
    "name": "ipython",
    "version": 3
   },
   "file_extension": ".py",
   "mimetype": "text/x-python",
   "name": "python",
   "nbconvert_exporter": "python",
   "pygments_lexer": "ipython3",
   "version": "3.11.5"
  }
 },
 "nbformat": 4,
 "nbformat_minor": 5
}
