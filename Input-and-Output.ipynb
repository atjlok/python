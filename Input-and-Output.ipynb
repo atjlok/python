{
 "cells": [
  {
   "cell_type": "markdown",
   "id": "e48f947a",
   "metadata": {
    "slideshow": {
     "slide_type": "slide"
    }
   },
   "source": [
    "<h1 class=\"btn btn-block btn-primary\">Input and Output Statements</h1>"
   ]
  },
  {
   "cell_type": "markdown",
   "id": "e318526a",
   "metadata": {
    "slideshow": {
     "slide_type": "slide"
    }
   },
   "source": [
    "<ul class=\"list-group\">\n",
    "    <li class=\"list-group-item\"><span class=\"text-primary\" style=\"font-size:20px\">Input Statement:</span> <span style=\"font-size:17px\"> The <b>input()</b> function is used to take input from the user. It reads the input as a string by default.</span></li>\n",
    "  <li class=\"list-group-item\"><span class=\"text-primary\" style=\"font-size:20px\">Output Statement:</span><span style=\"font-size:17px\"> The <b>print()</b> function is used to display the output usually in the screen </li></span>\n",
    "</ul>"
   ]
  },
  {
   "cell_type": "markdown",
   "id": "21f35f0c",
   "metadata": {
    "slideshow": {
     "slide_type": "slide"
    }
   },
   "source": [
    "<h2 class=\"btn btn-block btn-primary\">print() - function</h2>"
   ]
  },
  {
   "cell_type": "code",
   "execution_count": null,
   "id": "92eb277e",
   "metadata": {
    "slideshow": {
     "slide_type": "slide"
    }
   },
   "outputs": [],
   "source": [
    "age=30\n",
    "print(age)"
   ]
  },
  {
   "cell_type": "markdown",
   "id": "4ce27299",
   "metadata": {
    "slideshow": {
     "slide_type": "slide"
    }
   },
   "source": [
    "#### Print multiple values using comma"
   ]
  },
  {
   "cell_type": "code",
   "execution_count": null,
   "id": "694dbcf6",
   "metadata": {
    "slideshow": {
     "slide_type": "slide"
    }
   },
   "outputs": [],
   "source": [
    "age=20\n",
    "print(\"Your Age is:\",age)"
   ]
  },
  {
   "cell_type": "code",
   "execution_count": null,
   "id": "37505f72",
   "metadata": {
    "slideshow": {
     "slide_type": "slide"
    }
   },
   "outputs": [],
   "source": [
    "number1=10\n",
    "number2=20\n",
    "total=number1+number2\n",
    "print(\"The Sum of\",number1,\"and\",number2,\"is:\",total)"
   ]
  },
  {
   "cell_type": "markdown",
   "id": "bcd203f4",
   "metadata": {
    "slideshow": {
     "slide_type": "slide"
    }
   },
   "source": [
    "#### Format the output using sring.format() method:"
   ]
  },
  {
   "cell_type": "code",
   "execution_count": null,
   "id": "2434fd1b",
   "metadata": {
    "slideshow": {
     "slide_type": "slide"
    }
   },
   "outputs": [],
   "source": [
    "number1=10\n",
    "number2=20\n",
    "total=number1+number2\n",
    "print(\"The Sum of {} and,{} is {}\".format(number1,number2,total))"
   ]
  },
  {
   "cell_type": "code",
   "execution_count": null,
   "id": "c3852985",
   "metadata": {
    "slideshow": {
     "slide_type": "slide"
    }
   },
   "outputs": [],
   "source": [
    "number1=10\n",
    "number2=20\n",
    "total=number1+number2\n",
    "print(\"The Sum of {0} and,{1} is {2}\".format(number1,number2,total))"
   ]
  },
  {
   "cell_type": "code",
   "execution_count": null,
   "id": "7e40d78e",
   "metadata": {
    "slideshow": {
     "slide_type": "slide"
    }
   },
   "outputs": [],
   "source": [
    "number1=10\n",
    "number2=20\n",
    "total=number1+number2\n",
    "diff=abs(number1-number2)\n",
    "print(\"The Sum of {0} and,{1} is {2} and the difference between {0} and {1} is {3}\".format(number1,number2,total,diff))"
   ]
  },
  {
   "cell_type": "markdown",
   "id": "11149403",
   "metadata": {
    "slideshow": {
     "slide_type": "slide"
    }
   },
   "source": [
    "#### You can also format output with f-strings (formatted string literals)."
   ]
  },
  {
   "cell_type": "code",
   "execution_count": null,
   "id": "45d17163",
   "metadata": {
    "slideshow": {
     "slide_type": "slide"
    }
   },
   "outputs": [],
   "source": [
    "number1=10\n",
    "number2=20\n",
    "total=number1+number2\n",
    "diff=abs(number1-number2)\n",
    "print(f\"The Sum of {number1} and,{number2} is {total} and the difference between {number1} and {number2} is {diff}\")"
   ]
  },
  {
   "cell_type": "markdown",
   "id": "2740e30b",
   "metadata": {
    "slideshow": {
     "slide_type": "slide"
    }
   },
   "source": [
    "<h2 class=\"btn btn-block btn-primary\">input() - function</h2>"
   ]
  },
  {
   "cell_type": "markdown",
   "id": "d28bb2b3",
   "metadata": {
    "slideshow": {
     "slide_type": "slide"
    }
   },
   "source": [
    "#### input() function is used to take input from the user.\n",
    "###### Here, the user will see \"Enter your name: \" on the screen and can type their name. Whatever they type will be stored in the name variable."
   ]
  },
  {
   "cell_type": "code",
   "execution_count": null,
   "id": "3856362d",
   "metadata": {
    "slideshow": {
     "slide_type": "slide"
    }
   },
   "outputs": [],
   "source": [
    "name = input(\"Enter your name: \")\n",
    "print('Welcome',name)"
   ]
  },
  {
   "cell_type": "markdown",
   "id": "eee5484f",
   "metadata": {
    "slideshow": {
     "slide_type": "slide"
    }
   },
   "source": [
    "### Get two numbers as input from the user and print the sum of those two numbers"
   ]
  },
  {
   "cell_type": "code",
   "execution_count": null,
   "id": "bf6de09d",
   "metadata": {
    "slideshow": {
     "slide_type": "slide"
    }
   },
   "outputs": [],
   "source": [
    "number1=input(\"Enter the First number: \")\n",
    "number2=input(\"Enter the Second number: \")\n",
    "total=number1+number2\n",
    "print(\"The sum is:\",total)"
   ]
  },
  {
   "cell_type": "markdown",
   "id": "f063fe17",
   "metadata": {
    "slideshow": {
     "slide_type": "slide"
    }
   },
   "source": [
    "###### The above program produces the wrong output \n",
    "###### The input() function reads string by default. When we add two strings (as numbers), it is concatenated\n",
    "### To Solve the issue, We can convert the input as integer using the function int()"
   ]
  },
  {
   "cell_type": "code",
   "execution_count": null,
   "id": "6097e23f",
   "metadata": {
    "slideshow": {
     "slide_type": "slide"
    }
   },
   "outputs": [],
   "source": [
    "number1=int(input(\"Enter the First number: \"))\n",
    "number2=int(input(\"Enter the Second number: \"))\n",
    "total=number1+number2\n",
    "print(\"The sum is:\",total)"
   ]
  },
  {
   "cell_type": "markdown",
   "id": "f0d05d20",
   "metadata": {
    "slideshow": {
     "slide_type": "slide"
    }
   },
   "source": [
    "#### Read the input as float"
   ]
  },
  {
   "cell_type": "code",
   "execution_count": null,
   "id": "86689e1b",
   "metadata": {
    "slideshow": {
     "slide_type": "slide"
    }
   },
   "outputs": [],
   "source": [
    "min_temp=float(input(\"Enter the Minimum Temperature: \"))\n",
    "max_temp=float(input(\"Enter the Maximum Temperature: \"))\n",
    "avg_temp=(min_temp+max_temp)/2\n",
    "print(\"The Average Temperature is:\",avg_temp)"
   ]
  }
 ],
 "metadata": {
  "kernelspec": {
   "display_name": "Python 3 (ipykernel)",
   "language": "python",
   "name": "python3"
  },
  "language_info": {
   "codemirror_mode": {
    "name": "ipython",
    "version": 3
   },
   "file_extension": ".py",
   "mimetype": "text/x-python",
   "name": "python",
   "nbconvert_exporter": "python",
   "pygments_lexer": "ipython3",
   "version": "3.11.5"
  }
 },
 "nbformat": 4,
 "nbformat_minor": 5
}
