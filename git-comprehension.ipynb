{
 "cells": [
  {
   "cell_type": "markdown",
   "id": "56a0547a",
   "metadata": {},
   "source": [
    "Understanding - \" Comprehension coding style in Python\""
   ]
  },
  {
   "cell_type": "code",
   "execution_count": null,
   "id": "6b070166",
   "metadata": {},
   "outputs": [],
   "source": [
    "# Example - Standard Coding Style.\n",
    "\n",
    "values = []\n",
    "for x in range(10):\n",
    "    values.append(x)\n",
    "print (values)\n",
    "    "
   ]
  },
  {
   "cell_type": "code",
   "execution_count": null,
   "id": "124cbacd",
   "metadata": {},
   "outputs": [],
   "source": [
    "# Using Comprehension Coding Style.\n",
    "values = [x for x in range(10)]\n",
    "print(values)"
   ]
  },
  {
   "cell_type": "code",
   "execution_count": null,
   "id": "f4e61f64",
   "metadata": {},
   "outputs": [],
   "source": [
    "# Using Comprehension Coding Style.\n",
    "values = [x+1 for x in range(10)]\n",
    "print(values)"
   ]
  },
  {
   "cell_type": "markdown",
   "id": "d6aa846e",
   "metadata": {},
   "source": [
    "To find even numbers... "
   ]
  },
  {
   "cell_type": "code",
   "execution_count": null,
   "id": "76cc238e",
   "metadata": {},
   "outputs": [],
   "source": [
    "# Even numbers from 0 to 50 - Standard Coding Style.\n",
    "evens = []\n",
    "for number in range(50):\n",
    "    is_even = number%2 == 0\n",
    "    if is_even:\n",
    "        evens.append(number)\n",
    "print(evens)"
   ]
  },
  {
   "cell_type": "code",
   "execution_count": null,
   "id": "ddaa7654",
   "metadata": {},
   "outputs": [],
   "source": [
    "# Even numbers from 0 to 50 - Using Comprehension Coding Style.\n",
    "\n",
    "evens = [number for number in range(50) if number%2 == 0]\n",
    "print(evens)"
   ]
  },
  {
   "cell_type": "markdown",
   "id": "410665de",
   "metadata": {},
   "source": [
    "Finding Strings.... "
   ]
  },
  {
   "cell_type": "code",
   "execution_count": null,
   "id": "6b25c0a4",
   "metadata": {},
   "outputs": [],
   "source": [
    "# Finding Strings - Standard Coding Style.\n",
    "\n",
    "options = [\"any\",\"anny\",\"apple\",\"world\",\"Hello\"]\n",
    "\n",
    "valid_strings = []\n",
    "\n",
    "for string in options:\n",
    "    \n",
    "    if len(string) <= 1:\n",
    "        continue\n",
    "        \n",
    "    if string[0] != \"a\":\n",
    "        continue\n",
    "        \n",
    "    if string[-1] != \"y\":\n",
    "        continue\n",
    "       \n",
    "    valid_strings.append(string)\n",
    "\n",
    "print(valid_strings)"
   ]
  },
  {
   "cell_type": "code",
   "execution_count": null,
   "id": "530b7112",
   "metadata": {},
   "outputs": [],
   "source": [
    "# Finding Strings - Using Comprehension Coding Style.\n",
    "\n",
    "options = [\"any\",\"anny\",\"apple\",\"world\",\"Hello\"]\n",
    "\n",
    "valid_strings = [\n",
    "    string\n",
    "    for string in options\n",
    "    if len(string) >=2\n",
    "    if string[0] == \"a\"\n",
    "    if string[-1]== \"y\"\n",
    "\n",
    "],\n",
    "\n",
    "print(valid_strings)"
   ]
  },
  {
   "cell_type": "markdown",
   "id": "afc12f7c",
   "metadata": {},
   "source": [
    "Squaring numbers from 1 to 5... "
   ]
  },
  {
   "cell_type": "code",
   "execution_count": null,
   "id": "7cb7ab6f",
   "metadata": {},
   "outputs": [],
   "source": [
    "# Squaring numbers from 1 to 5 - Standard Coding Style.\n",
    "\n",
    "squared_nums = []\n",
    "for i in range(1, 6):\n",
    "    squared_nums.append(i**2)\n",
    "print(squared_nums)"
   ]
  },
  {
   "cell_type": "code",
   "execution_count": null,
   "id": "8b1ea48e",
   "metadata": {},
   "outputs": [],
   "source": [
    "# Squaring numbers from 1 to 5 - Using Comprehension Coding Style.\n",
    "\n",
    "squared_nums = [i**2 for i in range(1, 6)]"
   ]
  },
  {
   "cell_type": "markdown",
   "id": "f1f51af3",
   "metadata": {},
   "source": [
    "Filtering even numbers from a list..."
   ]
  },
  {
   "cell_type": "code",
   "execution_count": null,
   "id": "b7dacc76",
   "metadata": {},
   "outputs": [],
   "source": [
    "#Filtering even numbers from a list- Standard Coding Style.\n",
    "\n",
    "even_nums = []\n",
    "for num in [1, 2, 3, 4, 5]:\n",
    "    if num % 2 == 0:\n",
    "        even_nums.append(num)\n",
    "print(even_nums)"
   ]
  },
  {
   "cell_type": "code",
   "execution_count": null,
   "id": "241c9ded",
   "metadata": {},
   "outputs": [],
   "source": [
    "# Filtering even numbers from a list - Using Comprehension Coding Style.\n",
    "\n",
    "even_nums = [num for num in [1, 2, 3, 4, 5] if num % 2 == 0]\n",
    "print(even_nums)"
   ]
  },
  {
   "cell_type": "markdown",
   "id": "1af0d59e",
   "metadata": {},
   "source": [
    "Capitalizing words in a list..."
   ]
  },
  {
   "cell_type": "code",
   "execution_count": null,
   "id": "3599e37d",
   "metadata": {},
   "outputs": [],
   "source": [
    "#Capitalizing words in a list- Standard Coding Style.\n",
    "\n",
    "capitalized_words = []\n",
    "for word in ['apple', 'banana', 'cherry']:\n",
    "    capitalized_words.append(word.capitalize())\n",
    "print(capitalized_words)"
   ]
  },
  {
   "cell_type": "code",
   "execution_count": null,
   "id": "63bc03dc",
   "metadata": {},
   "outputs": [],
   "source": [
    "# Capitalizing words in a list- Using Comprehension Coding Style.\n",
    "\n",
    "capitalized_words = [word.capitalize() for word in ['apple', 'banana', 'cherry']]\n",
    "print(capitalized_words)"
   ]
  },
  {
   "cell_type": "markdown",
   "id": "0b344fbb",
   "metadata": {},
   "source": [
    "Doubling numbers in a list..."
   ]
  },
  {
   "cell_type": "code",
   "execution_count": null,
   "id": "1ca17d50",
   "metadata": {},
   "outputs": [],
   "source": [
    "# Doubling numbers in a list - Standard Coding Style.\n",
    "\n",
    "doubled_nums = []\n",
    "for num in [2, 4, 6, 8, 10]:\n",
    "    doubled_nums.append(num * 2)\n",
    "print(doubled_nums)"
   ]
  },
  {
   "cell_type": "code",
   "execution_count": null,
   "id": "21fbf31a",
   "metadata": {},
   "outputs": [],
   "source": [
    "# Doubling numbers in a list - Using Comprehension Coding Style.\n",
    "\n",
    "doubled_nums = [num * 2 for num in [2, 4, 6, 8, 10]]\n",
    "print(doubled_nums)"
   ]
  },
  {
   "cell_type": "markdown",
   "id": "74ff3860",
   "metadata": {},
   "source": [
    "Extracting vowels from a string..."
   ]
  },
  {
   "cell_type": "code",
   "execution_count": null,
   "id": "70dc8a33",
   "metadata": {},
   "outputs": [],
   "source": [
    "# Extracting vowels from a string - Standard Coding Style.\n",
    "\n",
    "vowels = []\n",
    "for char in 'hello':\n",
    "    if char in 'aeiou':\n",
    "        vowels.append(char)\n",
    "print(vowels)"
   ]
  },
  {
   "cell_type": "code",
   "execution_count": null,
   "id": "44f4aa55",
   "metadata": {},
   "outputs": [],
   "source": [
    "# Extracting vowels from a string - Using Comprehension Coding Style.\n",
    "\n",
    "vowels = [char for char in 'hello' if char in 'aeiou']\n",
    "print(vowels)"
   ]
  },
  {
   "cell_type": "markdown",
   "id": "1d283e67",
   "metadata": {},
   "source": [
    "Generating a List of tuples..."
   ]
  },
  {
   "cell_type": "code",
   "execution_count": null,
   "id": "b93bfafa",
   "metadata": {},
   "outputs": [],
   "source": [
    "# Generating a list of tuples - Standard Coding Style.\n",
    "\n",
    "pairs = []\n",
    "for i in range(3):\n",
    "    for j in range(2):\n",
    "        pairs.append((i, j))\n",
    "print(pairs)"
   ]
  },
  {
   "cell_type": "code",
   "execution_count": null,
   "id": "8226fc8a",
   "metadata": {},
   "outputs": [],
   "source": [
    "# Generating a list of tuples - Using Comprehension Coding Style.\n",
    "\n",
    "pairs = [(i, j) for i in range(3) for j in range(2)]\n",
    "print(pairs)"
   ]
  },
  {
   "cell_type": "markdown",
   "id": "c7fd5e3f",
   "metadata": {},
   "source": [
    "Converting temperatures from Celsius to Fahrenheit..."
   ]
  },
  {
   "cell_type": "code",
   "execution_count": null,
   "id": "f395b4fc",
   "metadata": {},
   "outputs": [],
   "source": [
    "# Converting temperatures from Celsius to Fahrenheit - Standard Coding Style.\n",
    "\n",
    "temps_fahrenheit = []\n",
    "for temp_celsius in [0, 10, 20, 30]:\n",
    "    temps_fahrenheit.append((temp_celsius * 9/5) + 32)\n",
    "print(temps_fahrenheit)"
   ]
  },
  {
   "cell_type": "code",
   "execution_count": null,
   "id": "2e9c2ef6",
   "metadata": {},
   "outputs": [],
   "source": [
    "# Converting temperatures from Celsius to Fahrenheit - Using Comprehension Coding Style.\n",
    "\n",
    "temps_fahrenheit = [(temp_celsius * 9/5) + 32 for temp_celsius in [0, 10, 20, 30]]\n",
    "print(temps_fahrenheit)"
   ]
  },
  {
   "cell_type": "markdown",
   "id": "761108e0",
   "metadata": {},
   "source": [
    "Flattening a List..."
   ]
  },
  {
   "cell_type": "code",
   "execution_count": null,
   "id": "1f941b75",
   "metadata": {},
   "outputs": [],
   "source": [
    "# Flattening a list of lists - Standard Coding Style.\n",
    "\n",
    "flat_list = []\n",
    "for sublist in [[1, 2], [3, 4], [5, 6]]:\n",
    "    for item in sublist:\n",
    "        flat_list.append(item)\n",
    "print(flat_list)"
   ]
  },
  {
   "cell_type": "code",
   "execution_count": null,
   "id": "f0dc612f",
   "metadata": {
    "scrolled": true
   },
   "outputs": [],
   "source": [
    "# Flattening a list of lists - Using Comprehension Coding Style.\n",
    "\n",
    "flat_list = [item for sublist in [[1, 2], [3, 4], [5, 6]] for item in sublist]\n",
    "print(flat_list)"
   ]
  },
  {
   "cell_type": "markdown",
   "id": "2d241a68",
   "metadata": {},
   "source": [
    "Filtering positive numbers from a list..."
   ]
  },
  {
   "cell_type": "code",
   "execution_count": null,
   "id": "e95465ef",
   "metadata": {
    "scrolled": true
   },
   "outputs": [],
   "source": [
    "# Filtering positive numbers from a list - Standard Coding Style.\n",
    "\n",
    "positive_nums = []\n",
    "for num in [-1, 2, -3, 4, -5]:\n",
    "    if num > 0:\n",
    "        positive_nums.append(num)\n",
    "print(positive_nums)"
   ]
  },
  {
   "cell_type": "code",
   "execution_count": null,
   "id": "dc903d21",
   "metadata": {},
   "outputs": [],
   "source": [
    "# Filtering positive numbers from a list - Using Comprehension Coding Style.\n",
    "\n",
    "positive_nums = [num for num in [-1, 2, -3, 4, -5] if num > 0]\n",
    "print(positive_nums)"
   ]
  },
  {
   "cell_type": "markdown",
   "id": "3ecfa4ed",
   "metadata": {},
   "source": [
    "Creating a dictionary from two lists..."
   ]
  },
  {
   "cell_type": "code",
   "execution_count": null,
   "id": "dcdf2766",
   "metadata": {},
   "outputs": [],
   "source": [
    "# Creating a dictionary from two lists - Standard Coding Style:\n",
    "\n",
    "key_values = {}\n",
    "keys = ['a', 'b', 'c']\n",
    "values = [1, 2, 3]\n",
    "for key, value in zip(keys, values):\n",
    "    key_values[key] = value\n",
    "\n",
    "print(key_values)"
   ]
  },
  {
   "cell_type": "code",
   "execution_count": null,
   "id": "b30c44df",
   "metadata": {},
   "outputs": [],
   "source": [
    "# Creating a dictionary from two lists - Using Comprehension Coding Style.\n",
    "\n",
    "key_values = {key: value for key, value in zip(['a', 'b', 'c'], [1, 2, 3])}\n",
    "print(key_values)"
   ]
  }
 ],
 "metadata": {
  "kernelspec": {
   "display_name": "Python 3 (ipykernel)",
   "language": "python",
   "name": "python3"
  },
  "language_info": {
   "codemirror_mode": {
    "name": "ipython",
    "version": 3
   },
   "file_extension": ".py",
   "mimetype": "text/x-python",
   "name": "python",
   "nbconvert_exporter": "python",
   "pygments_lexer": "ipython3",
   "version": "3.11.5"
  }
 },
 "nbformat": 4,
 "nbformat_minor": 5
}
