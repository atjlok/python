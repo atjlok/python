{
 "cells": [
  {
   "cell_type": "markdown",
   "id": "8c04fe55",
   "metadata": {},
   "source": [
    "# Python Introduction\n",
    "\n",
    "\n",
    "> What is Python?\n",
    "\n",
    "   Python is a popular programming language. It was created by Guido van Rossum, and released in 1991.\n",
    "\n",
    "> It is used for:\n",
    "\n",
    "   web development (server-side),\n",
    "\n",
    "   software development,\n",
    "\n",
    "   mathematics,\n",
    "\n",
    "   system scripting."
   ]
  },
  {
   "cell_type": "markdown",
   "id": "fb1f2a6f",
   "metadata": {},
   "source": [
    "> What can Python do?\n",
    "\n",
    "Python can be used on a server to create web applications.\n",
    "\n",
    "Python can be used alongside software to create workflows.\n",
    "\n",
    "Python can connect to database systems. It can also read and modify files.\n",
    "\n",
    "Python can be used to handle big data and perform complex mathematics.\n",
    "\n",
    "Python can be used for rapid prototyping, or for production-ready software development."
   ]
  },
  {
   "cell_type": "markdown",
   "id": "e531470f",
   "metadata": {},
   "source": [
    "> Why Python?\n",
    "\n",
    "Python works on different platforms (Windows, Mac, Linux, Raspberry Pi, etc).\n",
    "\n",
    "Python has a simple syntax similar to the English language.\n",
    "\n",
    "Python has syntax that allows developers to write programs with fewer lines than some other programming languages.\n",
    "\n",
    "Python runs on an interpreter system, meaning that code can be executed as soon as it is written. This means that prototyping can be very quick.\n",
    "\n",
    "Python can be treated in a procedural way, an object-oriented way or a functional way."
   ]
  },
  {
   "cell_type": "markdown",
   "id": "9a01e71f",
   "metadata": {},
   "source": [
    "> Good to know\n",
    "\n",
    "The most recent major version of Python is Python 3.1.12,\n",
    "\n",
    "Python Syntax compared to other programming languages\n",
    "\n",
    "Python was designed for readability, and has some similarities to the English language with influence from mathematics.\n",
    "\n",
    "Python uses new lines to complete a command, as opposed to other programming languages which often use semicolons or parentheses.\n",
    "\n",
    "Python relies on indentation, using whitespace, to define scope; such as the scope of loops, functions and classes. Other programming languages often use curly-brackets for this purpose."
   ]
  },
  {
   "cell_type": "markdown",
   "id": "6c3be08b",
   "metadata": {},
   "source": [
    "> Python Indentation\n",
    "\n",
    "Indentation refers to the spaces at the beginning of a code line.\n",
    "\n",
    "Where in other programming languages the indentation in code is for readability only, the indentation in Python is very important.\n",
    "\n",
    "Python uses indentation to indicate a block of code."
   ]
  },
  {
   "cell_type": "code",
   "execution_count": 3,
   "id": "4df25caf",
   "metadata": {},
   "outputs": [
    {
     "name": "stdout",
     "output_type": "stream",
     "text": [
      "Five is greater than two!\n",
      "This is the next line\n"
     ]
    }
   ],
   "source": [
    "if 5 > 2:\n",
    "    print(\"Five is greater than two!\")\n",
    "    print(\"This is the next line\")"
   ]
  },
  {
   "cell_type": "code",
   "execution_count": 5,
   "id": "f65ecd52",
   "metadata": {},
   "outputs": [
    {
     "name": "stdout",
     "output_type": "stream",
     "text": [
      "Five is greater than two!\n"
     ]
    }
   ],
   "source": [
    "# Python will give you an error if you skip the indentation:\n",
    "\n",
    "# Example / Syntax Error:\n",
    "\n",
    "if 5 > 2:\n",
    " print(\"Five is greater than two!\")"
   ]
  },
  {
   "cell_type": "markdown",
   "id": "bd8a05e5",
   "metadata": {},
   "source": [
    "> The number of spaces is up to you as a programmer, the most common use is four, but it has to be at least one."
   ]
  },
  {
   "cell_type": "code",
   "execution_count": null,
   "id": "50e5a2f8",
   "metadata": {},
   "outputs": [],
   "source": [
    "# Example\n",
    "\n",
    "if 5 > 2:\n",
    " print(\"Five is greater than two!\") \n",
    "if 5 > 2:\n",
    "        print(\"Five is greater than two!\") \n",
    "        "
   ]
  },
  {
   "cell_type": "markdown",
   "id": "e4abce64",
   "metadata": {},
   "source": [
    "       \n",
    "> You have to use the same number of spaces in the same block of code, otherwise Python will give you an error:"
   ]
  },
  {
   "cell_type": "code",
   "execution_count": 9,
   "id": "d366f9c2",
   "metadata": {},
   "outputs": [
    {
     "name": "stdout",
     "output_type": "stream",
     "text": [
      "Five is greater than two!\n",
      "Five is greater than two!\n"
     ]
    }
   ],
   "source": [
    "# Example / Syntax Error:\n",
    "\n",
    "if 5 > 2:\n",
    "     print(\"Five is greater than two!\")\n",
    "        \n",
    "print(\"Five is greater than two!\")"
   ]
  },
  {
   "cell_type": "markdown",
   "id": "9b726e0e",
   "metadata": {},
   "source": [
    ">Python Variables\n",
    "\n",
    "In Python, variables are created when you assign a value to it:\n",
    "\n",
    "Python has no command for declaring a variable."
   ]
  },
  {
   "cell_type": "code",
   "execution_count": 10,
   "id": "03f3084d",
   "metadata": {},
   "outputs": [
    {
     "data": {
      "text/plain": [
       "4"
      ]
     },
     "execution_count": 10,
     "metadata": {},
     "output_type": "execute_result"
    }
   ],
   "source": [
    "2 + 2"
   ]
  },
  {
   "cell_type": "code",
   "execution_count": 11,
   "id": "37a44cb8",
   "metadata": {},
   "outputs": [
    {
     "data": {
      "text/plain": [
       "8"
      ]
     },
     "execution_count": 11,
     "metadata": {},
     "output_type": "execute_result"
    }
   ],
   "source": [
    "_+4"
   ]
  },
  {
   "cell_type": "code",
   "execution_count": 17,
   "id": "3cf6c25f",
   "metadata": {},
   "outputs": [
    {
     "name": "stdout",
     "output_type": "stream",
     "text": [
      "5a\n",
      "Hello, World!\n"
     ]
    }
   ],
   "source": [
    "# Example / Variables in Python:\n",
    "\n",
    "x = \"5a\"\n",
    "y = \"Hello, World!\"\n",
    "\n",
    "print(x)\n",
    "print(y)"
   ]
  },
  {
   "cell_type": "markdown",
   "id": "1ac17bef",
   "metadata": {},
   "source": [
    "#  Comments\n",
    "\n",
    "Python has commenting capability for the purpose of in-code documentation.\n",
    "\n",
    "Comments start with a #, and Python will render the rest of the line as a comment:"
   ]
  },
  {
   "cell_type": "code",
   "execution_count": null,
   "id": "4dba93de",
   "metadata": {},
   "outputs": [],
   "source": [
    "# Example : Comments in Python:\n",
    "# This is a comment statement.\n",
    "\n",
    "print(\"Hello, World!\") # This will print hello world"
   ]
  },
  {
   "cell_type": "markdown",
   "id": "31b37b51",
   "metadata": {},
   "source": [
    "# Python Comments\n",
    "\n",
    "Comments can be used to explain Python code.\n",
    "\n",
    "Comments can be used to make the code more readable.\n",
    "\n",
    "Comments can be used to prevent execution when testing code."
   ]
  },
  {
   "cell_type": "markdown",
   "id": "6b10e0f3",
   "metadata": {},
   "source": [
    "# Creating a Comment\n",
    "\n",
    "Comments starts with a #, and Python will ignore them:"
   ]
  },
  {
   "cell_type": "markdown",
   "id": "938af854",
   "metadata": {},
   "source": [
    "> Comments can be placed at the end of a line, and Python will ignore the rest of the line:"
   ]
  },
  {
   "cell_type": "code",
   "execution_count": null,
   "id": "3ecb7118",
   "metadata": {},
   "outputs": [],
   "source": [
    "# Example\n",
    "print(\"Hello, World!\") #This is a comment"
   ]
  },
  {
   "cell_type": "markdown",
   "id": "9260f1cc",
   "metadata": {},
   "source": [
    "> A comment does not have to be text that explains the code, it can also be used to prevent Python from executing code:"
   ]
  },
  {
   "cell_type": "code",
   "execution_count": null,
   "id": "af00e43c",
   "metadata": {},
   "outputs": [],
   "source": [
    "# Example\n",
    "# print(\"Hello, World!\")\n",
    "print(\"Cheers, Mate!\")"
   ]
  },
  {
   "cell_type": "markdown",
   "id": "81008a2c",
   "metadata": {},
   "source": [
    ">Multiline Comments\n",
    "\n",
    "Python does not really have a syntax for multiline comments."
   ]
  },
  {
   "cell_type": "markdown",
   "id": "d78aae5f",
   "metadata": {},
   "source": [
    ">To add a multiline comment you could insert a # for each line:"
   ]
  },
  {
   "cell_type": "code",
   "execution_count": null,
   "id": "7dbc4758",
   "metadata": {},
   "outputs": [],
   "source": [
    "# Example\n",
    "# This is a comment\n",
    "# written in\n",
    "# more than just one line\n",
    "print(\"Hello, World!\")"
   ]
  },
  {
   "cell_type": "markdown",
   "id": "020548af",
   "metadata": {},
   "source": [
    ">Or, not quite as intended, you can use a multiline string."
   ]
  },
  {
   "cell_type": "markdown",
   "id": "2e646c11",
   "metadata": {},
   "source": [
    ">Since Python will ignore string literals that are not assigned to a variable, you can add a multiline string (triple quotes) in your code, and place your comment inside it:"
   ]
  },
  {
   "cell_type": "code",
   "execution_count": null,
   "id": "5a7821d7",
   "metadata": {},
   "outputs": [],
   "source": [
    "# Example\n",
    "\"\"\"\n",
    "This is a comment\n",
    "written in\n",
    "more than just one line\n",
    "\"\"\"\n",
    "print(\"Hello, World!\")"
   ]
  },
  {
   "cell_type": "markdown",
   "id": "ec1de222",
   "metadata": {},
   "source": [
    "> As long as the string is not assigned to a variable, Python will read the code, but then ignore it, and you have made a multiline comment."
   ]
  },
  {
   "cell_type": "markdown",
   "id": "d2554d28",
   "metadata": {},
   "source": [
    "# Python Variables\n",
    "\n",
    "Variables are containers for storing data values."
   ]
  },
  {
   "cell_type": "markdown",
   "id": "85ce282c",
   "metadata": {},
   "source": [
    "# Creating Variables\n",
    "\n",
    "Python has no command for declaring a variable.\n",
    "\n",
    "A variable is created the moment you first assign a value to it."
   ]
  },
  {
   "cell_type": "code",
   "execution_count": 19,
   "id": "58318ea1",
   "metadata": {},
   "outputs": [
    {
     "name": "stdout",
     "output_type": "stream",
     "text": [
      "5\n",
      "John\n"
     ]
    }
   ],
   "source": [
    "# Example \n",
    "\n",
    "x = 5\n",
    "y = \"John\"\n",
    "\n",
    "print(x)\n",
    "print(y)"
   ]
  },
  {
   "cell_type": "markdown",
   "id": "8e134bf9",
   "metadata": {},
   "source": [
    "> Variables do not need to be declared with any particular type, and can even change type after they have been set."
   ]
  },
  {
   "cell_type": "code",
   "execution_count": 21,
   "id": "0ff0c8af",
   "metadata": {},
   "outputs": [
    {
     "name": "stdout",
     "output_type": "stream",
     "text": [
      "4\n"
     ]
    }
   ],
   "source": [
    "# Example\n",
    "\n",
    "x = 4       # x is of type int\n",
    "\n",
    "x = \"Sally\" # x is now of type str\n",
    "\n",
    "print(X)"
   ]
  },
  {
   "cell_type": "markdown",
   "id": "9f8a4c86",
   "metadata": {},
   "source": [
    "# Casting\n",
    "\n",
    "If you want to specify the data type of a variable, this can be done with casting."
   ]
  },
  {
   "cell_type": "code",
   "execution_count": null,
   "id": "d590ff56",
   "metadata": {},
   "outputs": [],
   "source": [
    "# Example\n",
    "\n",
    "x = str(3)    # x will be '3'\n",
    "\n",
    "y = int(3)    # y will be 3\n",
    "\n",
    "z = float(3)  # z will be 3.0"
   ]
  },
  {
   "cell_type": "markdown",
   "id": "dba8d08a",
   "metadata": {},
   "source": [
    "#  Get the Type\n",
    "\n",
    "You can get the data type of a variable with the type() function."
   ]
  },
  {
   "cell_type": "code",
   "execution_count": 22,
   "id": "f8843ce8",
   "metadata": {},
   "outputs": [
    {
     "name": "stdout",
     "output_type": "stream",
     "text": [
      "<class 'int'>\n",
      "<class 'str'>\n"
     ]
    }
   ],
   "source": [
    "# Example\n",
    "\n",
    "x = 5\n",
    "\n",
    "y = \"John\"\n",
    "\n",
    "print(type(x))\n",
    "\n",
    "print(type(y))"
   ]
  },
  {
   "cell_type": "markdown",
   "id": "174e3c07",
   "metadata": {},
   "source": [
    "# Single or Double Quotes?\n",
    "\n",
    "String variables can be declared either by using single or double quotes:"
   ]
  },
  {
   "cell_type": "code",
   "execution_count": null,
   "id": "1c8c5c36",
   "metadata": {},
   "outputs": [],
   "source": [
    "# Example\n",
    "\n",
    "x = \"John\"\n",
    "\n",
    "# is the same as\n",
    "\n",
    "x = 'John'"
   ]
  },
  {
   "cell_type": "markdown",
   "id": "5a6d3b84",
   "metadata": {},
   "source": [
    "# Case-Sensitive\n",
    "\n",
    "Variable names are case-sensitive."
   ]
  },
  {
   "cell_type": "code",
   "execution_count": null,
   "id": "de45d73d",
   "metadata": {},
   "outputs": [],
   "source": [
    "# Example / This will create two variables:\n",
    "\n",
    "a = 4\n",
    "A = \"Sally\"\n",
    "\n",
    "# A will not overwrite a"
   ]
  },
  {
   "cell_type": "markdown",
   "id": "7713e5ea",
   "metadata": {},
   "source": [
    "# Python - Variable Names"
   ]
  },
  {
   "cell_type": "markdown",
   "id": "8c82224d",
   "metadata": {},
   "source": [
    "# Variable Names\n",
    "\n",
    "A variable can have a short name (like x and y) or a more descriptive name (age, carname, total_volume). "
   ]
  },
  {
   "cell_type": "markdown",
   "id": "490b9e3b",
   "metadata": {},
   "source": [
    "# Rules for Python variables:\n",
    "\n",
    "A variable name must start with a letter or the underscore character\n",
    "\n",
    "A variable name cannot start with a number\n",
    "\n",
    "A variable name can only contain alpha-numeric characters and underscores (A-z, 0-9, and _ )\n",
    "\n",
    "Variable names are case-sensitive (age, Age and AGE are three different variables)\n",
    "\n",
    "A variable name cannot be any of the Python keywords."
   ]
  },
  {
   "cell_type": "code",
   "execution_count": 15,
   "id": "a9a1d0a4",
   "metadata": {},
   "outputs": [],
   "source": [
    "# Example \n",
    "\n",
    "# Legal variable names:\n",
    "\n",
    "myvar = \"John\"\n",
    "my_var = \"John\"\n",
    "_my_var = \"John\"\n",
    "myVar = \"John\"\n",
    "MYVAR = \"John\"\n",
    "myvar2 = \"John\""
   ]
  },
  {
   "cell_type": "code",
   "execution_count": null,
   "id": "ef5fd818",
   "metadata": {},
   "outputs": [],
   "source": [
    "# Example\n",
    "# Illegal variable names:\n",
    "\n",
    "2myvar = \"John\"\n",
    "my-var = \"John\"\n",
    "my var = \"John\"\n",
    "\n",
    "# Remember that variable names are case-sensitive"
   ]
  },
  {
   "cell_type": "markdown",
   "id": "5edca2df",
   "metadata": {},
   "source": [
    "# Multi Words Variable Names\n",
    "\n",
    "Variable names with more than one word can be difficult to read.\n",
    "\n",
    "There are several techniques you can use to make them more readable:"
   ]
  },
  {
   "cell_type": "markdown",
   "id": "f06adb60",
   "metadata": {},
   "source": [
    "# Camel Case\n",
    "\n",
    "Each word, except the first, starts with a capital letter:"
   ]
  },
  {
   "cell_type": "code",
   "execution_count": 11,
   "id": "93b63385",
   "metadata": {},
   "outputs": [],
   "source": [
    "myVariableName = \"John\""
   ]
  },
  {
   "cell_type": "markdown",
   "id": "f4da1840",
   "metadata": {},
   "source": [
    "# Pascal Case\n",
    "Each word starts with a capital letter:"
   ]
  },
  {
   "cell_type": "code",
   "execution_count": 12,
   "id": "d1771ab9",
   "metadata": {},
   "outputs": [],
   "source": [
    "MyVariableName = \"John\""
   ]
  },
  {
   "cell_type": "markdown",
   "id": "acc4f604",
   "metadata": {},
   "source": [
    "# Snake Case\n",
    "Each word is separated by an underscore character:"
   ]
  },
  {
   "cell_type": "code",
   "execution_count": 13,
   "id": "f5105116",
   "metadata": {},
   "outputs": [],
   "source": [
    "my_variable_name = \"John\""
   ]
  },
  {
   "cell_type": "markdown",
   "id": "de5a1e64",
   "metadata": {},
   "source": [
    "# Python Variables - Assign Multiple Values\n",
    "\n",
    "Many Values to Multiple Variables"
   ]
  },
  {
   "cell_type": "markdown",
   "id": "63679d8b",
   "metadata": {},
   "source": [
    "> Python allows you to assign values to multiple variables in one line:"
   ]
  },
  {
   "cell_type": "code",
   "execution_count": 23,
   "id": "34fb7f86",
   "metadata": {},
   "outputs": [
    {
     "name": "stdout",
     "output_type": "stream",
     "text": [
      "Orange\n",
      "Banana\n",
      "Cherry\n"
     ]
    }
   ],
   "source": [
    "# Example\n",
    "\n",
    "x, y, z = \"Orange\", \"Banana\", \"Cherry\"\n",
    "print(x)\n",
    "print(y)\n",
    "print(z)"
   ]
  },
  {
   "cell_type": "markdown",
   "id": "31515e4e",
   "metadata": {},
   "source": [
    "> Note: Make sure the number of variables matches the number of values, or else you will get an error."
   ]
  },
  {
   "cell_type": "markdown",
   "id": "efc6cbe4",
   "metadata": {},
   "source": [
    "# One Value to Multiple Variables\n",
    "\n",
    "And you can assign the same value to multiple variables in one line:"
   ]
  },
  {
   "cell_type": "code",
   "execution_count": 24,
   "id": "58ec101f",
   "metadata": {},
   "outputs": [
    {
     "name": "stdout",
     "output_type": "stream",
     "text": [
      "Orange\n",
      "Orange\n",
      "Orange\n"
     ]
    }
   ],
   "source": [
    "# Example\n",
    "\n",
    "x = y = z = \"Orange\"\n",
    "print(x)\n",
    "print(y)\n",
    "print(z)"
   ]
  },
  {
   "cell_type": "markdown",
   "id": "066be1fa",
   "metadata": {},
   "source": [
    "# Unpack a Collection\n",
    "\n",
    "If you have a collection of values in a list, tuple etc. \n",
    "\n",
    "Python allows you to extract the values into variables. This is called unpacking."
   ]
  },
  {
   "cell_type": "code",
   "execution_count": 25,
   "id": "4ea51082",
   "metadata": {},
   "outputs": [
    {
     "name": "stdout",
     "output_type": "stream",
     "text": [
      "apple\n",
      "banana\n",
      "cherry\n"
     ]
    }
   ],
   "source": [
    "# Example\n",
    "\n",
    "#Unpack a list:\n",
    "\n",
    "fruits = [\"apple\", \"banana\", \"cherry\"]\n",
    "x, y, z = fruits\n",
    "print(x)\n",
    "print(y)\n",
    "print(z)"
   ]
  },
  {
   "cell_type": "markdown",
   "id": "95febe62",
   "metadata": {},
   "source": [
    "# Python - Output Variables\n",
    "\n",
    "Output Variables\n",
    "The Python print() function is often used to output variables."
   ]
  },
  {
   "cell_type": "code",
   "execution_count": 26,
   "id": "da18da19",
   "metadata": {},
   "outputs": [
    {
     "name": "stdout",
     "output_type": "stream",
     "text": [
      "Python is awesome\n"
     ]
    }
   ],
   "source": [
    "# Example\n",
    "x = \"Python is awesome\"\n",
    "print(x)"
   ]
  },
  {
   "cell_type": "markdown",
   "id": "a20f3dad",
   "metadata": {},
   "source": [
    "> In the print() function, you output multiple variables, separated by a comma:"
   ]
  },
  {
   "cell_type": "code",
   "execution_count": 28,
   "id": "81c49140",
   "metadata": {},
   "outputs": [
    {
     "name": "stdout",
     "output_type": "stream",
     "text": [
      "Python is the future\n"
     ]
    }
   ],
   "source": [
    "# Example\n",
    "\n",
    "x = \"Python\"\n",
    "y = \"is\"\n",
    "z = \"the future\"\n",
    "\n",
    "print(x,y,z)"
   ]
  },
  {
   "cell_type": "markdown",
   "id": "b1e1e496",
   "metadata": {},
   "source": [
    "> You can also use the + operator to output multiple variables:"
   ]
  },
  {
   "cell_type": "code",
   "execution_count": null,
   "id": "5ae5183a",
   "metadata": {},
   "outputs": [],
   "source": [
    "# Example\n",
    "x = \"Python \"\n",
    "y = \"is \"\n",
    "z = \"awesome\"\n",
    "print(x + y + z)"
   ]
  },
  {
   "cell_type": "markdown",
   "id": "58420500",
   "metadata": {},
   "source": [
    "> Notice the space character after \"Python \" and \"is \", without them the result would be \"Pythonisawesome\"."
   ]
  },
  {
   "cell_type": "code",
   "execution_count": null,
   "id": "f0981bff",
   "metadata": {},
   "outputs": [],
   "source": [
    "> For numbers, the + character works as a mathematical operator:"
   ]
  },
  {
   "cell_type": "code",
   "execution_count": null,
   "id": "1d24a06a",
   "metadata": {},
   "outputs": [],
   "source": [
    "# Example\n",
    "x = 5\n",
    "y = 10\n",
    "print(x + y)"
   ]
  },
  {
   "cell_type": "markdown",
   "id": "f8c0480c",
   "metadata": {},
   "source": [
    "> In the print() function, when you try to combine a string and a number with the + operator, Python will give you an error:"
   ]
  },
  {
   "cell_type": "code",
   "execution_count": null,
   "id": "4e7fb363",
   "metadata": {},
   "outputs": [],
   "source": [
    "# Example\n",
    "x = 5\n",
    "y = \"John\"\n",
    "print(x + y)"
   ]
  },
  {
   "cell_type": "markdown",
   "id": "6cd78e09",
   "metadata": {},
   "source": [
    "> The best way to output multiple variables in the print() function is to separate them with commas, which even support different data types:"
   ]
  },
  {
   "cell_type": "code",
   "execution_count": null,
   "id": "f9fd8e67",
   "metadata": {},
   "outputs": [],
   "source": [
    "# Example\n",
    "x = 5\n",
    "y = \"John\"\n",
    "print(x, y)"
   ]
  },
  {
   "cell_type": "markdown",
   "id": "14396db6",
   "metadata": {},
   "source": [
    "# Python - Global Variables\n",
    "\n",
    "Global Variables\n",
    "\n",
    "Variables that are created outside of a function (as in all of the examples above) are known as global variables.\n",
    "\n",
    "Global variables can be used by everyone, both inside of functions and outside."
   ]
  },
  {
   "cell_type": "code",
   "execution_count": 20,
   "id": "ee6fdfe2",
   "metadata": {},
   "outputs": [
    {
     "name": "stdout",
     "output_type": "stream",
     "text": [
      "Python is the future\n"
     ]
    }
   ],
   "source": [
    "# Example\n",
    "# Create a variable outside of a function, and use it inside the function\n",
    "\n",
    "x = \"the future\"\n",
    "\n",
    "def myfunc():\n",
    "  print(\"Python is \" + x)\n",
    "\n",
    "myfunc()"
   ]
  },
  {
   "cell_type": "markdown",
   "id": "729d7510",
   "metadata": {},
   "source": [
    "> If you create a variable with the same name inside a function, this variable will be local, and can only be used inside the function. The global variable with the same name will remain as it was, global and with the original value."
   ]
  },
  {
   "cell_type": "code",
   "execution_count": 21,
   "id": "07b9eeb3",
   "metadata": {},
   "outputs": [
    {
     "name": "stdout",
     "output_type": "stream",
     "text": [
      "Python is fantastic\n",
      "Python is the future\n"
     ]
    }
   ],
   "source": [
    "# Example\n",
    "\n",
    "# Create a variable inside a function, with the same name as the global variable\n",
    "\n",
    "x = \"the future\"\n",
    "\n",
    "def myfunc():\n",
    "  x = \"fantastic\"\n",
    "  print(\"Python is \" + x)\n",
    "\n",
    "myfunc()\n",
    "\n",
    "print(\"Python is \" + x)"
   ]
  },
  {
   "cell_type": "markdown",
   "id": "9bf33226",
   "metadata": {},
   "source": [
    "# The global Keyword\n",
    "\n",
    "Normally, when you create a variable inside a function, that variable is local, and can only be used inside that function.\n",
    "\n",
    "To create a global variable inside a function, you can use the global keyword."
   ]
  },
  {
   "cell_type": "code",
   "execution_count": 22,
   "id": "0d2e50e6",
   "metadata": {},
   "outputs": [
    {
     "name": "stdout",
     "output_type": "stream",
     "text": [
      "Python is the future\n"
     ]
    }
   ],
   "source": [
    "# Example\n",
    "# If you use the global keyword, the variable belongs to the global scope:\n",
    "\n",
    "def myfunc():\n",
    "  global x\n",
    "  x = \"the future\"\n",
    "\n",
    "myfunc()\n",
    "\n",
    "print(\"Python is \" + x)"
   ]
  },
  {
   "cell_type": "markdown",
   "id": "d2c3565e",
   "metadata": {},
   "source": [
    "> Also, use the global keyword if you want to change a global variable inside a function."
   ]
  },
  {
   "cell_type": "code",
   "execution_count": 30,
   "id": "1633e827",
   "metadata": {},
   "outputs": [
    {
     "name": "stdout",
     "output_type": "stream",
     "text": [
      "Python is fantastic\n"
     ]
    }
   ],
   "source": [
    "# Example\n",
    "# To change the value of a global variable inside a function, refer to the variable by using the global keyword:\n",
    "\n",
    "\n",
    "x = \"the future\"\n",
    "\n",
    "def myfunc():\n",
    "  global x\n",
    "  x = \"fantastic\"\n",
    "\n",
    "myfunc()\n",
    "\n",
    "print(\"Python is \" + x)\n"
   ]
  },
  {
   "cell_type": "code",
   "execution_count": null,
   "id": "7a106134",
   "metadata": {},
   "outputs": [],
   "source": []
  }
 ],
 "metadata": {
  "kernelspec": {
   "display_name": "Python 3 (ipykernel)",
   "language": "python",
   "name": "python3"
  },
  "language_info": {
   "codemirror_mode": {
    "name": "ipython",
    "version": 3
   },
   "file_extension": ".py",
   "mimetype": "text/x-python",
   "name": "python",
   "nbconvert_exporter": "python",
   "pygments_lexer": "ipython3",
   "version": "3.11.5"
  }
 },
 "nbformat": 4,
 "nbformat_minor": 5
}
