{
 "cells": [
  {
   "cell_type": "code",
   "execution_count": null,
   "metadata": {},
   "outputs": [],
   "source": [
    "from IPython.display import display, Javascript\n",
    "\n",
    "# URL to your custom.js file in the GitHub repository\n",
    "custom_js_url = \"https://raw.githubusercontent.com/atjlok/python/91dbeac3574c0dcca28339b6dc5f01478b09984b/custom.js\"\n",
    "\n",
    "# Inject the custom JavaScript into the notebook\n",
    "display(Javascript(f'''\n",
    "    $.getScript(\"{custom_js_url}\");\n",
    "'''))"
   ]
  },
  {
   "cell_type": "markdown",
   "metadata": {},
   "source": [
    "### Working with CSV Files in Python\n",
    "\n",
    "# Introduction\n",
    "This notebook provides a comprehensive guide on how to work with CSV files in Python. We'll cover the following operations:\n",
    "\n",
    "1. Reading a CSV file\n",
    "2. Reading CSV files into a dictionary with `csv`\n",
    "3. Writing to a CSV file\n",
    "4. Writing a dictionary to a CSV file\n",
    "5. Reading CSV files with Pandas\n",
    "6. Writing CSV files with Pandas\n",
    "7. Storing email data in a CSV file\n",
    "\n",
    "Each operation will include Python code snippets and detailed explanations."
   ]
  },
  {
   "cell_type": "markdown",
   "metadata": {},
   "source": [
    "# 1. Reading a CSV File"
   ]
  },
  {
   "cell_type": "code",
   "execution_count": null,
   "metadata": {},
   "outputs": [],
   "source": [
    "import csv\n",
    "\n",
    "# Creating a sample CSV file with Indian context\n",
    "data = [\n",
    "    [\"Name\", \"Age\", \"City\", \"Occupation\"],\n",
    "    [\"Amit\", 29, \"Delhi\", \"Engineer\"],\n",
    "    [\"Priya\", 34, \"Mumbai\", \"Doctor\"],\n",
    "    [\"Raj\", 42, \"Chennai\", \"Teacher\"],\n",
    "    [\"Sita\", 25, \"Kolkata\", \"Artist\"]\n",
    "]\n",
    "\n",
    "with open(\"data.csv\", \"w\", newline=\"\") as file:\n",
    "    writer = csv.writer(file)\n",
    "    writer.writerows(data)\n",
    "print(\"CSV file 'data.csv' created.\")"
   ]
  },
  {
   "cell_type": "markdown",
   "metadata": {},
   "source": [
    "### Reading the CSV file:"
   ]
  },
  {
   "cell_type": "code",
   "execution_count": null,
   "metadata": {},
   "outputs": [],
   "source": [
    "with open(\"data.csv\", \"r\") as file:\n",
    "    reader = csv.reader(file)\n",
    "    for row in reader:\n",
    "        print(row)"
   ]
  }
 ],
 "metadata": {
  "kernelspec": {
   "display_name": "Python 3 (ipykernel)",
   "language": "python",
   "name": "python3"
  },
  "language_info": {
   "codemirror_mode": {
    "name": "ipython",
    "version": 3
   },
   "file_extension": ".py",
   "mimetype": "text/x-python",
   "name": "python",
   "nbconvert_exporter": "python",
   "pygments_lexer": "ipython3",
   "version": "3.11.5"
  }
 },
 "nbformat": 4,
 "nbformat_minor": 4
}
