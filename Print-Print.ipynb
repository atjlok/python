{
 "cells": [
  {
   "cell_type": "markdown",
   "id": "fd978257",
   "metadata": {
    "hide_input": false,
    "slideshow": {
     "slide_type": "slide"
    }
   },
   "source": [
    "```python\n",
    "\n",
    "The print() function in Python is used to output text and other types of data to the console.\n",
    "\n",
    " -- It’s very versatile, and there are multiple ways to customize its behavior to suit different needs.\n",
    "\n",
    " -- This is a comprehensive guide to using print() with various methods, with relevant code examples.\n",
    "```"
   ]
  },
  {
   "cell_type": "markdown",
   "id": "f3e112dc",
   "metadata": {
    "slideshow": {
     "slide_type": "slide"
    }
   },
   "source": [
    "# Topics Covered\n",
    "    . Basic Printing\n",
    "    . sep Parameter for custom separators.\n",
    "    . end Parameter for ending without a newline\n",
    "    . Multi-line with \\n\n",
    "    . f-strings for formatted strings\n",
    "    . format() Method for formatting\n",
    "    . Named Placeholders with format()\n",
    "    . Unicode and Non-English Characters\n",
    "    . Printing Lists and Dictionaries\n",
    "    . Without Newline (end='')\n",
    "    . File Redirection\n",
    "    . Flush Parameter (flush=True)\n",
    "    . Currency Formatting with f-strings\n",
    "    . Emoji Printing\n",
    "    . Using repr() and str() with print()"
   ]
  },
  {
   "cell_type": "markdown",
   "id": "d8d3c4bb",
   "metadata": {
    "slideshow": {
     "slide_type": "slide"
    }
   },
   "source": [
    "```python\n",
    "Basic Syntax of print()\n",
    "\n",
    "The basic syntax for the print() function in Python is:\n",
    "\n",
    "print(object(s), sep=' ', end='\\n', file=sys.stdout, flush=False)\n",
    "\n",
    "    object(s): The values to be printed.\n",
    "\n",
    "    sep: Defines the separator between the objects if multiple objects are passed. Default is a space ' '.\n",
    "\n",
    "    end: Specifies what to print at the end of the output. Default is a newline \\n.\n",
    "\n",
    "    file: Specifies the file or stream to print to. Default is sys.stdout.\n",
    "\n",
    "    flush: If True, the output buffer is flushed (useful for debugging).\n",
    "```\n"
   ]
  },
  {
   "cell_type": "markdown",
   "id": "02ed3dfb",
   "metadata": {
    "slideshow": {
     "slide_type": "slide"
    }
   },
   "source": [
    "```python\n",
    "Printing Strings and Numbers\n",
    "\n",
    "In Python, you can print any data type by passing it as an argument to print().\n",
    "```"
   ]
  },
  {
   "cell_type": "markdown",
   "id": "c6c38fcc",
   "metadata": {
    "slideshow": {
     "slide_type": "slide"
    }
   },
   "source": [
    "```python\n",
    "name = \"Amit\"\n",
    "age = 25\n",
    "city = \"Mumbai\"\n",
    "\n",
    "print(\"Name:\", name)\n",
    "print(\"Age:\", age)\n",
    "print(\"City:\", city)\n",
    "```"
   ]
  },
  {
   "cell_type": "markdown",
   "id": "7169b145",
   "metadata": {
    "slideshow": {
     "slide_type": "slide"
    }
   },
   "source": [
    "```python\n",
    "Using sep Parameter\n",
    "\n",
    "The sep parameter allows us to define a custom separator between multiple objects.\n",
    "```"
   ]
  },
  {
   "cell_type": "code",
   "execution_count": null,
   "id": "825dadbd",
   "metadata": {
    "slideshow": {
     "slide_type": "slide"
    }
   },
   "outputs": [],
   "source": [
    "aadhar = 1234\n",
    "pan = \"ABCDE1234F\"\n",
    "\n",
    "print(\"Aadhar Number:\", aadhar, \"PAN:\", pan, sep=\" | \")"
   ]
  },
  {
   "cell_type": "markdown",
   "id": "e91a3f5f",
   "metadata": {
    "slideshow": {
     "slide_type": "slide"
    }
   },
   "source": [
    "```python\n",
    "Using end Parameter\n",
    "The end parameter lets you control what is printed at the end of the statement instead of the default newline.\n",
    "```"
   ]
  },
  {
   "cell_type": "code",
   "execution_count": null,
   "id": "43336ed9",
   "metadata": {
    "slideshow": {
     "slide_type": "slide"
    }
   },
   "outputs": [],
   "source": [
    "print(\"Welcome to\", end=\" \")\n",
    "print(\"Delhi Tourism!\")"
   ]
  },
  {
   "cell_type": "markdown",
   "id": "5f8d2272",
   "metadata": {
    "slideshow": {
     "slide_type": "slide"
    }
   },
   "source": [
    "```python\n",
    "Multi-line Printing with \\n\n",
    "Using \\n in strings creates line breaks within a single print statement.\n",
    "```"
   ]
  },
  {
   "cell_type": "code",
   "execution_count": null,
   "id": "1de86973",
   "metadata": {
    "slideshow": {
     "slide_type": "slide"
    }
   },
   "outputs": [],
   "source": [
    "print(\"Hello, Rajesh\\nWelcome to Bengaluru\\nHope you enjoy your stay!\")"
   ]
  },
  {
   "cell_type": "markdown",
   "id": "ffec20ba",
   "metadata": {
    "slideshow": {
     "slide_type": "slide"
    }
   },
   "source": [
    "```python \n",
    "Formatted String Literals (f-strings)\n",
    "Python’s f-strings make it easy to format and include variables in strings.\n",
    "```"
   ]
  },
  {
   "cell_type": "code",
   "execution_count": null,
   "id": "a21c06bd",
   "metadata": {
    "slideshow": {
     "slide_type": "slide"
    }
   },
   "outputs": [],
   "source": [
    "name = \"Priya\"\n",
    "city = \"Kolkata\"\n",
    "print(f\"Hello, {name} from {city}!\")"
   ]
  },
  {
   "cell_type": "markdown",
   "id": "0479cdaa",
   "metadata": {
    "slideshow": {
     "slide_type": "slide"
    }
   },
   "source": [
    "```python\n",
    "Using format() Method\n",
    "The format() method provides another way to format strings by placing placeholders {} in the string and supplying values to them.\n",
    "```"
   ]
  },
  {
   "cell_type": "code",
   "execution_count": null,
   "id": "70ea9b3b",
   "metadata": {
    "slideshow": {
     "slide_type": "slide"
    }
   },
   "outputs": [],
   "source": [
    "student = \"Aakash\"\n",
    "subject = \"Mathematics\"\n",
    "marks = 95\n",
    "print(\"Student: {}, Subject: {}, Marks: {}\".format(student, subject, marks))"
   ]
  },
  {
   "cell_type": "markdown",
   "id": "a3eedc3c",
   "metadata": {
    "slideshow": {
     "slide_type": "slide"
    }
   },
   "source": [
    "```python\n",
    "Printing with Named Placeholders in format()\n",
    "You can use named placeholders inside format() for clarity and readability.\n",
    "```"
   ]
  },
  {
   "cell_type": "code",
   "execution_count": null,
   "id": "db772f44",
   "metadata": {
    "slideshow": {
     "slide_type": "slide"
    }
   },
   "outputs": [],
   "source": [
    "print(\"Employee: {name}, City: {city}, Position: {position}\".format(name=\"Sneha\", city=\"Hyderabad\", position=\"Manager\"))"
   ]
  },
  {
   "cell_type": "markdown",
   "id": "c649e937",
   "metadata": {
    "slideshow": {
     "slide_type": "slide"
    }
   },
   "source": [
    "```python\n",
    "Printing Unicode Characters\n",
    "Python can handle Unicode characters, making it possible to print symbols or characters from various languages, including Hindi.\n",
    "```"
   ]
  },
  {
   "cell_type": "code",
   "execution_count": null,
   "id": "01d22fc2",
   "metadata": {
    "slideshow": {
     "slide_type": "slide"
    }
   },
   "outputs": [],
   "source": [
    "print(\"भारत में आपका स्वागत है!\")\n",
    "print(\"जय हिंद!\")"
   ]
  },
  {
   "cell_type": "markdown",
   "id": "87a5fa79",
   "metadata": {
    "slideshow": {
     "slide_type": "slide"
    }
   },
   "source": [
    "```python\n",
    "Printing Lists and Dictionaries\n",
    "Printing lists and dictionaries directly outputs their structure in the console.\n",
    "```"
   ]
  },
  {
   "cell_type": "code",
   "execution_count": null,
   "id": "bc387b6b",
   "metadata": {
    "slideshow": {
     "slide_type": "slide"
    }
   },
   "outputs": [],
   "source": [
    "cities = [\"Delhi\", \"Mumbai\", \"Chennai\", \"Bangalore\"]\n",
    "student_info = {\"Name\": \"Saurabh\", \"Class\": 10, \"School\": \"Delhi Public School\"}\n",
    "print(\"Cities:\", cities)\n",
    "print(\"Student Information:\", student_info)"
   ]
  },
  {
   "cell_type": "markdown",
   "id": "de143fd2",
   "metadata": {
    "slideshow": {
     "slide_type": "slide"
    }
   },
   "source": [
    "```python \n",
    "Printing Without a Newline (end='')\n",
    "This can be useful in cases where you want to keep printing on the same line.\n",
    "```"
   ]
  },
  {
   "cell_type": "code",
   "execution_count": null,
   "id": "5f335127",
   "metadata": {
    "slideshow": {
     "slide_type": "slide"
    }
   },
   "outputs": [],
   "source": [
    "print(\"Loading\", end=\"\")\n",
    "for _ in range(3):\n",
    "    print(\".\", end=\"\")"
   ]
  },
  {
   "cell_type": "markdown",
   "id": "de5b8fce",
   "metadata": {
    "slideshow": {
     "slide_type": "slide"
    }
   },
   "source": [
    "```python \n",
    "Redirecting print() Output to a File\n",
    "The file parameter can be used to redirect the output to a file instead of the console.\n",
    "```"
   ]
  },
  {
   "cell_type": "code",
   "execution_count": null,
   "id": "7cd5dc7b",
   "metadata": {
    "slideshow": {
     "slide_type": "slide"
    }
   },
   "outputs": [],
   "source": [
    "with open(\"output.txt\", \"w\") as f:\n",
    "    print(\"This is a test message.\", file=f)\n",
    "    print(\"Redirected to output.txt file\", file=f)"
   ]
  },
  {
   "cell_type": "markdown",
   "id": "7a09ccad",
   "metadata": {
    "slideshow": {
     "slide_type": "slide"
    }
   },
   "source": [
    "```python \n",
    "Using flush=True to Force Immediate Output\n",
    "flush=True can be used to immediately write output to the screen without buffering (useful in loops for live output).\n",
    "```"
   ]
  },
  {
   "cell_type": "code",
   "execution_count": null,
   "id": "e4727da0",
   "metadata": {
    "slideshow": {
     "slide_type": "slide"
    }
   },
   "outputs": [],
   "source": [
    "import time\n",
    "\n",
    "print(\"Processing\", end=\"\", flush=True)\n",
    "for _ in range(10):\n",
    "    time.sleep(0.5)\n",
    "    print(\".\", end=\"\", flush=True)"
   ]
  },
  {
   "cell_type": "markdown",
   "id": "b2481fb1",
   "metadata": {
    "slideshow": {
     "slide_type": "slide"
    }
   },
   "source": [
    "```Python \n",
    "Printing Multiple Variables with f-strings for Currency Format\n",
    "This is useful for formatting numbers, such as printing a salary in Indian currency format.\n",
    "```"
   ]
  },
  {
   "cell_type": "code",
   "execution_count": null,
   "id": "7e833618",
   "metadata": {
    "slideshow": {
     "slide_type": "slide"
    }
   },
   "outputs": [],
   "source": [
    "salary = 50000\n",
    "city = \"Chennai\"\n",
    "print(f\"The monthly salary in {city} is ₹{salary:,}\")"
   ]
  },
  {
   "cell_type": "markdown",
   "id": "aa33ffdb",
   "metadata": {
    "slideshow": {
     "slide_type": "slide"
    }
   },
   "source": [
    "```python \n",
    "Printing Emojis with Unicode Characters\n",
    "Python allows emojis in strings by using Unicode.\n",
    "```"
   ]
  },
  {
   "cell_type": "code",
   "execution_count": null,
   "id": "bc9703bf",
   "metadata": {
    "slideshow": {
     "slide_type": "slide"
    }
   },
   "outputs": [],
   "source": [
    "print(\"Namaste 🙏! Welcome to India 🇮🇳\")"
   ]
  },
  {
   "cell_type": "markdown",
   "id": "d1c51144",
   "metadata": {
    "slideshow": {
     "slide_type": "slide"
    }
   },
   "source": [
    "```python \n",
    "Using repr() and str() with print()\n",
    "The repr() function can be used to get the string representation of an object, often for debugging purposes.\n",
    "```"
   ]
  },
  {
   "cell_type": "code",
   "execution_count": null,
   "id": "e94572db",
   "metadata": {
    "slideshow": {
     "slide_type": "slide"
    }
   },
   "outputs": [],
   "source": [
    "price = 199.99\n",
    "print(\"str:\", str(price))\n",
    "print(\"repr:\", repr(price))"
   ]
  }
 ],
 "metadata": {
  "kernelspec": {
   "display_name": "Python 3 (ipykernel)",
   "language": "python",
   "name": "python3"
  },
  "language_info": {
   "codemirror_mode": {
    "name": "ipython",
    "version": 3
   },
   "file_extension": ".py",
   "mimetype": "text/x-python",
   "name": "python",
   "nbconvert_exporter": "python",
   "pygments_lexer": "ipython3",
   "version": "3.11.5"
  }
 },
 "nbformat": 4,
 "nbformat_minor": 5
}
