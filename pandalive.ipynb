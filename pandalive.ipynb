{
 "cells": [
  {
   "cell_type": "markdown",
   "id": "17b5756a",
   "metadata": {},
   "source": [
    " \n",
    "# 📌Topic 1: Introduction to Pandas\n",
    "\n",
    "## What is Pandas?\n",
    "Pandas is a powerful Python library for data manipulation and analysis. It provides flexible data structures such as Series and DataFrame that allow for efficient data handling.\n",
    "\n",
    "## Installing Pandas\n",
    "Before using Pandas, you need to install it. Run the following command in your terminal or command prompt:\n",
    "```sh\n",
    "pip install pandas\n",
    "```\n",
    "\n",
    "## Importing Pandas\n",
    "Let's start by importing the Pandas library:\n",
    " "
   ]
  },
  {
   "cell_type": "markdown",
   "id": "eb9d9d86",
   "metadata": {},
   "source": [
    "# Importing pandas\n",
    "import pandas as pd\n",
    "\n",
    "# Checking the version of pandas\n",
    "print(\"Pandas Version:\", pd.__version__)"
   ]
  },
  {
   "cell_type": "markdown",
   "id": "238df559",
   "metadata": {},
   "source": [
    " \n",
    "## 📍 Creating a Simple Series\n",
    "A Series is a one-dimensional labeled array capable of holding any data type.\n",
    " "
   ]
  },
  {
   "cell_type": "code",
   "execution_count": 2,
   "id": "c0a89e29",
   "metadata": {},
   "outputs": [
    {
     "name": "stdout",
     "output_type": "stream",
     "text": [
      "0    10\n",
      "1    20\n",
      "2    30\n",
      "3    40\n",
      "4    50\n",
      "dtype: int64\n"
     ]
    }
   ],
   "source": [
    "# Creating a Series\n",
    "import pandas as pd\n",
    "\n",
    "data = [10, 20, 30, 40, 50]\n",
    "series = pd.Series(data)\n",
    "a = series "
   ]
  },
  {
   "cell_type": "markdown",
   "id": "94f08226",
   "metadata": {},
   "source": [
    " \n",
    "## 📍 Creating a Simple DataFrame\n",
    "A DataFrame is a two-dimensional labeled data structure with columns of potentially different types.\n",
    " "
   ]
  },
  {
   "cell_type": "code",
   "execution_count": 3,
   "id": "de8c70ca",
   "metadata": {},
   "outputs": [
    {
     "data": {
      "text/html": [
       "<div>\n",
       "<style scoped>\n",
       "    .dataframe tbody tr th:only-of-type {\n",
       "        vertical-align: middle;\n",
       "    }\n",
       "\n",
       "    .dataframe tbody tr th {\n",
       "        vertical-align: top;\n",
       "    }\n",
       "\n",
       "    .dataframe thead th {\n",
       "        text-align: right;\n",
       "    }\n",
       "</style>\n",
       "<table border=\"1\" class=\"dataframe\">\n",
       "  <thead>\n",
       "    <tr style=\"text-align: right;\">\n",
       "      <th></th>\n",
       "      <th>Name</th>\n",
       "      <th>Age</th>\n",
       "      <th>City</th>\n",
       "    </tr>\n",
       "  </thead>\n",
       "  <tbody>\n",
       "    <tr>\n",
       "      <th>0</th>\n",
       "      <td>Amit</td>\n",
       "      <td>25</td>\n",
       "      <td>Mumbai</td>\n",
       "    </tr>\n",
       "    <tr>\n",
       "      <th>1</th>\n",
       "      <td>Neha</td>\n",
       "      <td>30</td>\n",
       "      <td>Delhi</td>\n",
       "    </tr>\n",
       "    <tr>\n",
       "      <th>2</th>\n",
       "      <td>Rahul</td>\n",
       "      <td>22</td>\n",
       "      <td>Bangalore</td>\n",
       "    </tr>\n",
       "    <tr>\n",
       "      <th>3</th>\n",
       "      <td>Priya</td>\n",
       "      <td>28</td>\n",
       "      <td>Chennai</td>\n",
       "    </tr>\n",
       "  </tbody>\n",
       "</table>\n",
       "</div>"
      ],
      "text/plain": [
       "    Name  Age       City\n",
       "0   Amit   25     Mumbai\n",
       "1   Neha   30      Delhi\n",
       "2  Rahul   22  Bangalore\n",
       "3  Priya   28    Chennai"
      ]
     },
     "execution_count": 3,
     "metadata": {},
     "output_type": "execute_result"
    }
   ],
   "source": [
    "# Creating a DataFrame from a dictionary\n",
    "\n",
    "import pandas as pd \n",
    "data = {\n",
    "    'Name': ['Amit', 'Neha', 'Rahul', 'Priya'],\n",
    "    'Age': [25, 30, 22, 28],\n",
    "    'City': ['Mumbai', 'Delhi', 'Bangalore', 'Chennai']\n",
    "}\n",
    "df = pd.DataFrame(data)\n",
    "\n",
    "b = df"
   ]
  },
  {
   "cell_type": "markdown",
   "id": "3dabd554",
   "metadata": {},
   "source": [
    " \n",
    "# Topic 2: Pandas Data Structures\n",
    "\n",
    "## 📍 Pandas Series\n",
    "A Series is a one-dimensional array-like structure with labels (index). It can hold any data type.\n",
    " "
   ]
  },
  {
   "cell_type": "code",
   "execution_count": 4,
   "id": "35ff9689",
   "metadata": {},
   "outputs": [
    {
     "name": "stdout",
     "output_type": "stream",
     "text": [
      "Series:\n",
      " a    100\n",
      "b    200\n",
      "c    300\n",
      "d    400\n",
      "e    500\n",
      "dtype: int64\n"
     ]
    }
   ],
   "source": [
    "import pandas as pd\n",
    "\n",
    "# Creating a Series from a list\n",
    "data = [100, 200, 300, 400, 500]\n",
    "series1 = pd.Series(data, index=['a', 'b', 'c', 'd', 'e'])\n",
    "\n",
    "c = series1"
   ]
  },
  {
   "cell_type": "markdown",
   "id": "a8311048",
   "metadata": {},
   "source": [
    " \n",
    "## 📍 Pandas DataFrame\n",
    "A DataFrame is a two-dimensional labeled data structure with columns of potentially different types.\n",
    " "
   ]
  },
  {
   "cell_type": "code",
   "execution_count": 5,
   "id": "20104ab1",
   "metadata": {},
   "outputs": [
    {
     "name": "stdout",
     "output_type": "stream",
     "text": [
      "DataFrame:\n",
      "\n"
     ]
    },
    {
     "data": {
      "text/html": [
       "<div>\n",
       "<style scoped>\n",
       "    .dataframe tbody tr th:only-of-type {\n",
       "        vertical-align: middle;\n",
       "    }\n",
       "\n",
       "    .dataframe tbody tr th {\n",
       "        vertical-align: top;\n",
       "    }\n",
       "\n",
       "    .dataframe thead th {\n",
       "        text-align: right;\n",
       "    }\n",
       "</style>\n",
       "<table border=\"1\" class=\"dataframe\">\n",
       "  <thead>\n",
       "    <tr style=\"text-align: right;\">\n",
       "      <th></th>\n",
       "      <th>Employee</th>\n",
       "      <th>Salary</th>\n",
       "      <th>Department</th>\n",
       "    </tr>\n",
       "  </thead>\n",
       "  <tbody>\n",
       "    <tr>\n",
       "      <th>0</th>\n",
       "      <td>Raj</td>\n",
       "      <td>50000</td>\n",
       "      <td>IT</td>\n",
       "    </tr>\n",
       "    <tr>\n",
       "      <th>1</th>\n",
       "      <td>Krish</td>\n",
       "      <td>60000</td>\n",
       "      <td>HR</td>\n",
       "    </tr>\n",
       "    <tr>\n",
       "      <th>2</th>\n",
       "      <td>Amit</td>\n",
       "      <td>55000</td>\n",
       "      <td>Finance</td>\n",
       "    </tr>\n",
       "    <tr>\n",
       "      <th>3</th>\n",
       "      <td>Priya</td>\n",
       "      <td>52000</td>\n",
       "      <td>Marketing</td>\n",
       "    </tr>\n",
       "  </tbody>\n",
       "</table>\n",
       "</div>"
      ],
      "text/plain": [
       "  Employee  Salary Department\n",
       "0      Raj   50000         IT\n",
       "1    Krish   60000         HR\n",
       "2     Amit   55000    Finance\n",
       "3    Priya   52000  Marketing"
      ]
     },
     "execution_count": 5,
     "metadata": {},
     "output_type": "execute_result"
    }
   ],
   "source": [
    "# Creating a DataFrame from a dictionary\n",
    "data = {\n",
    "    'Employee': ['Raj', 'Krish', 'Amit', 'Priya'],\n",
    "    'Salary': [50000, 60000, 55000, 52000],\n",
    "    'Department': ['IT', 'HR', 'Finance', 'Marketing']\n",
    "}\n",
    "df1 = pd.DataFrame(data)\n",
    "\n",
    "d = df1"
   ]
  },
  {
   "cell_type": "markdown",
   "id": "5934ed3b",
   "metadata": {},
   "source": [
    "## 📍 10. Exporting Data"
   ]
  },
  {
   "cell_type": "markdown",
   "id": "4ad17e4a",
   "metadata": {},
   "source": [
    "#### Export to CSV (won't work in this browser) - Try it in your machine.\n",
    "#### combined_data.to_csv('employees.csv', index=False)"
   ]
  }
 ],
 "metadata": {
  "kernelspec": {
   "display_name": "Python 3 (ipykernel)",
   "language": "python",
   "name": "python3"
  },
  "language_info": {
   "codemirror_mode": {
    "name": "ipython",
    "version": 3
   },
   "file_extension": ".py",
   "mimetype": "text/x-python",
   "name": "python",
   "nbconvert_exporter": "python",
   "pygments_lexer": "ipython3",
   "version": "3.11.5"
  }
 },
 "nbformat": 4,
 "nbformat_minor": 5
}
