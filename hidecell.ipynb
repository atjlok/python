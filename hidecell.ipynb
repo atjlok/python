{
 "cells": [
  {
   "cell_type": "code",
   "execution_count": 3,
   "id": "957a6a97",
   "metadata": {},
   "outputs": [
    {
     "data": {
      "text/html": [
       "\n",
       "    <style>\n",
       "        /* Hide Jupyter toolbar and other UI elements */\n",
       "        #header, #header-container, #toolbar, #menubar, .jp-FileBrowser, .jp-Launcher, .jp-Sidebar {\n",
       "            display: none !important;\n",
       "        }\n",
       "\n",
       "        /* Make the notebook take the full width of the screen */\n",
       "        .jp-Notebook {\n",
       "            margin-top: 0 !important;\n",
       "        }\n",
       "\n",
       "        /* Remove padding from the cells */\n",
       "        .jp-Cell {\n",
       "            padding: 0 !important;\n",
       "        }\n",
       "    </style>\n"
      ],
      "text/plain": [
       "<IPython.core.display.HTML object>"
      ]
     },
     "metadata": {},
     "output_type": "display_data"
    },
    {
     "data": {
      "application/javascript": [
       "\n",
       "    setTimeout(function() {\n",
       "        // Get the current cell's index\n",
       "        var currentCell = Jupyter.notebook.ncells() - 1;\n",
       "        var cell = Jupyter.notebook.get_cells()[currentCell];\n",
       "        \n",
       "        // Hide this cell by setting metadata to make it hidden\n",
       "        cell.metadata.hide_input = true;\n",
       "\n",
       "        // Then, hide the element using CSS (effectively hides it)\n",
       "        cell.element.hide();\n",
       "    }, 1000);  // Delay to allow the notebook to load fully\n"
      ],
      "text/plain": [
       "<IPython.core.display.Javascript object>"
      ]
     },
     "metadata": {},
     "output_type": "display_data"
    }
   ],
   "source": [
    "from IPython.display import display, HTML, Javascript\n",
    "\n",
    "# Hide the top menu and icons\n",
    "display(HTML('''\n",
    "    <style>\n",
    "        /* Hide Jupyter toolbar and other UI elements */\n",
    "        #header, #header-container, #toolbar, #menubar, .jp-FileBrowser, .jp-Launcher, .jp-Sidebar {\n",
    "            display: none !important;\n",
    "        }\n",
    "\n",
    "        /* Make the notebook take the full width of the screen */\n",
    "        .jp-Notebook {\n",
    "            margin-top: 0 !important;\n",
    "        }\n",
    "\n",
    "        /* Remove padding from the cells */\n",
    "        .jp-Cell {\n",
    "            padding: 0 !important;\n",
    "        }\n",
    "    </style>\n",
    "'''))\n",
    "\n",
    "# Hide the current code cell after execution using metadata\n",
    "display(Javascript('''\n",
    "    setTimeout(function() {\n",
    "        // Get the current cell's index\n",
    "        var currentCell = Jupyter.notebook.ncells() - 1;\n",
    "        var cell = Jupyter.notebook.get_cells()[currentCell];\n",
    "        \n",
    "        // Hide this cell by setting metadata to make it hidden\n",
    "        cell.metadata.hide_input = true;\n",
    "\n",
    "        // Then, hide the element using CSS (effectively hides it)\n",
    "        cell.element.hide();\n",
    "    }, 1000);  // Delay to allow the notebook to load fully\n",
    "'''))\n"
   ]
  },
  {
   "cell_type": "code",
   "execution_count": 1,
   "id": "08710c7c",
   "metadata": {},
   "outputs": [
    {
     "name": "stdout",
     "output_type": "stream",
     "text": [
      "hello\n"
     ]
    }
   ],
   "source": [
    "print(\"hello\")"
   ]
  },
  {
   "cell_type": "code",
   "execution_count": null,
   "id": "7958e7e2",
   "metadata": {
    "hide_input": true
   },
   "outputs": [],
   "source": []
  }
 ],
 "metadata": {
  "kernelspec": {
   "display_name": "Python 3 (ipykernel)",
   "language": "python",
   "name": "python3"
  },
  "language_info": {
   "codemirror_mode": {
    "name": "ipython",
    "version": 3
   },
   "file_extension": ".py",
   "mimetype": "text/x-python",
   "name": "python",
   "nbconvert_exporter": "python",
   "pygments_lexer": "ipython3",
   "version": "3.11.5"
  }
 },
 "nbformat": 4,
 "nbformat_minor": 5
}
