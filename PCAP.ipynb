{
 "cells": [
  {
   "cell_type": "code",
   "execution_count": null,
   "id": "ec9ddd3e",
   "metadata": {
    "slideshow": {
     "slide_type": "slide"
    }
   },
   "outputs": [],
   "source": [
    "x = 0\n",
    "try:\n",
    "    print(1 / x)\n",
    "except:\n",
    "    print('An error occurred')\n",
    "except ZeroDivisionError:\n",
    "    print('Division by zero is not allowed')\n",
    "except ValueError:\n",
    "    print('The value entered is incorrect')"
   ]
  },
  {
   "cell_type": "raw",
   "id": "2b490a86",
   "metadata": {
    "slideshow": {
     "slide_type": "slide"
    }
   },
   "source": [
    "The limerick.txt file contains the following text:\n",
    "\n",
    "Hickory Dickory Dock,\n",
    "The mouse ran up the clock.\n",
    "The clock struck one;\n",
    "The mouse did run.\n",
    "Hickory Dickory Dock.\n",
    "\n",
    "What is the output of the following code snippet?"
   ]
  },
  {
   "cell_type": "code",
   "execution_count": null,
   "id": "d6637431",
   "metadata": {
    "slideshow": {
     "slide_type": "slide"
    }
   },
   "outputs": [],
   "source": [
    "strm = open('limerick.txt')\n",
    "text = strm.read()        \n",
    "strm.close()\n",
    "    \n",
    "print(text)"
   ]
  },
  {
   "cell_type": "code",
   "execution_count": null,
   "id": "f6c1aea6",
   "metadata": {
    "slideshow": {
     "slide_type": "slide"
    }
   },
   "outputs": [],
   "source": [
    "def f(x=2):\n",
    "    return '*' * x\n",
    " \n",
    "f = f(3)\n",
    " \n",
    "print(f)"
   ]
  },
  {
   "cell_type": "code",
   "execution_count": null,
   "id": "ff348251",
   "metadata": {
    "slideshow": {
     "slide_type": "slide"
    }
   },
   "outputs": [],
   "source": [
    "class A:\n",
    "    x = 10\n",
    "    def __init__(self):\n",
    "        self.a = 100\n",
    " \n",
    "obj = A()\n",
    "print(A.__dict__)"
   ]
  },
  {
   "cell_type": "code",
   "execution_count": null,
   "id": "48497493",
   "metadata": {
    "slideshow": {
     "slide_type": "slide"
    }
   },
   "outputs": [],
   "source": [
    "s = \"abcXYZdef\"\n",
    " \n",
    "def fun(start, stop):\n",
    "    del s[start: stop]\n",
    " \n",
    "fun(3, 6)\n",
    " \n",
    "print(s)"
   ]
  },
  {
   "cell_type": "code",
   "execution_count": null,
   "id": "3a85baad",
   "metadata": {
    "slideshow": {
     "slide_type": "slide"
    }
   },
   "outputs": [],
   "source": [
    "n = 0\n",
    " \n",
    "for i in \"Viper\" * 2:\n",
    "    if i in \"Snake\":\n",
    "        n += 1\n",
    " \n",
    "print(n)"
   ]
  },
  {
   "cell_type": "code",
   "execution_count": null,
   "id": "333f8e30",
   "metadata": {
    "slideshow": {
     "slide_type": "slide"
    }
   },
   "outputs": [],
   "source": [
    "class A:\n",
    "    pass\n",
    " \n",
    "class B:\n",
    "    pass\n",
    " \n",
    "class C(A):\n",
    "    pass\n",
    " \n",
    "class D(C):\n",
    "    pass\n",
    " \n",
    "print(issubclass(D, C), end = \" \")\n",
    "print(issubclass(D, A), end = \" \")\n",
    "print(issubclass(A, A), end = \" \")\n",
    "print(issubclass(D, B), end = \" \")\n",
    "print(issubclass(D, (A, B)))"
   ]
  },
  {
   "cell_type": "code",
   "execution_count": null,
   "id": "c574d83b",
   "metadata": {
    "slideshow": {
     "slide_type": "slide"
    }
   },
   "outputs": [],
   "source": [
    "s1 = '''\n",
    "'''\n",
    "s2 = '\\''\n",
    " \n",
    "print(len(s1) + len(s2))"
   ]
  },
  {
   "cell_type": "code",
   "execution_count": null,
   "id": "d1ff5286",
   "metadata": {
    "slideshow": {
     "slide_type": "slide"
    }
   },
   "outputs": [],
   "source": [
    "import math as m\n",
    " \n",
    "x = m.floor(-2.5) + m.sqrt(9) - m.hypot(4, 3)\n",
    " \n",
    "print(x)"
   ]
  },
  {
   "cell_type": "code",
   "execution_count": null,
   "id": "cd86ed98",
   "metadata": {
    "slideshow": {
     "slide_type": "slide"
    }
   },
   "outputs": [],
   "source": [
    "data = bytearray(5)\n",
    "print(data)"
   ]
  },
  {
   "cell_type": "code",
   "execution_count": null,
   "id": "25d1147a",
   "metadata": {
    "slideshow": {
     "slide_type": "slide"
    }
   },
   "outputs": [],
   "source": [
    "class A:\n",
    "    def __init__(self, n):\n",
    "        self.x = n    \n",
    " \n",
    "    def m1(self):\n",
    "        return self.x + 1\n",
    "    \n",
    "    def m2(self):\n",
    "        return self.m1() * 2\n",
    "    \n",
    "obj = A(10)\n",
    " \n",
    "print(obj.m2())"
   ]
  },
  {
   "cell_type": "code",
   "execution_count": null,
   "id": "a015665b",
   "metadata": {
    "slideshow": {
     "slide_type": "slide"
    }
   },
   "outputs": [],
   "source": [
    "txt = \"Hello World\"\n",
    "x = txt.find('l', 4) + txt.find('world') * txt.find('l', -5)\n",
    "print(x)"
   ]
  },
  {
   "cell_type": "code",
   "execution_count": null,
   "id": "e05bdfd4",
   "metadata": {
    "slideshow": {
     "slide_type": "slide"
    }
   },
   "outputs": [],
   "source": [
    "from math import factorial as fact\n",
    "x = factorial(5)\n",
    "print(x)"
   ]
  },
  {
   "cell_type": "code",
   "execution_count": null,
   "id": "093ffcdf",
   "metadata": {
    "slideshow": {
     "slide_type": "slide"
    }
   },
   "outputs": [],
   "source": [
    "class A:\n",
    "    x = 1\n",
    "    def __init__(self):\n",
    "        A.x += 1\n",
    " \n",
    "y = A().x * A().x\n",
    " \n",
    "print(y)"
   ]
  },
  {
   "cell_type": "code",
   "execution_count": null,
   "id": "b572f3fa",
   "metadata": {
    "slideshow": {
     "slide_type": "slide"
    }
   },
   "outputs": [],
   "source": [
    "try:\n",
    "    raise Exception\n",
    "    print(1/0)\n",
    " \n",
    "except BaseException:\n",
    "    print('A')\n",
    "    \n",
    "except ArithmeticError:\n",
    "    print('B')\n",
    " \n",
    "except ZeroDivError:\n",
    "    print('C')\n",
    " \n",
    "except:\n",
    "    print('D')"
   ]
  },
  {
   "cell_type": "code",
   "execution_count": null,
   "id": "0719e24b",
   "metadata": {
    "slideshow": {
     "slide_type": "slide"
    }
   },
   "outputs": [],
   "source": [
    "for i in range(3, 1, -1):\n",
    "    try:\n",
    "        print(2 / (3 % i), end=' ')\n",
    "    except:\n",
    "        print(\"ERROR\", end=' ')\n",
    "    else:\n",
    "        print(\"OK\", end=' ')\n",
    "    finally:\n",
    "        print(\"END\", end=' ')"
   ]
  },
  {
   "cell_type": "code",
   "execution_count": null,
   "id": "8210fd90",
   "metadata": {
    "slideshow": {
     "slide_type": "slide"
    }
   },
   "outputs": [],
   "source": [
    "The animals.txt file contains the following two lines:\n",
    "dog\n",
    "cat\n",
    "\n",
    "What is the output of the following code snippet?"
   ]
  },
  {
   "cell_type": "code",
   "execution_count": null,
   "id": "0451fb28",
   "metadata": {
    "slideshow": {
     "slide_type": "slide"
    }
   },
   "outputs": [],
   "source": [
    "l = ['tiger\\n', 'fox\\n', 'bat']\n",
    "strm = open('animals.txt', 'w')\n",
    "for x in l:\n",
    "    strm.write(x)\n",
    " \n",
    "strm.close()\n",
    "strm = open('animals.txt')\n",
    "print(strm.read())"
   ]
  },
  {
   "cell_type": "code",
   "execution_count": null,
   "id": "3f26f737",
   "metadata": {
    "slideshow": {
     "slide_type": "slide"
    }
   },
   "outputs": [],
   "source": [
    "def fun(n):\n",
    "    c = '*'\n",
    "    for i in range(1, n):\n",
    "        str = c * i\n",
    "        yield str\n",
    " \n",
    "for x in fun(3):\n",
    "    print(x)  "
   ]
  },
  {
   "cell_type": "code",
   "execution_count": null,
   "id": "e660d0e0",
   "metadata": {
    "slideshow": {
     "slide_type": "slide"
    }
   },
   "outputs": [],
   "source": [
    "def outer(x):  \n",
    "    a = x - 1    \n",
    "    def inner(y):\n",
    "        return y ** a\n",
    "    return inner\n",
    " \n",
    "var = outer(1)\n",
    "print(var(2))"
   ]
  },
  {
   "cell_type": "code",
   "execution_count": null,
   "id": "84de6bed",
   "metadata": {
    "slideshow": {
     "slide_type": "slide"
    }
   },
   "outputs": [],
   "source": [
    "txt = \"Python\"\n",
    "l = [chr(ord(x) + 1) for x in txt]\n",
    "print(l[-1:1:-1])"
   ]
  },
  {
   "cell_type": "code",
   "execution_count": null,
   "id": "4cb2c815",
   "metadata": {
    "slideshow": {
     "slide_type": "slide"
    }
   },
   "outputs": [],
   "source": [
    "txt = \"Python\"\n",
    " \n",
    "sl1 = txt[:]\n",
    "sl2 = txt[4:2]\n",
    "sl3 = txt[1:4]\n",
    "sl4 = txt[::4]\n",
    " \n",
    "x = len(sl1) - len(sl2) + len(sl3) * len(sl4)\n",
    "print(x)"
   ]
  },
  {
   "cell_type": "code",
   "execution_count": null,
   "id": "4b4557bb",
   "metadata": {
    "slideshow": {
     "slide_type": "slide"
    }
   },
   "outputs": [],
   "source": [
    "def fun(x, y, z):\n",
    "    return x(y) * x(z) - z + y\n",
    " \n",
    "print(fun(lambda x: x**2, 3, 2))"
   ]
  },
  {
   "cell_type": "code",
   "execution_count": null,
   "id": "ff877037",
   "metadata": {
    "slideshow": {
     "slide_type": "slide"
    }
   },
   "outputs": [],
   "source": [
    "class A:\n",
    "    def m(self):\n",
    "        print(\"A\", end = \"\")\n",
    " \n",
    "class B(A):\n",
    "    def m(self):\n",
    "        print(\"B\")\n",
    "    \n",
    "class C(A, B):\n",
    "    pass\n",
    " \n",
    "obj = C()\n",
    "obj.m()"
   ]
  },
  {
   "cell_type": "code",
   "execution_count": null,
   "id": "6d220c80",
   "metadata": {
    "slideshow": {
     "slide_type": "slide"
    }
   },
   "outputs": [],
   "source": [
    "class A:\n",
    "    pass\n",
    " \n",
    "class B:\n",
    "    pass\n",
    " \n",
    "class C(B):\n",
    "    pass\n",
    " \n",
    "class D(C):\n",
    "    pass\n",
    " \n",
    "c = C()\n",
    " \n",
    "print(isinstance(c, A))\n",
    "print(isinstance(c, D))\n",
    "print(isinstance(c, (A, B)))"
   ]
  },
  {
   "cell_type": "code",
   "execution_count": null,
   "id": "ebc25e7c",
   "metadata": {
    "slideshow": {
     "slide_type": "slide"
    }
   },
   "outputs": [],
   "source": [
    "try:\n",
    "    x = int(input(\"Enter a first number: \"))\n",
    "    y = int(input(\"Enter a second number: \"))         \n",
    " \n",
    "    print(x / y ** x)\n",
    " \n",
    "except ZeroDivisionError:\n",
    "    print(\"Division by zero is not allowed\")\n",
    " \n",
    "except ValueError:\n",
    "    print(\"The value entered is incorrect\")\n",
    " \n",
    "else:\n",
    "    print(\"No error occurred\")"
   ]
  },
  {
   "cell_type": "code",
   "execution_count": null,
   "id": "1c8e8d52",
   "metadata": {
    "slideshow": {
     "slide_type": "slide"
    }
   },
   "outputs": [],
   "source": [
    "s = \"abcdef\"\n",
    "print(s[-10:10])"
   ]
  },
  {
   "cell_type": "code",
   "execution_count": null,
   "id": "5a642008",
   "metadata": {
    "slideshow": {
     "slide_type": "slide"
    }
   },
   "outputs": [],
   "source": [
    "from math import *\n",
    " \n",
    "print(dir(math))"
   ]
  },
  {
   "cell_type": "code",
   "execution_count": null,
   "id": "68430f9b",
   "metadata": {
    "slideshow": {
     "slide_type": "slide"
    }
   },
   "outputs": [],
   "source": [
    "class A:\n",
    "    x = 1    \n",
    "    def __init__(self):\n",
    "        x = 10\n",
    "        self.x = 100\n",
    "        \n",
    "obj = A()\n",
    "print(obj.x)"
   ]
  },
  {
   "cell_type": "code",
   "execution_count": null,
   "id": "b9779534",
   "metadata": {
    "slideshow": {
     "slide_type": "slide"
    }
   },
   "outputs": [],
   "source": [
    "class A:    \n",
    "    def __init__(self):\n",
    "        self.a = 0\n",
    " \n",
    "obj = A()\n",
    " \n",
    "isAttr = hasattr(obj, 'a')\n",
    " \n",
    "print(isAttr)"
   ]
  },
  {
   "cell_type": "code",
   "execution_count": null,
   "id": "965e01fa",
   "metadata": {
    "slideshow": {
     "slide_type": "slide"
    }
   },
   "outputs": [],
   "source": [
    "class A:\n",
    "    def m1(self):\n",
    "        return \"Python\"\n",
    "        \n",
    "    def m2(self):\n",
    "        print(\"Viper\")\n",
    "        \n",
    "obj = A()\n",
    " \n",
    "print(obj.m1())\n",
    "print(obj.m2())"
   ]
  },
  {
   "cell_type": "code",
   "execution_count": null,
   "id": "151800ce",
   "metadata": {
    "slideshow": {
     "slide_type": "slide"
    }
   },
   "outputs": [],
   "source": [
    "for i in range(4, 1, -1):\n",
    "    print('*' * i)\n",
    "else:\n",
    "    print('*')"
   ]
  },
  {
   "cell_type": "code",
   "execution_count": null,
   "id": "76439885",
   "metadata": {
    "slideshow": {
     "slide_type": "slide"
    }
   },
   "outputs": [],
   "source": [
    "for c in 'xyz':\n",
    "    print(chr(ord(c) - 1), end = '')"
   ]
  },
  {
   "cell_type": "markdown",
   "id": "c6c09769",
   "metadata": {
    "slideshow": {
     "slide_type": "slide"
    }
   },
   "source": [
    "Which of the following conditional expressions can replace the comment line #??? in the snippet, so that the function returns the value of a if a > b, or the value of b otherwise?"
   ]
  },
  {
   "cell_type": "code",
   "execution_count": null,
   "id": "aa7fd14b",
   "metadata": {},
   "outputs": [],
   "source": [
    "def f(a, b):\n",
    "    return a if a > b else b\n",
    " \n",
    "print(f(1, 2))"
   ]
  },
  {
   "cell_type": "code",
   "execution_count": null,
   "id": "3ecd00ca",
   "metadata": {
    "slideshow": {
     "slide_type": "slide"
    }
   },
   "outputs": [],
   "source": [
    "class A:\n",
    "    def __init__(foo):\n",
    "        foo.x = 10\n",
    "        \n",
    "obj = A()\n",
    " \n",
    "print(obj.x)"
   ]
  },
  {
   "cell_type": "code",
   "execution_count": null,
   "id": "c7cd6da8",
   "metadata": {
    "slideshow": {
     "slide_type": "slide"
    }
   },
   "outputs": [],
   "source": [
    "x = \"Monty\" \"Python\"\n",
    "print(x)"
   ]
  },
  {
   "cell_type": "code",
   "execution_count": 2,
   "id": "7bf895a9",
   "metadata": {
    "slideshow": {
     "slide_type": "slide"
    }
   },
   "outputs": [
    {
     "name": "stdout",
     "output_type": "stream",
     "text": [
      "4\n"
     ]
    }
   ],
   "source": [
    "list1 = \"I'd love to join your team, but I'm afraid I can't.\".split(\"'\")\n",
    "print(len(list1))"
   ]
  },
  {
   "cell_type": "code",
   "execution_count": null,
   "id": "c5a7353d",
   "metadata": {},
   "outputs": [],
   "source": []
  }
 ],
 "metadata": {
  "kernelspec": {
   "display_name": "Python 3 (ipykernel)",
   "language": "python",
   "name": "python3"
  },
  "language_info": {
   "codemirror_mode": {
    "name": "ipython",
    "version": 3
   },
   "file_extension": ".py",
   "mimetype": "text/x-python",
   "name": "python",
   "nbconvert_exporter": "python",
   "pygments_lexer": "ipython3",
   "version": "3.11.5"
  }
 },
 "nbformat": 4,
 "nbformat_minor": 5
}
