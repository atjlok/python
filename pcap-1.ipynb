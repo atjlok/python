{
 "cells": [
  {
   "cell_type": "markdown",
   "metadata": {},
   "source": [
    "## Question - 1"
   ]
  },
  {
   "cell_type": "code",
   "execution_count": null,
   "metadata": {},
   "outputs": [],
   "source": [
    "# What will be the output of the following code and why?\n",
    "\n",
    "class A:\n",
    "    x = 1    \n",
    "    def __init__(self):\n",
    "        x = 10\n",
    "        self.x = 100\n",
    "        \n",
    "obj = A()\n",
    "print(obj.x)"
   ]
  },
  {
   "cell_type": "markdown",
   "metadata": {},
   "source": [
    "## Question - 2"
   ]
  },
  {
   "cell_type": "code",
   "execution_count": null,
   "metadata": {},
   "outputs": [],
   "source": [
    "# What will be the output of the following code and why?\n",
    "\n",
    "class A:    \n",
    "    def __init__(self):\n",
    "        self.a = 0\n",
    " \n",
    "obj = A()\n",
    " \n",
    "isAttr = hasattr(obj, 'a')\n",
    " \n",
    "print(isAttr)"
   ]
  },
  {
   "cell_type": "markdown",
   "metadata": {},
   "source": [
    "## Question - 3"
   ]
  },
  {
   "cell_type": "code",
   "execution_count": null,
   "metadata": {},
   "outputs": [],
   "source": [
    "# What will be the output of the following code and why?\n",
    "\n",
    "class A:\n",
    "    def m1(self):\n",
    "        return \"Python\"\n",
    "        \n",
    "    def m2(self):\n",
    "        print(\"Viper\")\n",
    "        \n",
    "obj = A()\n",
    " \n",
    "print(obj.m1())\n",
    "print(obj.m2())"
   ]
  },
  {
   "cell_type": "markdown",
   "metadata": {},
   "source": [
    "## Question - 4"
   ]
  },
  {
   "cell_type": "code",
   "execution_count": null,
   "metadata": {},
   "outputs": [],
   "source": [
    "# What will be the output of the following for loop and why?\n",
    "\n",
    "for i in range(4, 1, -1):\n",
    "    print('*' * i)\n",
    "else:\n",
    "    print('*')"
   ]
  },
  {
   "cell_type": "markdown",
   "metadata": {},
   "source": [
    "## Question - 5"
   ]
  },
  {
   "cell_type": "code",
   "execution_count": null,
   "metadata": {},
   "outputs": [],
   "source": [
    "# What will be the output of the following code and why?\n",
    "\n",
    "for c in 'xyz':\n",
    "    print(chr(ord(c) - 1), end = '')"
   ]
  },
  {
   "cell_type": "markdown",
   "metadata": {},
   "source": [
    "## Question - 6"
   ]
  },
  {
   "cell_type": "code",
   "execution_count": null,
   "metadata": {},
   "outputs": [],
   "source": [
    "# What will be the output of the following function and why?\n",
    "\n",
    "def f(a, b):\n",
    "    return a if a > b else b\n",
    " \n",
    "print(f(1, 2))"
   ]
  },
  {
   "cell_type": "markdown",
   "metadata": {},
   "source": [
    "## Question - 7"
   ]
  },
  {
   "cell_type": "code",
   "execution_count": null,
   "metadata": {},
   "outputs": [],
   "source": [
    "# What will be the output of the following code and why?\n",
    "\n",
    "class A:\n",
    "    def __init__(foo):\n",
    "        foo.x = 10\n",
    "        \n",
    "obj = A()\n",
    " \n",
    "print(obj.x)"
   ]
  }
 ],
 "metadata": {
  "kernelspec": {
   "display_name": "Python 3 (ipykernel)",
   "language": "python",
   "name": "python3"
  },
  "language_info": {
   "codemirror_mode": {
    "name": "ipython",
    "version": 3
   },
   "file_extension": ".py",
   "mimetype": "text/x-python",
   "name": "python",
   "nbconvert_exporter": "python",
   "pygments_lexer": "ipython3",
   "version": "3.11.5"
  }
 },
 "nbformat": 4,
 "nbformat_minor": 4
}
