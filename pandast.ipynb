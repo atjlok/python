{
 "cells": [
  {
   "cell_type": "code",
   "execution_count": null,
   "id": "397b2ddf",
   "metadata": {},
   "outputs": [],
   "source": [
    "import pandas as pd\n",
    "\n",
    "# Creating a sample DataFrame\n",
    "data = {\n",
    "    'Employee': ['Raj', 'Krish', 'Amit', 'Priya'],\n",
    "    'Salary': [50000, 60000, 55000, 52000],\n",
    "    'Department': ['IT', 'HR', 'Finance', 'Marketing']\n",
    "}\n",
    "\n",
    "df = pd.DataFrame(data)\n",
    "\n",
    "a = df.describe()\n",
    "\n",
    "b = df.head(2)"
   ]
  },
  {
   "cell_type": "code",
   "execution_count": null,
   "id": "f2c95da3",
   "metadata": {},
   "outputs": [],
   "source": [
    "import pandas as pd\n",
    "\n",
    "# Creating a sample DataFrame\n",
    "data = {\n",
    "    'Employee': ['Raj', 'Krish', 'Amit', 'Priya'],\n",
    "    'Salary': [50000, 60000, 55000, 52000],\n",
    "    'Department': ['IT', 'HR', 'Finance', 'Marketing']\n",
    "}\n",
    "\n",
    "df = pd.DataFrame(data)\n",
    "\n",
    "c = df.tail(1)\n",
    "\n",
    "d = df.describe().transpose()\n",
    "\n",
    "e = df.sample(1)\n",
    "\n",
    "f = df[['Employee', 'Salary']]"
   ]
  }
 ],
 "metadata": {
  "kernelspec": {
   "display_name": "Python 3 (ipykernel)",
   "language": "python",
   "name": "python3"
  },
  "language_info": {
   "codemirror_mode": {
    "name": "ipython",
    "version": 3
   },
   "file_extension": ".py",
   "mimetype": "text/x-python",
   "name": "python",
   "nbconvert_exporter": "python",
   "pygments_lexer": "ipython3",
   "version": "3.11.5"
  }
 },
 "nbformat": 4,
 "nbformat_minor": 5
}
