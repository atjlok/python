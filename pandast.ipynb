{
 "cells": [
  {
   "cell_type": "code",
   "execution_count": null,
   "id": "4380bb13",
   "metadata": {},
   "outputs": [],
   "source": [
    "import pandas as pd\n",
    "\n",
    "# Create the first dataframe\n",
    "data1 = pd.DataFrame({'Name': ['Alice', 'Bob', 'Charlie'], 'Age': [25, 30, 35]})\n",
    "\n",
    "# Create the second dataframe\n",
    "data2 = pd.DataFrame({'Name': ['David', 'Eva', 'Frank'], 'Age': [40, 45, 50]})\n",
    "\n",
    "# Concatenate the dataframes\n",
    "result = pd.concat([data1, data2])\n",
    "\n"
   ]
  },
  {
   "cell_type": "code",
   "execution_count": null,
   "id": "397b2ddf",
   "metadata": {},
   "outputs": [],
   "source": [
    "import pandas as pd\n",
    "\n",
    "# Creating a sample DataFrame\n",
    "data = {\n",
    "    'Employee': ['Raj', 'Krish', 'Amit', 'Priya'],\n",
    "    'Salary': [50000, 60000, 55000, 52000],\n",
    "    'Department': ['IT', 'HR', 'Finance', 'Marketing']\n",
    "}\n",
    "\n",
    "df = pd.DataFrame(data)\n",
    "\n",
    "a = df.describe().transpose()\n"
   ]
  },
  {
   "cell_type": "code",
   "execution_count": null,
   "id": "e7f3c755",
   "metadata": {},
   "outputs": [],
   "source": [
    "import pandas as pd\n",
    "\n",
    "# Creating a sample DataFrame\n",
    "data = {\n",
    "    'Employee': ['Raj', 'Krish', 'Amit', 'Priya'],\n",
    "    'Salary': [50000, 60000, 55000, 52000],\n",
    "    'Department': ['IT', 'HR', 'Finance', 'Marketing']\n",
    "}\n",
    "\n",
    "df = pd.DataFrame(data)\n",
    "\n",
    "df.describe().transpose()"
   ]
  },
  {
   "cell_type": "code",
   "execution_count": null,
   "id": "56294dc5",
   "metadata": {},
   "outputs": [],
   "source": [
    "import pandas as pd\n",
    "\n",
    "# Creating a sample DataFrame\n",
    "data = {\n",
    "    'Employee': ['Raj', 'Krish', 'Amit', 'Priya'],\n",
    "    'Salary': [50000, 60000, 55000, 52000],\n",
    "    'Department': ['IT', 'HR', 'Finance', 'Marketing']\n",
    "}\n",
    "\n",
    "df = pd.DataFrame(data)\n",
    "\n",
    "b = df.head(2)"
   ]
  },
  {
   "cell_type": "code",
   "execution_count": null,
   "id": "2d6569d3",
   "metadata": {},
   "outputs": [],
   "source": [
    "import pandas as pd\n",
    "\n",
    "# Creating a sample DataFrame\n",
    "data = {\n",
    "    'Employee': ['Raj', 'Krish', 'Amit', 'Priya'],\n",
    "    'Salary': [50000, 60000, 55000, 52000],\n",
    "    'Department': ['IT', 'HR', 'Finance', 'Marketing']\n",
    "}\n",
    "\n",
    "df = pd.DataFrame(data)\n",
    "\n",
    "df.head(1)"
   ]
  },
  {
   "cell_type": "code",
   "execution_count": null,
   "id": "e06fafc5",
   "metadata": {},
   "outputs": [],
   "source": [
    "import pandas as pd\n",
    "\n",
    "# Creating a sample DataFrame\n",
    "data = {\n",
    "    'Employee': ['Raj', 'Krish', 'Amit', 'Priya'],\n",
    "    'Salary': [50000, 60000, 55000, 52000],\n",
    "    'Department': ['IT', 'HR', 'Finance', 'Marketing']\n",
    "}\n",
    "\n",
    "df = pd.DataFrame(data)\n",
    "\n",
    "df.sample(2)"
   ]
  },
  {
   "cell_type": "code",
   "execution_count": null,
   "id": "fc5c821b",
   "metadata": {},
   "outputs": [],
   "source": [
    "import pandas as pd\n",
    "\n",
    "# Creating a sample DataFrame\n",
    "data = {\n",
    "    'Employee': ['Raj', 'Krish', 'Amit', 'Priya'],\n",
    "    'Salary': [50000, 60000, 55000, 52000],\n",
    "    'Department': ['IT', 'HR', 'Finance', 'Marketing']\n",
    "}\n",
    "\n",
    "df = pd.DataFrame(data)\n",
    "\n",
    "c = df.describe() "
   ]
  },
  {
   "cell_type": "code",
   "execution_count": null,
   "id": "f6aef725",
   "metadata": {},
   "outputs": [],
   "source": [
    "import pandas as pd\n",
    "\n",
    "# Creating a sample DataFrame\n",
    "data = {\n",
    "    'Employee': ['Raj', 'Krish', 'Amit', 'Priya'],\n",
    "    'Salary': [50000, 60000, 55000, 52000],\n",
    "    'Department': ['IT', 'HR', 'Finance', 'Marketing']\n",
    "}\n",
    "\n",
    "df = pd.DataFrame(data)\n",
    "\n",
    "b = df.head(2)"
   ]
  },
  {
   "cell_type": "code",
   "execution_count": null,
   "id": "10a45286",
   "metadata": {},
   "outputs": [],
   "source": [
    "import pandas as pd\n",
    "\n",
    "# Creating a sample DataFrame\n",
    "data = {\n",
    "    'Employee': ['Raj', 'Krish', 'Amit', 'Priya'],\n",
    "    'Salary': [50000, 60000, 55000, 52000],\n",
    "    'Department': ['IT', 'HR', 'Finance', 'Marketing']\n",
    "}\n",
    "\n",
    "df = pd.DataFrame(data)\n",
    "\n",
    "a = df.describe().transpose()"
   ]
  },
  {
   "cell_type": "code",
   "execution_count": null,
   "id": "378f236a",
   "metadata": {},
   "outputs": [],
   "source": [
    "data = [[10, 18, 11], [13, 15, 8], [9, 20, 3]]\n",
    "\n",
    "df = pd.DataFrame(data)\n",
    "\n",
    "print(df.max())"
   ]
  },
  {
   "cell_type": "code",
   "execution_count": null,
   "id": "f2c95da3",
   "metadata": {},
   "outputs": [],
   "source": [
    "import pandas as pd\n",
    "\n",
    "# Creating a sample DataFrame\n",
    "data = {\n",
    "    'Employee': ['Raj', 'Krish', 'Amit', 'Priya'],\n",
    "    'Salary': [50000, 60000, 55000, 52000],\n",
    "    'Department': ['IT', 'HR', 'Finance', 'Marketing']\n",
    "}\n",
    "\n",
    "df = pd.DataFrame(data)\n",
    "\n",
    "c = df.tail(1)\n",
    "\n",
    "d = df.describe().transpose()\n",
    "\n",
    "e = df.sample(1)\n",
    "\n",
    "f = df[['Employee', 'Salary']]\n",
    "\n",
    "g = df.max()"
   ]
  },
  {
   "cell_type": "code",
   "execution_count": null,
   "id": "4a265514",
   "metadata": {},
   "outputs": [],
   "source": [
    "import pandas as pd\n",
    "\n",
    "# Creating a sample DataFrame\n",
    "data = {\n",
    "    'Employee': ['Raj', 'Krish', 'Amit', 'Priya'],\n",
    "    'Salary': [50000, 60000, 55000, 52000],\n",
    "    'Department': ['IT', 'HR', 'Finance', 'Marketing']\n",
    "}\n",
    "\n",
    "df = pd.DataFrame(data)\n",
    "\n",
    "df.tail(1)"
   ]
  },
  {
   "cell_type": "code",
   "execution_count": null,
   "id": "20078ae9",
   "metadata": {},
   "outputs": [],
   "source": [
    "a = df.tail(1)\n",
    "\n",
    "print(a)"
   ]
  },
  {
   "cell_type": "code",
   "execution_count": null,
   "id": "ff18a615",
   "metadata": {},
   "outputs": [],
   "source": [
    "df.describe().transpose()"
   ]
  },
  {
   "cell_type": "code",
   "execution_count": null,
   "id": "53a367c3",
   "metadata": {},
   "outputs": [],
   "source": [
    "df.sample(1)"
   ]
  },
  {
   "cell_type": "code",
   "execution_count": null,
   "id": "d39b435f",
   "metadata": {},
   "outputs": [],
   "source": [
    "df[['Employee', 'Salary']]"
   ]
  },
  {
   "cell_type": "code",
   "execution_count": null,
   "id": "96755232",
   "metadata": {},
   "outputs": [],
   "source": [
    "df.max()"
   ]
  },
  {
   "cell_type": "code",
   "execution_count": null,
   "id": "1bca5fa0",
   "metadata": {},
   "outputs": [],
   "source": []
  }
 ],
 "metadata": {
  "kernelspec": {
   "display_name": "Python 3 (ipykernel)",
   "language": "python",
   "name": "python3"
  },
  "language_info": {
   "codemirror_mode": {
    "name": "ipython",
    "version": 3
   },
   "file_extension": ".py",
   "mimetype": "text/x-python",
   "name": "python",
   "nbconvert_exporter": "python",
   "pygments_lexer": "ipython3",
   "version": "3.11.5"
  }
 },
 "nbformat": 4,
 "nbformat_minor": 5
}
