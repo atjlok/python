{
 "cells": [
  {
   "cell_type": "code",
   "execution_count": null,
   "id": "397b2ddf",
   "metadata": {},
   "outputs": [],
   "source": [
    "import pandas as pd\n",
    "\n",
    "# Creating a sample DataFrame\n",
    "data = {\n",
    "    'Employee': ['Raj', 'Krish', 'Amit', 'Priya'],\n",
    "    'Salary': [50000, 60000, 55000, 52000],\n",
    "    'Department': ['IT', 'HR', 'Finance', 'Marketing']\n",
    "}\n",
    "\n",
    "df = pd.DataFrame(data)"
   ]
  },
  {
   "cell_type": "code",
   "execution_count": null,
   "id": "a7b98103",
   "metadata": {},
   "outputs": [],
   "source": [
    "df['Employee']"
   ]
  },
  {
   "cell_type": "code",
   "execution_count": null,
   "id": "9b65743e",
   "metadata": {},
   "outputs": [],
   "source": [
    "df[['Employee', 'Salary']]"
   ]
  },
  {
   "cell_type": "code",
   "execution_count": null,
   "id": "5e130873",
   "metadata": {},
   "outputs": [],
   "source": [
    "df.sample(1)"
   ]
  },
  {
   "cell_type": "code",
   "execution_count": null,
   "id": "5f756e5c",
   "metadata": {},
   "outputs": [],
   "source": [
    "df.head(1)"
   ]
  },
  {
   "cell_type": "code",
   "execution_count": null,
   "id": "a0d000c1",
   "metadata": {},
   "outputs": [],
   "source": [
    "df.tail(1)"
   ]
  }
 ],
 "metadata": {
  "kernelspec": {
   "display_name": "Python 3 (ipykernel)",
   "language": "python",
   "name": "python3"
  },
  "language_info": {
   "codemirror_mode": {
    "name": "ipython",
    "version": 3
   },
   "file_extension": ".py",
   "mimetype": "text/x-python",
   "name": "python",
   "nbconvert_exporter": "python",
   "pygments_lexer": "ipython3",
   "version": "3.11.5"
  }
 },
 "nbformat": 4,
 "nbformat_minor": 5
}
