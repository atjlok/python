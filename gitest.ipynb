{
 "cells": [
  {
   "cell_type": "markdown",
   "id": "06074fdb",
   "metadata": {},
   "source": [
    "Question - 1"
   ]
  },
  {
   "cell_type": "code",
   "execution_count": null,
   "id": "366d35e4",
   "metadata": {},
   "outputs": [],
   "source": [
    "print(\"hello\")"
   ]
  },
  {
   "cell_type": "markdown",
   "id": "86f1d45f",
   "metadata": {},
   "source": [
    "Question - 2"
   ]
  },
  {
   "cell_type": "code",
   "execution_count": null,
   "id": "c686cf9d",
   "metadata": {},
   "outputs": [],
   "source": [
    "print(\"testing\") "
   ]
  },
  {
   "cell_type": "markdown",
   "id": "e37ca4cc",
   "metadata": {},
   "source": [
    "Question-3"
   ]
  },
  {
   "cell_type": "code",
   "execution_count": null,
   "id": "65308254",
   "metadata": {},
   "outputs": [],
   "source": [
    "print(\"Checking\")"
   ]
  },
  {
   "cell_type": "markdown",
   "id": "afda3951",
   "metadata": {},
   "source": [
    "Question-4"
   ]
  },
  {
   "cell_type": "code",
   "execution_count": null,
   "id": "b80e60b3",
   "metadata": {},
   "outputs": [],
   "source": [
    "print(\"Checking-2\")"
   ]
  }
 ],
 "metadata": {
  "kernelspec": {
   "display_name": "Python 3 (ipykernel)",
   "language": "python",
   "name": "python3"
  },
  "language_info": {
   "codemirror_mode": {
    "name": "ipython",
    "version": 3
   },
   "file_extension": ".py",
   "mimetype": "text/x-python",
   "name": "python",
   "nbconvert_exporter": "python",
   "pygments_lexer": "ipython3",
   "version": "3.11.5"
  }
 },
 "nbformat": 4,
 "nbformat_minor": 5
}
